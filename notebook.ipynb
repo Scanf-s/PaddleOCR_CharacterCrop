{
 "cells": [
  {
   "cell_type": "markdown",
   "id": "69ddc8b47240588",
   "metadata": {},
   "source": [
    "# Paddle OCR을 실행해보자"
   ]
  },
  {
   "cell_type": "code",
   "execution_count": null,
   "id": "1f7ea4686c2182a",
   "metadata": {
    "ExecuteTime": {
     "end_time": "2025-03-19T15:06:24.952191Z",
     "start_time": "2025-03-19T15:06:24.330987Z"
    }
   },
   "outputs": [],
   "source": [
    "# CUDA-11.8이 설치되어 있는 GPU 사용 가능한 컴퓨터기 때문에 gpu 버전 다운로드\n",
    "# !pip install paddlepaddle-gpu\n",
    "%pip install paddlepaddle-gpu"
   ]
  },
  {
   "cell_type": "code",
   "execution_count": null,
   "id": "86d0cc679a3a8b5f",
   "metadata": {
    "ExecuteTime": {
     "end_time": "2025-03-19T15:06:25.665774Z",
     "start_time": "2025-03-19T15:06:24.957041Z"
    }
   },
   "outputs": [],
   "source": [
    "# PaddleOCR whl package 설치\n",
    "# !pip install \"paddleocr>=2.0.1\"\n",
    "%pip install paddleocr"
   ]
  },
  {
   "cell_type": "markdown",
   "id": "6f7a194dc358c8ea",
   "metadata": {},
   "source": [
    "# 한번 사용해보도록 하자\n",
    "\n",
    "실행하기 전, 컴퓨터에 cuDNN이 설치되어있는지 확인하자. 없다면 설치\n",
    "\n",
    "CUDA 11.8 사용 기준으로\n",
    "\n",
    "wget https://developer.download.nvidia.com/compute/cuda/repos/ubuntu2204/x86_64/cuda-keyring_1.1-1_all.deb\n",
    "sudo dpkg -i cuda-keyring_1.1-1_all.deb\n",
    "sudo apt-get update\n",
    "sudo apt-get -y install cudnn\n",
    "sudo apt-get -y install cudnn-cuda-11"
   ]
  },
  {
   "cell_type": "code",
   "execution_count": null,
   "id": "8680603255355a2e",
   "metadata": {
    "ExecuteTime": {
     "end_time": "2025-03-19T15:06:25.709911Z",
     "start_time": "2025-03-19T15:06:25.706577Z"
    }
   },
   "outputs": [],
   "source": [
    "import paddle\n",
    "print(f\"Is compiled with CUDA? {paddle.is_compiled_with_cuda()}\")\n",
    "print(f\"CUDA devices:, {paddle.device.cuda.device_count()}\")"
   ]
  },
  {
   "cell_type": "code",
   "execution_count": null,
   "id": "a41f03112068d97b",
   "metadata": {
    "ExecuteTime": {
     "end_time": "2025-03-19T15:06:25.752433Z",
     "start_time": "2025-03-19T15:06:25.749470Z"
    }
   },
   "outputs": [],
   "source": [
    "# 콘솔에 아래 명령 입력\n",
    "# paddleocr --image_dir .책표지_기타_000001.jpg --lang=korean"
   ]
  },
  {
   "cell_type": "code",
   "execution_count": null,
   "id": "2293139ffa7f2462",
   "metadata": {
    "ExecuteTime": {
     "end_time": "2025-03-19T15:06:28.733811Z",
     "start_time": "2025-03-19T15:06:25.795203Z"
    }
   },
   "outputs": [],
   "source": [
    "from paddleocr import PaddleOCR,draw_ocr\n",
    "\n",
    "ocr = PaddleOCR(lang=\"korean\")"
   ]
  },
  {
   "cell_type": "code",
   "execution_count": null,
   "id": "dee77a486932d110",
   "metadata": {
    "ExecuteTime": {
     "end_time": "2025-03-19T15:06:28.900051Z",
     "start_time": "2025-03-19T15:06:28.770592Z"
    }
   },
   "outputs": [],
   "source": [
    "# 코드로 실행하자면?\n",
    "\n",
    "img_path = 'test_imgs/test33.jpg'\n",
    "result = ocr.ocr(img_path, cls=True)\n",
    "for idx in range(len(result)):\n",
    "    res = result[idx]\n",
    "    for line in res:\n",
    "        print(line)\n",
    "\n",
    "\n",
    "# draw result\n",
    "from PIL import Image\n",
    "result = result[0]\n",
    "image = Image.open(img_path).convert('RGB')\n",
    "boxes = [line[0] for line in result]\n",
    "txts = [line[1][0] for line in result]\n",
    "scores = [line[1][1] for line in result]\n",
    "im_show = draw_ocr(image, boxes, txts, scores, font_path='MaruBuri-Regular.ttf')\n",
    "im_show = Image.fromarray(im_show)\n",
    "im_show.save('first_ocr_result.jpg')\n",
    "im_show.show()"
   ]
  },
  {
   "cell_type": "code",
   "execution_count": null,
   "id": "a9dc41c91255c263",
   "metadata": {
    "ExecuteTime": {
     "end_time": "2025-03-19T15:06:28.940860Z",
     "start_time": "2025-03-19T15:06:28.937414Z"
    }
   },
   "outputs": [],
   "source": [
    "# for idx in range(len(boxes)):\n",
    "#     print(f\"boxes: {boxes[idx]}, txts: {txts[idx]}\")\n",
    "\n",
    "# 한글 또는 영어, 숫자 txt만 포함된 box로 재구성\n",
    "boxes = [boxes[idx] for idx in range(len(boxes)) if txts[idx].isalnum()]\n",
    "\n",
    "for idx in range(len(boxes)):\n",
    "    print(f\"boxes: {boxes[idx]}\")"
   ]
  },
  {
   "cell_type": "code",
   "execution_count": null,
   "id": "fe5536aefc7063b3",
   "metadata": {
    "ExecuteTime": {
     "end_time": "2025-03-19T15:06:29.690703Z",
     "start_time": "2025-03-19T15:06:28.979622Z"
    }
   },
   "outputs": [],
   "source": [
    "# !pip install --upgrade pip\n",
    "%pip install --upgrade pip"
   ]
  },
  {
   "cell_type": "code",
   "execution_count": null,
   "id": "898890cb01f45a4d",
   "metadata": {
    "ExecuteTime": {
     "end_time": "2025-03-19T15:06:30.350997Z",
     "start_time": "2025-03-19T15:06:29.728553Z"
    }
   },
   "outputs": [],
   "source": [
    "# !pip install opencv-python\n",
    "%pip install opencv-python"
   ]
  },
  {
   "cell_type": "code",
   "execution_count": null,
   "id": "121b44dda1bea524",
   "metadata": {
    "ExecuteTime": {
     "end_time": "2025-03-19T15:06:30.390376Z",
     "start_time": "2025-03-19T15:06:30.385455Z"
    }
   },
   "outputs": [],
   "source": [
    "import cv2\n",
    "import numpy as np\n",
    "\n",
    "# 1. cv2 imread로 그레이스케일 이미지 획득\n",
    "image = cv2.imread('test_imgs/test33.jpg', cv2.IMREAD_GRAYSCALE)\n",
    "\n",
    "# 2. 연산 효율성을 올리기 위해 boxes를 numpy array로 변환\n",
    "boxes_np_arr = np.array([])\n",
    "if boxes and len(boxes) > 0:\n",
    "    boxes_np_arr = np.array([np.array(box) for box in boxes])\n",
    "\n",
    "    for box in boxes:\n",
    "        print(box)\n",
    "else:\n",
    "    print(\"No boxes\")"
   ]
  },
  {
   "cell_type": "code",
   "execution_count": null,
   "id": "9b67038a40177bf",
   "metadata": {
    "ExecuteTime": {
     "end_time": "2025-03-19T15:06:30.462454Z",
     "start_time": "2025-03-19T15:06:30.427171Z"
    }
   },
   "outputs": [],
   "source": [
    "# 3. 각 box = bounding box\n",
    "# bounding box 영역 안에 있는 각 영역을 Crop해서 새로운 이미지로 추출한다\n",
    "import os\n",
    "\n",
    "current_path = os.getcwd()\n",
    "os.makedirs(current_path + \"/cropped\", exist_ok=True)\n",
    "croped_images = []\n",
    "\n",
    "for idx, box in enumerate(boxes_np_arr):\n",
    "    # box 점 정렬\n",
    "    rect = np.zeros((4, 2), dtype=\"float32\")\n",
    "    s = box.sum(axis=1) # 네 좌표의 합\n",
    "    diff = np.diff(box, axis=1) # 네 좌표의 차이\n",
    "    rect[0] = box[np.argmin(s)] # 좌상단 좌표\n",
    "    rect[2] = box[np.argmax(s)] # 우하단 좌표\n",
    "    rect[1] = box[np.argmin(diff)] # 우상단 좌표\n",
    "    rect[3] = box[np.argmax(diff)] # 좌하단 좌표\n",
    "\n",
    "    # rect = [ 좌상, 우상, 우하, 좌하 ]\n",
    "\n",
    "    # 네 꼭짓점 좌표를 numpy array로 변환\n",
    "    # 이때, 검출 영역이 너무 Fit하게 되어있어서 +10을 해준다\n",
    "    offset = 10\n",
    "    image_height, image_width = image.shape[:2]\n",
    "    image_height -= 1\n",
    "    image_width -= 1\n",
    "\n",
    "    # rect[0] = 좌상단\n",
    "    x1 = max(0, rect[0][0] - offset)\n",
    "    y1 = max(0, rect[0][1] - offset)\n",
    "    # rect[1] = 우상단\n",
    "    x2 = min(rect[1][0] + offset, image_width)\n",
    "    y2 = max(0, rect[1][1] - offset)\n",
    "    # rect[2] = 우하단\n",
    "    x3 = min(rect[2][0] + offset, image_width)\n",
    "    y3 = min(rect[2][1] + offset, image_height)\n",
    "    # rect[3] = 좌하단\n",
    "    x4 = max(0, rect[3][0] - offset)\n",
    "    y4 = min(rect[3][1] + offset, image_height)\n",
    "    pts = np.array(\n",
    "        [\n",
    "            [x1, y1],\n",
    "            [x2, y2],\n",
    "            [x3, y3],\n",
    "            [x4, y4]\n",
    "        ],\n",
    "        dtype=\"float32\"\n",
    "    )\n",
    "\n",
    "    # 네 좌표를 바탕으로 이미지의 너비 및 높이 계산\n",
    "    widthA = np.sqrt((pts[2][0] - pts[3][0])**2 + (pts[2][1] - pts[3][1])**2)\n",
    "    widthB = np.sqrt((pts[1][0] - pts[0][0])**2 + (pts[1][1] - pts[0][1])**2)\n",
    "    maxWidth = max(int(widthA), int(widthB))\n",
    "\n",
    "    heightA = np.sqrt((pts[1][0] - pts[2][0])**2 + (pts[1][1] - pts[2][1])**2)\n",
    "    heightB = np.sqrt((pts[0][0] - pts[3][0])**2 + (pts[0][1] - pts[3][1])**2)\n",
    "    maxHeight = max(int(heightA), int(heightB))\n",
    "\n",
    "    # print(maxWidth, maxHeight)\n",
    "\n",
    "    # 출력될 이미지 좌표 설정\n",
    "    dst = np.array(\n",
    "        [\n",
    "            [0, 0],\n",
    "            [maxWidth - 1, 0],\n",
    "            [maxWidth - 1, maxHeight - 1],\n",
    "            [0, maxHeight - 1]\n",
    "        ],\n",
    "        dtype=\"float32\"\n",
    "    )\n",
    "\n",
    "    # Perspective Transformation\n",
    "    M = cv2.getPerspectiveTransform(pts, dst)\n",
    "    warped = cv2.warpPerspective(image, M, (maxWidth, maxHeight))\n",
    "\n",
    "    # 음영 제거 -> 모폴로지 연산\n",
    "    kernel_size = 150\n",
    "    kernel = cv2.getStructuringElement(cv2.MORPH_ELLIPSE, (kernel_size, kernel_size))\n",
    "\n",
    "    background = cv2.morphologyEx(warped, cv2.MORPH_OPEN, kernel)\n",
    "    gray_minus_bg = cv2.subtract(warped, background)\n",
    "    normed = cv2.normalize(gray_minus_bg, None, 0, 255, cv2.NORM_MINMAX)\n",
    "\n",
    "    croped_images.append(normed)\n",
    "    cv2.imwrite(f\"./cropped/croped_{idx}.jpg\", normed)"
   ]
  },
  {
   "cell_type": "code",
   "execution_count": null,
   "id": "1f8e54b4c25794be",
   "metadata": {
    "ExecuteTime": {
     "end_time": "2025-03-19T15:06:30.490961Z",
     "start_time": "2025-03-19T15:06:30.488318Z"
    }
   },
   "outputs": [],
   "source": [
    "print(len(croped_images))"
   ]
  },
  {
   "cell_type": "code",
   "execution_count": null,
   "id": "23d69b788df2a1bc",
   "metadata": {
    "ExecuteTime": {
     "end_time": "2025-03-19T15:06:30.535981Z",
     "start_time": "2025-03-19T15:06:30.529657Z"
    }
   },
   "outputs": [],
   "source": [
    "# 이미지 전처리\n",
    "os.makedirs(current_path + \"/preprocessed\", exist_ok=True)\n",
    "cropped_dir = current_path + \"/cropped\"\n",
    "for idx, filename in enumerate(os.listdir(cropped_dir)):\n",
    "    croped_image = cv2.imread(f\"{cropped_dir}/{filename}\", cv2.IMREAD_GRAYSCALE)\n",
    "    \n",
    "    # 이진화\n",
    "    _, bin = cv2.threshold(croped_image, 127, 255, cv2.THRESH_BINARY + cv2.THRESH_OTSU)\n",
    "    \n",
    "    # 가우시안 블러\n",
    "    blurred = cv2.GaussianBlur(bin, (5, 5), 0)\n",
    "\n",
    "    # 만약 배경이 반전되어 있다면 invert\n",
    "    if np.mean(blurred) < 128:\n",
    "        blurred = cv2.bitwise_not(blurred)\n",
    "    \n",
    "    # 이미지 샤프닝\n",
    "    kernel = np.array([[-1, -1, -1], [-1, 9, -1], [-1, -1, -1]])\n",
    "    sharpened = cv2.filter2D(blurred, -1, kernel)\n",
    "    \n",
    "    # 침식 연산\n",
    "    kernel_size = 3\n",
    "    closed = cv2.erode(sharpened, np.ones((kernel_size, kernel_size), np.uint8), iterations=1)\n",
    "\n",
    "    cv2.imwrite(f\"./preprocessed/preprocessed_{idx}.png\", closed)\n"
   ]
  },
  {
   "cell_type": "code",
   "execution_count": null,
   "id": "373274964ece0a06",
   "metadata": {
    "ExecuteTime": {
     "end_time": "2025-03-19T15:06:30.588080Z",
     "start_time": "2025-03-19T15:06:30.578592Z"
    }
   },
   "outputs": [],
   "source": [
    "# 전처리 이미지 불러와서 테두리 따고, 한 글자씩 추출\n",
    "binarizationed_images = []\n",
    "preprocessed_dir = current_path + \"/preprocessed/\"\n",
    "\n",
    "for filename in sorted(os.listdir(preprocessed_dir)):\n",
    "    if filename.endswith((\".png\", \".jpg\", \".jpeg\")):  # Correct way to check multiple extensions\n",
    "        img_path = os.path.join(preprocessed_dir, filename)\n",
    "        # Load as grayscale directly\n",
    "        img = cv2.imread(img_path, cv2.IMREAD_GRAYSCALE)\n",
    "        _, thresh = cv2.threshold(img, 0, 255, cv2.THRESH_BINARY + cv2.THRESH_OTSU)\n",
    "        thresh_inv = cv2.bitwise_not(thresh)\n",
    "\n",
    "        if thresh_inv is not None:\n",
    "            binarizationed_images.append(thresh_inv)\n",
    "\n",
    "print(f\"Loaded {len(binarizationed_images)} images\")\n"
   ]
  },
  {
   "cell_type": "code",
   "execution_count": null,
   "id": "3988b2aa",
   "metadata": {},
   "outputs": [],
   "source": [
    "os.makedirs(current_path + \"/contours\", exist_ok=True)\n",
    "\n",
    "for idx, image in enumerate(binarizationed_images):\n",
    "    contours, _ = cv2.findContours(\n",
    "        image,\n",
    "        cv2.RETR_TREE,\n",
    "        cv2.CHAIN_APPROX_SIMPLE\n",
    "    )\n",
    "\n",
    "    # 외곽선 기반으로 각 글자 이미지 추출\n",
    "    for contour in contours:\n",
    "        x, y, w, h = cv2.boundingRect(contour)\n",
    "        aspect_ratio = w / float(h)\n",
    "\n",
    "        print(f\"Contour: {x}, {y}, {w}, {h}\")\n",
    "        \n",
    "        # 면적이나 가로세로 비율을 엄격하게 조정\n",
    "        area = cv2.contourArea(contour)\n",
    "        if aspect_ratio > 1.2 or aspect_ratio < 0.5 or area < 10:\n",
    "            continue\n",
    "\n",
    "        # w, h 비율이 1.4 : 1 이상 넘어가는 이미지는 제거\n",
    "        # if w / h > 1.4:\n",
    "        #     continue\n",
    "\n",
    "        character = image[y:y+h, x:x+w]\n",
    "        character = ~character\n",
    "        \n",
    "        # 상하좌우 5px 흰색배경 추가\n",
    "        padding = 5\n",
    "        expanded = cv2.copyMakeBorder(\n",
    "            character, \n",
    "            padding, padding, padding, padding, \n",
    "            cv2.BORDER_CONSTANT, \n",
    "            value=(255, 255, 255)\n",
    "        )\n",
    "\n",
    "        cv2.imwrite(f\"./contours/contour_{idx}_{x}_{y}_{w}_{h}.jpg\", expanded)"
   ]
  },
  {
   "cell_type": "code",
   "execution_count": null,
   "id": "84918cff",
   "metadata": {},
   "outputs": [],
   "source": [
    "# 이미지 절대 크기가 30px 이상인 이미지만 선택\n",
    "os.makedirs(current_path + \"/best_size\", exist_ok=True)\n",
    "contours_dir = current_path + \"/contours\"\n",
    "for idx, filename in enumerate(os.listdir(contours_dir)):\n",
    "    character = cv2.imread(f\"{contours_dir}/{filename}\", cv2.IMREAD_GRAYSCALE)\n",
    "    height, width = character.shape[:2]\n",
    "\n",
    "    if height < 30 or width < 30:\n",
    "        continue\n",
    "    \n",
    "    cv2.imwrite(f\"./best_size/character_{idx}.jpg\", character)\n"
   ]
  },
  {
   "cell_type": "code",
   "execution_count": null,
   "id": "f583861e4b752d6e",
   "metadata": {
    "ExecuteTime": {
     "end_time": "2025-03-19T15:06:30.746511Z",
     "start_time": "2025-03-19T15:06:30.629140Z"
    }
   },
   "outputs": [],
   "source": [
    "import re\n",
    "\n",
    "os.makedirs(current_path + \"/final\", exist_ok=True)\n",
    "save_dir = current_path + \"/final/\"\n",
    "best_size_dir = current_path + \"/best_size/\"\n",
    "\n",
    "for idx, filename in enumerate(sorted(os.listdir(best_size_dir))):\n",
    "    if filename.endswith((\".png\", \".jpg\", \".jpeg\")):\n",
    "        img = cv2.imread(f\"{best_size_dir}\" + filename, cv2.IMREAD_GRAYSCALE)\n",
    "        result = ocr.ocr(img, det=False, rec=True, cls=False)\n",
    "\n",
    "        # 전체 픽셀 중 흰색 픽셀 대 검정 픽셀 비율이 80% 이상인 경우 continue\n",
    "        if np.mean(img) > 200:\n",
    "            continue\n",
    "\n",
    "        if not result or not result[0] or not result[0][0]: # 인식 못하면 continue\n",
    "            continue\n",
    "\n",
    "        text = result[0][0][0]\n",
    "        confidence = result[0][0][1]\n",
    "\n",
    "        if re.search(r\"[^가-힣ㄱ-ㅎㅏ-ㅣ]\", text): # 한글이 아닌 문자가 있는 경우 continue\n",
    "            continue\n",
    "\n",
    "        if text and len(text) == 1 and confidence > 0.8:\n",
    "            print(f\"#### {idx}th // Character: {text}, Confidence: {confidence}\")\n",
    "            cv2.imwrite(save_dir + f\"{text}.jpg\", img)\n"
   ]
  },
  {
   "cell_type": "code",
   "execution_count": null,
   "id": "d191a9ac",
   "metadata": {},
   "outputs": [],
   "source": [
    "# import shutil\n",
    "# import os\n",
    "\n",
    "# current_path = os.getcwd()\n",
    "\n",
    "# shutil.rmtree(current_path + \"/cropped\")\n",
    "# shutil.rmtree(current_path + \"/preprocessed\")\n",
    "# shutil.rmtree(current_path + \"/contours\")\n",
    "# shutil.rmtree(current_path + \"/best_size\")\n",
    "# shutil.rmtree(current_path + \"/final\")\n",
    "\n",
    "# print(\"All directories removed successfully\")"
   ]
  }
 ],
 "metadata": {
  "kernelspec": {
   "display_name": "paddlenet",
   "language": "python",
   "name": "python3"
  },
  "language_info": {
   "codemirror_mode": {
    "name": "ipython",
    "version": 3
   },
   "file_extension": ".py",
   "mimetype": "text/x-python",
   "name": "python",
   "nbconvert_exporter": "python",
   "pygments_lexer": "ipython3",
   "version": "3.12.9"
  }
 },
 "nbformat": 4,
 "nbformat_minor": 5
}
