{
 "cells": [
  {
   "metadata": {},
   "cell_type": "markdown",
   "source": "# Paddle OCR을 실행해보자",
   "id": "69ddc8b47240588"
  },
  {
   "metadata": {
    "ExecuteTime": {
     "end_time": "2025-03-19T15:06:24.952191Z",
     "start_time": "2025-03-19T15:06:24.330987Z"
    }
   },
   "cell_type": "code",
   "source": [
    "# CUDA-11.8이 설치되어 있는 GPU 사용 가능한 컴퓨터기 때문에 gpu 버전 다운로드\n",
    "!pip install paddlepaddle-gpu"
   ],
   "id": "1f7ea4686c2182a",
   "outputs": [
    {
     "name": "stdout",
     "output_type": "stream",
     "text": [
      "/bin/bash: warning: setlocale: LC_ALL: cannot change locale (en_US.UTF-8)\r\n",
      "Requirement already satisfied: paddlepaddle-gpu in ./.venv/lib/python3.12/site-packages (2.6.2)\r\n",
      "Requirement already satisfied: httpx in ./.venv/lib/python3.12/site-packages (from paddlepaddle-gpu) (0.28.1)\r\n",
      "Requirement already satisfied: numpy>=1.13 in ./.venv/lib/python3.12/site-packages (from paddlepaddle-gpu) (2.2.3)\r\n",
      "Requirement already satisfied: Pillow in ./.venv/lib/python3.12/site-packages (from paddlepaddle-gpu) (11.1.0)\r\n",
      "Requirement already satisfied: decorator in ./.venv/lib/python3.12/site-packages (from paddlepaddle-gpu) (5.2.1)\r\n",
      "Requirement already satisfied: astor in ./.venv/lib/python3.12/site-packages (from paddlepaddle-gpu) (0.8.1)\r\n",
      "Requirement already satisfied: opt-einsum==3.3.0 in ./.venv/lib/python3.12/site-packages (from paddlepaddle-gpu) (3.3.0)\r\n",
      "Requirement already satisfied: protobuf>=3.20.2 in ./.venv/lib/python3.12/site-packages (from paddlepaddle-gpu) (6.30.1)\r\n",
      "Requirement already satisfied: anyio in ./.venv/lib/python3.12/site-packages (from httpx->paddlepaddle-gpu) (4.8.0)\r\n",
      "Requirement already satisfied: certifi in ./.venv/lib/python3.12/site-packages (from httpx->paddlepaddle-gpu) (2025.1.31)\r\n",
      "Requirement already satisfied: httpcore==1.* in ./.venv/lib/python3.12/site-packages (from httpx->paddlepaddle-gpu) (1.0.7)\r\n",
      "Requirement already satisfied: idna in ./.venv/lib/python3.12/site-packages (from httpx->paddlepaddle-gpu) (3.10)\r\n",
      "Requirement already satisfied: h11<0.15,>=0.13 in ./.venv/lib/python3.12/site-packages (from httpcore==1.*->httpx->paddlepaddle-gpu) (0.14.0)\r\n",
      "Requirement already satisfied: sniffio>=1.1 in ./.venv/lib/python3.12/site-packages (from anyio->httpx->paddlepaddle-gpu) (1.3.1)\r\n",
      "Requirement already satisfied: typing_extensions>=4.5 in ./.venv/lib/python3.12/site-packages (from anyio->httpx->paddlepaddle-gpu) (4.12.2)\r\n"
     ]
    }
   ],
   "execution_count": 584
  },
  {
   "metadata": {
    "ExecuteTime": {
     "end_time": "2025-03-19T15:06:25.665774Z",
     "start_time": "2025-03-19T15:06:24.957041Z"
    }
   },
   "cell_type": "code",
   "source": [
    "# PaddleOCR whl package 설치\n",
    "!pip install \"paddleocr>=2.0.1\""
   ],
   "id": "86d0cc679a3a8b5f",
   "outputs": [
    {
     "name": "stdout",
     "output_type": "stream",
     "text": [
      "/bin/bash: warning: setlocale: LC_ALL: cannot change locale (en_US.UTF-8)\r\n",
      "Requirement already satisfied: paddleocr>=2.0.1 in ./.venv/lib/python3.12/site-packages (2.10.0)\r\n",
      "Requirement already satisfied: shapely in ./.venv/lib/python3.12/site-packages (from paddleocr>=2.0.1) (2.0.7)\r\n",
      "Requirement already satisfied: scikit-image in ./.venv/lib/python3.12/site-packages (from paddleocr>=2.0.1) (0.25.2)\r\n",
      "Requirement already satisfied: pyclipper in ./.venv/lib/python3.12/site-packages (from paddleocr>=2.0.1) (1.3.0.post6)\r\n",
      "Requirement already satisfied: lmdb in ./.venv/lib/python3.12/site-packages (from paddleocr>=2.0.1) (1.6.2)\r\n",
      "Requirement already satisfied: tqdm in ./.venv/lib/python3.12/site-packages (from paddleocr>=2.0.1) (4.67.1)\r\n",
      "Requirement already satisfied: numpy in ./.venv/lib/python3.12/site-packages (from paddleocr>=2.0.1) (2.2.3)\r\n",
      "Requirement already satisfied: rapidfuzz in ./.venv/lib/python3.12/site-packages (from paddleocr>=2.0.1) (3.12.2)\r\n",
      "Requirement already satisfied: opencv-python in ./.venv/lib/python3.12/site-packages (from paddleocr>=2.0.1) (4.11.0.86)\r\n",
      "Requirement already satisfied: opencv-contrib-python in ./.venv/lib/python3.12/site-packages (from paddleocr>=2.0.1) (4.11.0.86)\r\n",
      "Requirement already satisfied: cython in ./.venv/lib/python3.12/site-packages (from paddleocr>=2.0.1) (3.0.12)\r\n",
      "Requirement already satisfied: Pillow in ./.venv/lib/python3.12/site-packages (from paddleocr>=2.0.1) (11.1.0)\r\n",
      "Requirement already satisfied: pyyaml in ./.venv/lib/python3.12/site-packages (from paddleocr>=2.0.1) (6.0.2)\r\n",
      "Requirement already satisfied: python-docx in ./.venv/lib/python3.12/site-packages (from paddleocr>=2.0.1) (1.1.2)\r\n",
      "Requirement already satisfied: beautifulsoup4 in ./.venv/lib/python3.12/site-packages (from paddleocr>=2.0.1) (4.13.3)\r\n",
      "Requirement already satisfied: fonttools>=4.24.0 in ./.venv/lib/python3.12/site-packages (from paddleocr>=2.0.1) (4.56.0)\r\n",
      "Requirement already satisfied: fire>=0.3.0 in ./.venv/lib/python3.12/site-packages (from paddleocr>=2.0.1) (0.7.0)\r\n",
      "Requirement already satisfied: requests in ./.venv/lib/python3.12/site-packages (from paddleocr>=2.0.1) (2.32.3)\r\n",
      "Requirement already satisfied: albumentations in ./.venv/lib/python3.12/site-packages (from paddleocr>=2.0.1) (2.0.5)\r\n",
      "Requirement already satisfied: albucore in ./.venv/lib/python3.12/site-packages (from paddleocr>=2.0.1) (0.0.23)\r\n",
      "Requirement already satisfied: termcolor in ./.venv/lib/python3.12/site-packages (from fire>=0.3.0->paddleocr>=2.0.1) (2.5.0)\r\n",
      "Requirement already satisfied: stringzilla>=3.10.4 in ./.venv/lib/python3.12/site-packages (from albucore->paddleocr>=2.0.1) (3.12.3)\r\n",
      "Requirement already satisfied: simsimd>=5.9.2 in ./.venv/lib/python3.12/site-packages (from albucore->paddleocr>=2.0.1) (6.2.1)\r\n",
      "Requirement already satisfied: opencv-python-headless>=4.9.0.80 in ./.venv/lib/python3.12/site-packages (from albucore->paddleocr>=2.0.1) (4.11.0.86)\r\n",
      "Requirement already satisfied: scipy>=1.10.0 in ./.venv/lib/python3.12/site-packages (from albumentations->paddleocr>=2.0.1) (1.15.2)\r\n",
      "Requirement already satisfied: pydantic>=2.9.2 in ./.venv/lib/python3.12/site-packages (from albumentations->paddleocr>=2.0.1) (2.10.6)\r\n",
      "Requirement already satisfied: soupsieve>1.2 in ./.venv/lib/python3.12/site-packages (from beautifulsoup4->paddleocr>=2.0.1) (2.6)\r\n",
      "Requirement already satisfied: typing-extensions>=4.0.0 in ./.venv/lib/python3.12/site-packages (from beautifulsoup4->paddleocr>=2.0.1) (4.12.2)\r\n",
      "Requirement already satisfied: lxml>=3.1.0 in ./.venv/lib/python3.12/site-packages (from python-docx->paddleocr>=2.0.1) (5.3.1)\r\n",
      "Requirement already satisfied: charset-normalizer<4,>=2 in ./.venv/lib/python3.12/site-packages (from requests->paddleocr>=2.0.1) (3.4.1)\r\n",
      "Requirement already satisfied: idna<4,>=2.5 in ./.venv/lib/python3.12/site-packages (from requests->paddleocr>=2.0.1) (3.10)\r\n",
      "Requirement already satisfied: urllib3<3,>=1.21.1 in ./.venv/lib/python3.12/site-packages (from requests->paddleocr>=2.0.1) (2.3.0)\r\n",
      "Requirement already satisfied: certifi>=2017.4.17 in ./.venv/lib/python3.12/site-packages (from requests->paddleocr>=2.0.1) (2025.1.31)\r\n",
      "Requirement already satisfied: networkx>=3.0 in ./.venv/lib/python3.12/site-packages (from scikit-image->paddleocr>=2.0.1) (3.4.2)\r\n",
      "Requirement already satisfied: imageio!=2.35.0,>=2.33 in ./.venv/lib/python3.12/site-packages (from scikit-image->paddleocr>=2.0.1) (2.37.0)\r\n",
      "Requirement already satisfied: tifffile>=2022.8.12 in ./.venv/lib/python3.12/site-packages (from scikit-image->paddleocr>=2.0.1) (2025.3.13)\r\n",
      "Requirement already satisfied: packaging>=21 in ./.venv/lib/python3.12/site-packages (from scikit-image->paddleocr>=2.0.1) (24.2)\r\n",
      "Requirement already satisfied: lazy-loader>=0.4 in ./.venv/lib/python3.12/site-packages (from scikit-image->paddleocr>=2.0.1) (0.4)\r\n",
      "Requirement already satisfied: annotated-types>=0.6.0 in ./.venv/lib/python3.12/site-packages (from pydantic>=2.9.2->albumentations->paddleocr>=2.0.1) (0.7.0)\r\n",
      "Requirement already satisfied: pydantic-core==2.27.2 in ./.venv/lib/python3.12/site-packages (from pydantic>=2.9.2->albumentations->paddleocr>=2.0.1) (2.27.2)\r\n"
     ]
    }
   ],
   "execution_count": 585
  },
  {
   "metadata": {},
   "cell_type": "markdown",
   "source": [
    "# 한번 사용해보도록 하자\n",
    "\n",
    "실행하기 전, 컴퓨터에 cuDNN이 설치되어있는지 확인하자. 없다면 설치\n",
    "\n",
    "CUDA 11.8 사용 기준으로\n",
    "\n",
    "wget https://developer.download.nvidia.com/compute/cuda/repos/ubuntu2204/x86_64/cuda-keyring_1.1-1_all.deb\n",
    "sudo dpkg -i cuda-keyring_1.1-1_all.deb\n",
    "sudo apt-get update\n",
    "sudo apt-get -y install cudnn\n",
    "sudo apt-get -y install cudnn-cuda-11"
   ],
   "id": "6f7a194dc358c8ea"
  },
  {
   "metadata": {
    "ExecuteTime": {
     "end_time": "2025-03-19T15:06:25.709911Z",
     "start_time": "2025-03-19T15:06:25.706577Z"
    }
   },
   "cell_type": "code",
   "source": [
    "import paddle\n",
    "print(f\"Is compiled with CUDA? {paddle.is_compiled_with_cuda()}\")\n",
    "print(f\"CUDA devices:, {paddle.device.cuda.device_count()}\")"
   ],
   "id": "8680603255355a2e",
   "outputs": [
    {
     "name": "stdout",
     "output_type": "stream",
     "text": [
      "Is compiled with CUDA? True\n",
      "CUDA devices:, 1\n"
     ]
    }
   ],
   "execution_count": 586
  },
  {
   "metadata": {
    "ExecuteTime": {
     "end_time": "2025-03-19T15:06:25.752433Z",
     "start_time": "2025-03-19T15:06:25.749470Z"
    }
   },
   "cell_type": "code",
   "source": [
    "# 콘솔에 아래 명령 입력\n",
    "# paddleocr --image_dir .책표지_기타_000001.jpg --lang=korean"
   ],
   "id": "a41f03112068d97b",
   "outputs": [],
   "execution_count": 587
  },
  {
   "metadata": {
    "ExecuteTime": {
     "end_time": "2025-03-19T15:06:28.733811Z",
     "start_time": "2025-03-19T15:06:25.795203Z"
    }
   },
   "cell_type": "code",
   "source": [
    "from paddleocr import PaddleOCR,draw_ocr\n",
    "\n",
    "ocr = PaddleOCR(lang=\"korean\")"
   ],
   "id": "2293139ffa7f2462",
   "outputs": [
    {
     "name": "stdout",
     "output_type": "stream",
     "text": [
      "[2025/03/20 00:06:25] ppocr DEBUG: Namespace(help='==SUPPRESS==', use_gpu=True, use_xpu=False, use_npu=False, use_mlu=False, use_gcu=False, ir_optim=True, use_tensorrt=False, min_subgraph_size=15, precision='fp32', gpu_mem=500, gpu_id=0, image_dir=None, page_num=0, det_algorithm='DB', det_model_dir='/home/uijong/.paddleocr/whl/det/ml/Multilingual_PP-OCRv3_det_infer', det_limit_side_len=960, det_limit_type='max', det_box_type='quad', det_db_thresh=0.3, det_db_box_thresh=0.6, det_db_unclip_ratio=1.5, max_batch_size=10, use_dilation=False, det_db_score_mode='fast', det_east_score_thresh=0.8, det_east_cover_thresh=0.1, det_east_nms_thresh=0.2, det_sast_score_thresh=0.5, det_sast_nms_thresh=0.2, det_pse_thresh=0, det_pse_box_thresh=0.85, det_pse_min_area=16, det_pse_scale=1, scales=[8, 16, 32], alpha=1.0, beta=1.0, fourier_degree=5, rec_algorithm='SVTR_LCNet', rec_model_dir='/home/uijong/.paddleocr/whl/rec/korean/korean_PP-OCRv4_rec_infer', rec_image_inverse=True, rec_image_shape='3, 48, 320', rec_batch_num=6, max_text_length=25, rec_char_dict_path='/home/uijong/PyCharmMiscProject/.venv/lib/python3.12/site-packages/paddleocr/ppocr/utils/dict/korean_dict.txt', use_space_char=True, vis_font_path='./doc/fonts/simfang.ttf', drop_score=0.5, e2e_algorithm='PGNet', e2e_model_dir=None, e2e_limit_side_len=768, e2e_limit_type='max', e2e_pgnet_score_thresh=0.5, e2e_char_dict_path='./ppocr/utils/ic15_dict.txt', e2e_pgnet_valid_set='totaltext', e2e_pgnet_mode='fast', use_angle_cls=False, cls_model_dir='/home/uijong/.paddleocr/whl/cls/ch_ppocr_mobile_v2.0_cls_infer', cls_image_shape='3, 48, 192', label_list=['0', '180'], cls_batch_num=6, cls_thresh=0.9, enable_mkldnn=False, cpu_threads=10, use_pdserving=False, warmup=False, sr_model_dir=None, sr_image_shape='3, 32, 128', sr_batch_num=1, draw_img_save_dir='./inference_results', save_crop_res=False, crop_res_save_dir='./output', use_mp=False, total_process_num=1, process_id=0, benchmark=False, save_log_path='./log_output/', show_log=True, use_onnx=False, onnx_providers=False, onnx_sess_options=False, return_word_box=False, output='./output', table_max_len=488, table_algorithm='TableAttn', table_model_dir=None, merge_no_span_structure=True, table_char_dict_path=None, formula_algorithm='LaTeXOCR', formula_model_dir=None, formula_char_dict_path=None, formula_batch_num=1, layout_model_dir=None, layout_dict_path=None, layout_score_threshold=0.5, layout_nms_threshold=0.5, kie_algorithm='LayoutXLM', ser_model_dir=None, re_model_dir=None, use_visual_backbone=True, ser_dict_path='../train_data/XFUND/class_list_xfun.txt', ocr_order_method=None, mode='structure', image_orientation=False, layout=True, table=True, formula=False, ocr=True, recovery=False, recovery_to_markdown=False, use_pdf2docx_api=False, invert=False, binarize=False, alphacolor=(255, 255, 255), lang='korean', det=True, rec=True, type='ocr', savefile=False, ocr_version='PP-OCRv4', structure_version='PP-StructureV2')\n",
      "[2025/03/20 00:06:25] ppocr WARNING: The first GPU is used for inference by default, GPU ID: 0\n",
      "[2025/03/20 00:06:26] ppocr WARNING: The first GPU is used for inference by default, GPU ID: 0\n"
     ]
    }
   ],
   "execution_count": 588
  },
  {
   "metadata": {
    "ExecuteTime": {
     "end_time": "2025-03-19T15:06:28.900051Z",
     "start_time": "2025-03-19T15:06:28.770592Z"
    }
   },
   "cell_type": "code",
   "source": [
    "# 코드로 실행하자면?\n",
    "\n",
    "img_path = 'test_imgs/test14.jpg'\n",
    "result = ocr.ocr(img_path, cls=True)\n",
    "for idx in range(len(result)):\n",
    "    res = result[idx]\n",
    "    for line in res:\n",
    "        print(line)\n",
    "\n",
    "\n",
    "# draw result\n",
    "from PIL import Image\n",
    "result = result[0]\n",
    "image = Image.open(img_path).convert('RGB')\n",
    "boxes = [line[0] for line in result]\n",
    "txts = [line[1][0] for line in result]\n",
    "scores = [line[1][1] for line in result]\n",
    "im_show = draw_ocr(image, boxes, txts, scores, font_path='MaruBuri-Regular.ttf')\n",
    "im_show = Image.fromarray(im_show)\n",
    "im_show.save('first_ocr_result.jpg')\n",
    "im_show.show()"
   ],
   "id": "dee77a486932d110",
   "outputs": [
    {
     "name": "stdout",
     "output_type": "stream",
     "text": [
      "[2025/03/20 00:06:28] ppocr WARNING: Since the angle classifier is not initialized, it will not be used during the forward process\n",
      "[2025/03/20 00:06:28] ppocr DEBUG: dt_boxes num : 7, elapsed : 0.023177146911621094\n",
      "[2025/03/20 00:06:28] ppocr DEBUG: rec_res num  : 7, elapsed : 0.030938148498535156\n",
      "[[[99.0, 139.0], [290.0, 135.0], [291.0, 193.0], [100.0, 197.0]], ('한국축구는', 0.9993413686752319)]\n",
      "[[[306.0, 136.0], [479.0, 136.0], [479.0, 199.0], [306.0, 199.0]], ('죽었다!!', 0.999909520149231)]\n",
      "[[[138.0, 207.0], [226.0, 212.0], [225.0, 238.0], [136.0, 233.0]], ('다음카페', 0.9985363483428955)]\n",
      "[[[232.0, 211.0], [393.0, 217.0], [392.0, 246.0], [231.0, 240.0]], ('\"너땐에졌어\"', 0.9088563323020935)]\n"
     ]
    }
   ],
   "execution_count": 589
  },
  {
   "metadata": {
    "ExecuteTime": {
     "end_time": "2025-03-19T15:06:28.940860Z",
     "start_time": "2025-03-19T15:06:28.937414Z"
    }
   },
   "cell_type": "code",
   "source": [
    "# for idx in range(len(boxes)):\n",
    "#     print(f\"boxes: {boxes[idx]}, txts: {txts[idx]}\")\n",
    "\n",
    "# 한글 또는 영어, 숫자 txt만 포함된 box로 재구성\n",
    "boxes = [boxes[idx] for idx in range(len(boxes)) if txts[idx].isalnum()]\n",
    "\n",
    "for idx in range(len(boxes)):\n",
    "    print(f\"boxes: {boxes[idx]}\")"
   ],
   "id": "a9dc41c91255c263",
   "outputs": [
    {
     "name": "stdout",
     "output_type": "stream",
     "text": [
      "boxes: [[99.0, 139.0], [290.0, 135.0], [291.0, 193.0], [100.0, 197.0]]\n",
      "boxes: [[138.0, 207.0], [226.0, 212.0], [225.0, 238.0], [136.0, 233.0]]\n"
     ]
    }
   ],
   "execution_count": 590
  },
  {
   "metadata": {
    "ExecuteTime": {
     "end_time": "2025-03-19T15:06:29.690703Z",
     "start_time": "2025-03-19T15:06:28.979622Z"
    }
   },
   "cell_type": "code",
   "source": "!pip install --upgrade pip",
   "id": "fe5536aefc7063b3",
   "outputs": [
    {
     "name": "stdout",
     "output_type": "stream",
     "text": [
      "/bin/bash: warning: setlocale: LC_ALL: cannot change locale (en_US.UTF-8)\r\n",
      "Requirement already satisfied: pip in ./.venv/lib/python3.12/site-packages (25.0.1)\r\n"
     ]
    }
   ],
   "execution_count": 591
  },
  {
   "metadata": {
    "ExecuteTime": {
     "end_time": "2025-03-19T15:06:30.350997Z",
     "start_time": "2025-03-19T15:06:29.728553Z"
    }
   },
   "cell_type": "code",
   "source": "!pip install opencv-python",
   "id": "898890cb01f45a4d",
   "outputs": [
    {
     "name": "stdout",
     "output_type": "stream",
     "text": [
      "/bin/bash: warning: setlocale: LC_ALL: cannot change locale (en_US.UTF-8)\r\n",
      "Requirement already satisfied: opencv-python in ./.venv/lib/python3.12/site-packages (4.11.0.86)\r\n",
      "Requirement already satisfied: numpy>=1.21.2 in ./.venv/lib/python3.12/site-packages (from opencv-python) (2.2.3)\r\n"
     ]
    }
   ],
   "execution_count": 592
  },
  {
   "metadata": {
    "ExecuteTime": {
     "end_time": "2025-03-19T15:06:30.390376Z",
     "start_time": "2025-03-19T15:06:30.385455Z"
    }
   },
   "cell_type": "code",
   "source": [
    "import cv2\n",
    "import numpy as np\n",
    "\n",
    "# 1. cv2 imread로 다시 그레이스케일 이미지 획득\n",
    "image = cv2.imread('test_imgs/test14.jpg', cv2.IMREAD_GRAYSCALE)\n",
    "\n",
    "# 2. 연산 효율성을 올리기 위해 boxes를 numpy array로 변환\n",
    "boxes_np_arr = np.array([])\n",
    "if boxes and len(boxes) > 0:\n",
    "    boxes_np_arr = np.array([np.array(box) for box in boxes])\n",
    "\n",
    "    for box in boxes:\n",
    "        print(box)\n",
    "else:\n",
    "    print(\"No boxes\")"
   ],
   "id": "121b44dda1bea524",
   "outputs": [
    {
     "name": "stdout",
     "output_type": "stream",
     "text": [
      "[[99.0, 139.0], [290.0, 135.0], [291.0, 193.0], [100.0, 197.0]]\n",
      "[[138.0, 207.0], [226.0, 212.0], [225.0, 238.0], [136.0, 233.0]]\n"
     ]
    }
   ],
   "execution_count": 593
  },
  {
   "metadata": {
    "ExecuteTime": {
     "end_time": "2025-03-19T15:06:30.462454Z",
     "start_time": "2025-03-19T15:06:30.427171Z"
    }
   },
   "cell_type": "code",
   "source": [
    "# 3. 각 box = bounding box\n",
    "# bounding box 영역 안에 있는 각 영역을 Crop해서 새로운 이미지로 추출한다\n",
    "import os\n",
    "\n",
    "current_path = os.getcwd()\n",
    "os.makedirs(current_path + \"/cropped\", exist_ok=True)\n",
    "croped_images = []\n",
    "\n",
    "for idx, box in enumerate(boxes_np_arr):\n",
    "    # box 점 정렬\n",
    "    rect = np.zeros((4, 2), dtype=\"float32\")\n",
    "    s = box.sum(axis=1) # 네 좌표의 합\n",
    "    diff = np.diff(box, axis=1) # 네 좌표의 차이\n",
    "    rect[0] = box[np.argmin(s)] # 좌상단 좌표\n",
    "    rect[2] = box[np.argmax(s)] # 우하단 좌표\n",
    "    rect[1] = box[np.argmin(diff)] # 우상단 좌표\n",
    "    rect[3] = box[np.argmax(diff)] # 좌하단 좌표\n",
    "\n",
    "    # rect = [ 좌상, 우상, 우하, 좌하 ]\n",
    "\n",
    "    # 네 꼭짓점 좌표를 numpy array로 변환\n",
    "    # 이때, 검출 영역이 너무 Fit하게 되어있어서 +10을 해준다\n",
    "    offset = 10\n",
    "    image_height, image_width = image.shape[:2]\n",
    "    image_height -= 1\n",
    "    image_width -= 1\n",
    "\n",
    "    # rect[0] = 좌상단\n",
    "    x1 = max(0, rect[0][0] - offset)\n",
    "    y1 = max(0, rect[0][1] - offset)\n",
    "    # rect[1] = 우상단\n",
    "    x2 = min(rect[1][0] + offset, image_width)\n",
    "    y2 = max(0, rect[1][1] - offset)\n",
    "    # rect[2] = 우하단\n",
    "    x3 = min(rect[2][0] + offset, image_width)\n",
    "    y3 = min(rect[2][1] + offset, image_height)\n",
    "    # rect[3] = 좌하단\n",
    "    x4 = max(0, rect[3][0] - offset)\n",
    "    y4 = min(rect[3][1] + offset, image_height)\n",
    "    pts = np.array(\n",
    "        [\n",
    "            [x1, y1],\n",
    "            [x2, y2],\n",
    "            [x3, y3],\n",
    "            [x4, y4]\n",
    "        ],\n",
    "        dtype=\"float32\"\n",
    "    )\n",
    "\n",
    "    # 네 좌표를 바탕으로 이미지의 너비 및 높이 계산\n",
    "    widthA = np.sqrt((pts[2][0] - pts[3][0])**2 + (pts[2][1] - pts[3][1])**2)\n",
    "    widthB = np.sqrt((pts[1][0] - pts[0][0])**2 + (pts[1][1] - pts[0][1])**2)\n",
    "    maxWidth = max(int(widthA), int(widthB))\n",
    "\n",
    "    heightA = np.sqrt((pts[1][0] - pts[2][0])**2 + (pts[1][1] - pts[2][1])**2)\n",
    "    heightB = np.sqrt((pts[0][0] - pts[3][0])**2 + (pts[0][1] - pts[3][1])**2)\n",
    "    maxHeight = max(int(heightA), int(heightB))\n",
    "\n",
    "    # print(maxWidth, maxHeight)\n",
    "\n",
    "    # 출력될 이미지 좌표 설정\n",
    "    dst = np.array(\n",
    "        [\n",
    "            [0, 0],\n",
    "            [maxWidth - 1, 0],\n",
    "            [maxWidth - 1, maxHeight - 1],\n",
    "            [0, maxHeight - 1]\n",
    "        ],\n",
    "        dtype=\"float32\"\n",
    "    )\n",
    "\n",
    "    # Perspective Transformation\n",
    "    M = cv2.getPerspectiveTransform(pts, dst)\n",
    "    warped = cv2.warpPerspective(image, M, (maxWidth, maxHeight))\n",
    "\n",
    "    # 음영 제거 -> 모폴로지 연산\n",
    "    kernel_size = 150\n",
    "    kernel = cv2.getStructuringElement(cv2.MORPH_ELLIPSE, (kernel_size, kernel_size))\n",
    "\n",
    "    background = cv2.morphologyEx(warped, cv2.MORPH_OPEN, kernel)\n",
    "    gray_minus_bg = cv2.subtract(warped, background)\n",
    "    normed = cv2.normalize(gray_minus_bg, None, 0, 255, cv2.NORM_MINMAX)\n",
    "\n",
    "    croped_images.append(normed)\n",
    "    cv2.imwrite(f\"./cropped/croped_{idx}.png\", normed)"
   ],
   "id": "9b67038a40177bf",
   "outputs": [],
   "execution_count": 594
  },
  {
   "metadata": {
    "ExecuteTime": {
     "end_time": "2025-03-19T15:06:30.490961Z",
     "start_time": "2025-03-19T15:06:30.488318Z"
    }
   },
   "cell_type": "code",
   "source": "print(len(croped_images))",
   "id": "1f8e54b4c25794be",
   "outputs": [
    {
     "name": "stdout",
     "output_type": "stream",
     "text": [
      "2\n"
     ]
    }
   ],
   "execution_count": 595
  },
  {
   "metadata": {
    "ExecuteTime": {
     "end_time": "2025-03-19T15:06:30.535981Z",
     "start_time": "2025-03-19T15:06:30.529657Z"
    }
   },
   "cell_type": "code",
   "source": [
    "# 각 이미지 적응형 이진화 수행\n",
    "# 근데 이미지에 들어있는 글자가 검정색일수도 있고 흰색일수도 있어서\n",
    "# Crop된 이미지의 평균 픽셀값을 계산해서 평균값이 128보다 작으면 cv2.THRESH_BINARY_INV로 수행\n",
    "os.makedirs(current_path + \"/preprocessed\", exist_ok=True)\n",
    "\n",
    "for idx, croped_image in enumerate(croped_images):\n",
    "\n",
    "    # Median 블러링\n",
    "    blurred = cv2.medianBlur(croped_image, 3)\n",
    "\n",
    "    # 적응형 이진화\n",
    "    # binarization = cv2.adaptiveThreshold(\n",
    "    #     blurred,\n",
    "    #     maxValue=255,\n",
    "    #     adaptiveMethod=cv2.ADAPTIVE_THRESH_MEAN_C,\n",
    "    #     thresholdType=cv2.THRESH_BINARY,  # 또는 THRESH_BINARY_INV\n",
    "    #     blockSize=21,   # 주변 픽셀 블록 크기\n",
    "    #     C=13     # 결과에서 뺄 상수\n",
    "    # )\n",
    "    _, binarization = cv2.threshold(blurred, 127, 255, cv2.THRESH_BINARY + cv2.THRESH_OTSU)\n",
    "\n",
    "    # 만약 배경이 반전되어 있다면 invert\n",
    "    if np.mean(binarization) < 128:\n",
    "        binarization = cv2.bitwise_not(binarization)\n",
    "\n",
    "    kernel = np.ones((1, 1), np.uint8)\n",
    "    # opened = cv2.morphologyEx(binarization, cv2.MORPH_CLOSE, kernel)\n",
    "\n",
    "    opened = cv2.dilate(binarization, kernel, iterations=2)\n",
    "    # eroded = cv2.erode(binarization, kernel, iterations=1)\n",
    "\n",
    "    cv2.imwrite(f\"./preprocessed/preprocessed_{idx}.png\", opened)\n"
   ],
   "id": "23d69b788df2a1bc",
   "outputs": [],
   "execution_count": 596
  },
  {
   "metadata": {
    "ExecuteTime": {
     "end_time": "2025-03-19T15:06:30.588080Z",
     "start_time": "2025-03-19T15:06:30.578592Z"
    }
   },
   "cell_type": "code",
   "source": [
    "# 전처리 이미지 불러와서 테두리 따고, 한 글자씩 추출\n",
    "os.makedirs(current_path + \"/character\", exist_ok=True)\n",
    "binarizationed_images = []\n",
    "preprocessed_dir = current_path + \"/preprocessed/\"\n",
    "\n",
    "for filename in sorted(os.listdir(preprocessed_dir)):\n",
    "    if filename.endswith((\".png\", \".jpg\", \".jpeg\")):  # Correct way to check multiple extensions\n",
    "        img_path = os.path.join(preprocessed_dir, filename)\n",
    "        # Load as grayscale directly\n",
    "        img = cv2.imread(img_path, cv2.IMREAD_GRAYSCALE)\n",
    "        _, thresh = cv2.threshold(img, 0, 255, cv2.THRESH_BINARY + cv2.THRESH_OTSU)\n",
    "        thresh_inv = cv2.bitwise_not(thresh)\n",
    "\n",
    "        if thresh_inv is not None:\n",
    "            binarizationed_images.append(thresh_inv)\n",
    "\n",
    "print(f\"Loaded {len(binarizationed_images)} images\")\n",
    "\n",
    "for idx, image in enumerate(binarizationed_images):\n",
    "    contours, _ = cv2.findContours(\n",
    "        image,\n",
    "        cv2.RETR_EXTERNAL,\n",
    "        cv2.CHAIN_APPROX_SIMPLE\n",
    "    )\n",
    "\n",
    "    # 외곽선 기반으로 각 글자 이미지 추출\n",
    "    for contour in contours:\n",
    "        x, y, w, h = cv2.boundingRect(contour)\n",
    "\n",
    "        print(f\"Contour: {x}, {y}, {w}, {h}\")\n",
    "\n",
    "        # w, h 비율이 1.4 : 1 이상 넘어가는 이미지는 제거\n",
    "        if w / h > 1.4:\n",
    "            continue\n",
    "\n",
    "        character = image[y:y+h, x:x+w]\n",
    "        character = cv2.bitwise_not(character)\n",
    "        cv2.imwrite(f\"./character/character_{idx}_{x}_{y}_{w}_{h}.png\", character)\n"
   ],
   "id": "373274964ece0a06",
   "outputs": [
    {
     "name": "stdout",
     "output_type": "stream",
     "text": [
      "Loaded 2 images\n",
      "Contour: 166, 48, 31, 19\n",
      "Contour: 22, 46, 25, 15\n",
      "Contour: 163, 37, 39, 9\n",
      "Contour: 0, 21, 15, 57\n",
      "Contour: 86, 18, 35, 47\n",
      "Contour: 17, 17, 20, 27\n",
      "Contour: 123, 12, 37, 54\n",
      "Contour: 167, 10, 31, 22\n",
      "Contour: 39, 9, 45, 55\n",
      "Contour: 96, 8, 15, 8\n",
      "Contour: 21, 8, 12, 7\n",
      "Contour: 0, 45, 12, 1\n",
      "Contour: 54, 14, 10, 16\n",
      "Contour: 11, 13, 12, 16\n",
      "Contour: 75, 12, 23, 22\n",
      "Contour: 66, 12, 8, 22\n",
      "Contour: 24, 11, 28, 22\n",
      "Contour: 106, 10, 3, 8\n"
     ]
    }
   ],
   "execution_count": 597
  },
  {
   "metadata": {
    "ExecuteTime": {
     "end_time": "2025-03-19T15:06:30.746511Z",
     "start_time": "2025-03-19T15:06:30.629140Z"
    }
   },
   "cell_type": "code",
   "source": [
    "import re\n",
    "\n",
    "\n",
    "os.makedirs(current_path + \"/character_extracted\", exist_ok=True)\n",
    "character_extracted_dir = current_path + \"/character_extracted/\"\n",
    "character_dir = current_path + \"/character/\"\n",
    "\n",
    "for idx, filename in enumerate(sorted(os.listdir(character_dir))):\n",
    "    if filename.endswith((\".png\", \".jpg\", \".jpeg\")):\n",
    "        img = cv2.imread(f\"{character_dir}\" + filename, cv2.IMREAD_GRAYSCALE)\n",
    "        result = ocr.ocr(img, det=False, rec=True, cls=False)\n",
    "\n",
    "        # 전체 픽셀 중 흰색 픽셀 대 검정 픽셀 비율이 80% 이상인 경우 continue\n",
    "        if np.mean(img) > 200:\n",
    "            continue\n",
    "\n",
    "        if not result or not result[0] or not result[0][0]: # 인식 못하면 continue\n",
    "            continue\n",
    "\n",
    "        text = result[0][0][0]\n",
    "        confidence = result[0][0][1]\n",
    "\n",
    "        if re.search(r\"[^가-힣ㄱ-ㅎㅏ-ㅣ]\", text): # 한글이 아닌 문자가 있는 경우 continue\n",
    "            continue\n",
    "\n",
    "        if text and len(text) == 1 and confidence > 0.9:\n",
    "            print(f\"{idx}th // Character: {text}, Confidence: {confidence}\")\n",
    "            cv2.imwrite(character_extracted_dir + f\"character_{idx}_{confidence:.2f}.jpg\", img)\n"
   ],
   "id": "f583861e4b752d6e",
   "outputs": [
    {
     "name": "stdout",
     "output_type": "stream",
     "text": [
      "1th // Character: 구, Confidence: 0.9112302660942078\n",
      "3th // Character: 국, Confidence: 0.9955982565879822\n",
      "4th // Character: 죽, Confidence: 0.9493946433067322\n"
     ]
    }
   ],
   "execution_count": 598
  },
  {
   "metadata": {
    "ExecuteTime": {
     "end_time": "2025-03-19T15:06:30.768782Z",
     "start_time": "2025-03-19T15:06:30.767045Z"
    }
   },
   "cell_type": "code",
   "source": "",
   "id": "71d5bb080b67c13",
   "outputs": [],
   "execution_count": null
  }
 ],
 "metadata": {
  "kernelspec": {
   "display_name": "Python 3",
   "language": "python",
   "name": "python3"
  },
  "language_info": {
   "codemirror_mode": {
    "name": "ipython",
    "version": 2
   },
   "file_extension": ".py",
   "mimetype": "text/x-python",
   "name": "python",
   "nbconvert_exporter": "python",
   "pygments_lexer": "ipython2",
   "version": "2.7.6"
  }
 },
 "nbformat": 4,
 "nbformat_minor": 5
}
