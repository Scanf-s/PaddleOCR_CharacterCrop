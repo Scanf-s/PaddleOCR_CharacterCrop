{
 "cells": [
  {
   "cell_type": "markdown",
   "id": "69ddc8b47240588",
   "metadata": {},
   "source": [
    "# Paddle OCR을 실행해보자"
   ]
  },
  {
   "cell_type": "code",
   "execution_count": 27,
   "id": "1f7ea4686c2182a",
   "metadata": {
    "ExecuteTime": {
     "end_time": "2025-03-19T15:06:24.952191Z",
     "start_time": "2025-03-19T15:06:24.330987Z"
    }
   },
   "outputs": [
    {
     "name": "stdout",
     "output_type": "stream",
     "text": [
      "Requirement already satisfied: paddlepaddle-gpu in /home/sslab3/anaconda3/envs/paddlenet/lib/python3.12/site-packages (2.6.2)\n",
      "Requirement already satisfied: httpx in /home/sslab3/anaconda3/envs/paddlenet/lib/python3.12/site-packages (from paddlepaddle-gpu) (0.28.1)\n",
      "Requirement already satisfied: numpy>=1.13 in /home/sslab3/anaconda3/envs/paddlenet/lib/python3.12/site-packages (from paddlepaddle-gpu) (2.2.4)\n",
      "Requirement already satisfied: Pillow in /home/sslab3/anaconda3/envs/paddlenet/lib/python3.12/site-packages (from paddlepaddle-gpu) (11.1.0)\n",
      "Requirement already satisfied: decorator in /home/sslab3/anaconda3/envs/paddlenet/lib/python3.12/site-packages (from paddlepaddle-gpu) (5.2.1)\n",
      "Requirement already satisfied: astor in /home/sslab3/anaconda3/envs/paddlenet/lib/python3.12/site-packages (from paddlepaddle-gpu) (0.8.1)\n",
      "Requirement already satisfied: opt-einsum==3.3.0 in /home/sslab3/anaconda3/envs/paddlenet/lib/python3.12/site-packages (from paddlepaddle-gpu) (3.3.0)\n",
      "Requirement already satisfied: protobuf>=3.20.2 in /home/sslab3/anaconda3/envs/paddlenet/lib/python3.12/site-packages (from paddlepaddle-gpu) (6.30.1)\n",
      "Requirement already satisfied: anyio in /home/sslab3/anaconda3/envs/paddlenet/lib/python3.12/site-packages (from httpx->paddlepaddle-gpu) (4.9.0)\n",
      "Requirement already satisfied: certifi in /home/sslab3/anaconda3/envs/paddlenet/lib/python3.12/site-packages (from httpx->paddlepaddle-gpu) (2025.1.31)\n",
      "Requirement already satisfied: httpcore==1.* in /home/sslab3/anaconda3/envs/paddlenet/lib/python3.12/site-packages (from httpx->paddlepaddle-gpu) (1.0.7)\n",
      "Requirement already satisfied: idna in /home/sslab3/anaconda3/envs/paddlenet/lib/python3.12/site-packages (from httpx->paddlepaddle-gpu) (3.10)\n",
      "Requirement already satisfied: h11<0.15,>=0.13 in /home/sslab3/anaconda3/envs/paddlenet/lib/python3.12/site-packages (from httpcore==1.*->httpx->paddlepaddle-gpu) (0.14.0)\n",
      "Requirement already satisfied: sniffio>=1.1 in /home/sslab3/anaconda3/envs/paddlenet/lib/python3.12/site-packages (from anyio->httpx->paddlepaddle-gpu) (1.3.1)\n",
      "Requirement already satisfied: typing_extensions>=4.5 in /home/sslab3/anaconda3/envs/paddlenet/lib/python3.12/site-packages (from anyio->httpx->paddlepaddle-gpu) (4.12.2)\n",
      "Note: you may need to restart the kernel to use updated packages.\n"
     ]
    }
   ],
   "source": [
    "# CUDA-11.8이 설치되어 있는 GPU 사용 가능한 컴퓨터기 때문에 gpu 버전 다운로드\n",
    "# !pip install paddlepaddle-gpu\n",
    "%pip install paddlepaddle-gpu"
   ]
  },
  {
   "cell_type": "code",
   "execution_count": 28,
   "id": "86d0cc679a3a8b5f",
   "metadata": {
    "ExecuteTime": {
     "end_time": "2025-03-19T15:06:25.665774Z",
     "start_time": "2025-03-19T15:06:24.957041Z"
    }
   },
   "outputs": [
    {
     "name": "stdout",
     "output_type": "stream",
     "text": [
      "Requirement already satisfied: paddleocr in /home/sslab3/anaconda3/envs/paddlenet/lib/python3.12/site-packages (2.10.0)\n",
      "Requirement already satisfied: shapely in /home/sslab3/anaconda3/envs/paddlenet/lib/python3.12/site-packages (from paddleocr) (2.0.7)\n",
      "Requirement already satisfied: scikit-image in /home/sslab3/anaconda3/envs/paddlenet/lib/python3.12/site-packages (from paddleocr) (0.25.2)\n",
      "Requirement already satisfied: pyclipper in /home/sslab3/anaconda3/envs/paddlenet/lib/python3.12/site-packages (from paddleocr) (1.3.0.post6)\n",
      "Requirement already satisfied: lmdb in /home/sslab3/anaconda3/envs/paddlenet/lib/python3.12/site-packages (from paddleocr) (1.6.2)\n",
      "Requirement already satisfied: tqdm in /home/sslab3/anaconda3/envs/paddlenet/lib/python3.12/site-packages (from paddleocr) (4.67.1)\n",
      "Requirement already satisfied: numpy in /home/sslab3/anaconda3/envs/paddlenet/lib/python3.12/site-packages (from paddleocr) (2.2.4)\n",
      "Requirement already satisfied: rapidfuzz in /home/sslab3/anaconda3/envs/paddlenet/lib/python3.12/site-packages (from paddleocr) (3.12.2)\n",
      "Requirement already satisfied: opencv-python in /home/sslab3/anaconda3/envs/paddlenet/lib/python3.12/site-packages (from paddleocr) (4.11.0.86)\n",
      "Requirement already satisfied: opencv-contrib-python in /home/sslab3/anaconda3/envs/paddlenet/lib/python3.12/site-packages (from paddleocr) (4.11.0.86)\n",
      "Requirement already satisfied: cython in /home/sslab3/anaconda3/envs/paddlenet/lib/python3.12/site-packages (from paddleocr) (3.0.12)\n",
      "Requirement already satisfied: Pillow in /home/sslab3/anaconda3/envs/paddlenet/lib/python3.12/site-packages (from paddleocr) (11.1.0)\n",
      "Requirement already satisfied: pyyaml in /home/sslab3/anaconda3/envs/paddlenet/lib/python3.12/site-packages (from paddleocr) (6.0.2)\n",
      "Requirement already satisfied: python-docx in /home/sslab3/anaconda3/envs/paddlenet/lib/python3.12/site-packages (from paddleocr) (1.1.2)\n",
      "Requirement already satisfied: beautifulsoup4 in /home/sslab3/anaconda3/envs/paddlenet/lib/python3.12/site-packages (from paddleocr) (4.13.3)\n",
      "Requirement already satisfied: fonttools>=4.24.0 in /home/sslab3/anaconda3/envs/paddlenet/lib/python3.12/site-packages (from paddleocr) (4.56.0)\n",
      "Requirement already satisfied: fire>=0.3.0 in /home/sslab3/anaconda3/envs/paddlenet/lib/python3.12/site-packages (from paddleocr) (0.7.0)\n",
      "Requirement already satisfied: requests in /home/sslab3/anaconda3/envs/paddlenet/lib/python3.12/site-packages (from paddleocr) (2.32.3)\n",
      "Requirement already satisfied: albumentations in /home/sslab3/anaconda3/envs/paddlenet/lib/python3.12/site-packages (from paddleocr) (2.0.5)\n",
      "Requirement already satisfied: albucore in /home/sslab3/anaconda3/envs/paddlenet/lib/python3.12/site-packages (from paddleocr) (0.0.23)\n",
      "Requirement already satisfied: termcolor in /home/sslab3/anaconda3/envs/paddlenet/lib/python3.12/site-packages (from fire>=0.3.0->paddleocr) (2.5.0)\n",
      "Requirement already satisfied: stringzilla>=3.10.4 in /home/sslab3/anaconda3/envs/paddlenet/lib/python3.12/site-packages (from albucore->paddleocr) (3.12.3)\n",
      "Requirement already satisfied: simsimd>=5.9.2 in /home/sslab3/anaconda3/envs/paddlenet/lib/python3.12/site-packages (from albucore->paddleocr) (6.2.1)\n",
      "Requirement already satisfied: opencv-python-headless>=4.9.0.80 in /home/sslab3/anaconda3/envs/paddlenet/lib/python3.12/site-packages (from albucore->paddleocr) (4.11.0.86)\n",
      "Requirement already satisfied: scipy>=1.10.0 in /home/sslab3/anaconda3/envs/paddlenet/lib/python3.12/site-packages (from albumentations->paddleocr) (1.15.2)\n",
      "Requirement already satisfied: pydantic>=2.9.2 in /home/sslab3/anaconda3/envs/paddlenet/lib/python3.12/site-packages (from albumentations->paddleocr) (2.10.6)\n",
      "Requirement already satisfied: soupsieve>1.2 in /home/sslab3/anaconda3/envs/paddlenet/lib/python3.12/site-packages (from beautifulsoup4->paddleocr) (2.6)\n",
      "Requirement already satisfied: typing-extensions>=4.0.0 in /home/sslab3/anaconda3/envs/paddlenet/lib/python3.12/site-packages (from beautifulsoup4->paddleocr) (4.12.2)\n",
      "Requirement already satisfied: lxml>=3.1.0 in /home/sslab3/anaconda3/envs/paddlenet/lib/python3.12/site-packages (from python-docx->paddleocr) (5.3.1)\n",
      "Requirement already satisfied: charset-normalizer<4,>=2 in /home/sslab3/anaconda3/envs/paddlenet/lib/python3.12/site-packages (from requests->paddleocr) (3.4.1)\n",
      "Requirement already satisfied: idna<4,>=2.5 in /home/sslab3/anaconda3/envs/paddlenet/lib/python3.12/site-packages (from requests->paddleocr) (3.10)\n",
      "Requirement already satisfied: urllib3<3,>=1.21.1 in /home/sslab3/anaconda3/envs/paddlenet/lib/python3.12/site-packages (from requests->paddleocr) (2.3.0)\n",
      "Requirement already satisfied: certifi>=2017.4.17 in /home/sslab3/anaconda3/envs/paddlenet/lib/python3.12/site-packages (from requests->paddleocr) (2025.1.31)\n",
      "Requirement already satisfied: networkx>=3.0 in /home/sslab3/anaconda3/envs/paddlenet/lib/python3.12/site-packages (from scikit-image->paddleocr) (3.4.2)\n",
      "Requirement already satisfied: imageio!=2.35.0,>=2.33 in /home/sslab3/anaconda3/envs/paddlenet/lib/python3.12/site-packages (from scikit-image->paddleocr) (2.37.0)\n",
      "Requirement already satisfied: tifffile>=2022.8.12 in /home/sslab3/anaconda3/envs/paddlenet/lib/python3.12/site-packages (from scikit-image->paddleocr) (2025.3.13)\n",
      "Requirement already satisfied: packaging>=21 in /home/sslab3/anaconda3/envs/paddlenet/lib/python3.12/site-packages (from scikit-image->paddleocr) (24.2)\n",
      "Requirement already satisfied: lazy-loader>=0.4 in /home/sslab3/anaconda3/envs/paddlenet/lib/python3.12/site-packages (from scikit-image->paddleocr) (0.4)\n",
      "Requirement already satisfied: annotated-types>=0.6.0 in /home/sslab3/anaconda3/envs/paddlenet/lib/python3.12/site-packages (from pydantic>=2.9.2->albumentations->paddleocr) (0.7.0)\n",
      "Requirement already satisfied: pydantic-core==2.27.2 in /home/sslab3/anaconda3/envs/paddlenet/lib/python3.12/site-packages (from pydantic>=2.9.2->albumentations->paddleocr) (2.27.2)\n",
      "Note: you may need to restart the kernel to use updated packages.\n"
     ]
    }
   ],
   "source": [
    "# PaddleOCR whl package 설치\n",
    "# !pip install \"paddleocr>=2.0.1\"\n",
    "%pip install paddleocr"
   ]
  },
  {
   "cell_type": "markdown",
   "id": "6f7a194dc358c8ea",
   "metadata": {},
   "source": [
    "# 한번 사용해보도록 하자\n",
    "\n",
    "실행하기 전, 컴퓨터에 cuDNN이 설치되어있는지 확인하자. 없다면 설치\n",
    "\n",
    "CUDA 11.8 사용 기준으로\n",
    "\n",
    "wget https://developer.download.nvidia.com/compute/cuda/repos/ubuntu2204/x86_64/cuda-keyring_1.1-1_all.deb\n",
    "sudo dpkg -i cuda-keyring_1.1-1_all.deb\n",
    "sudo apt-get update\n",
    "sudo apt-get -y install cudnn\n",
    "sudo apt-get -y install cudnn-cuda-11"
   ]
  },
  {
   "cell_type": "code",
   "execution_count": 29,
   "id": "8680603255355a2e",
   "metadata": {
    "ExecuteTime": {
     "end_time": "2025-03-19T15:06:25.709911Z",
     "start_time": "2025-03-19T15:06:25.706577Z"
    }
   },
   "outputs": [
    {
     "name": "stdout",
     "output_type": "stream",
     "text": [
      "Is compiled with CUDA? True\n",
      "CUDA devices:, 3\n"
     ]
    }
   ],
   "source": [
    "import paddle\n",
    "print(f\"Is compiled with CUDA? {paddle.is_compiled_with_cuda()}\")\n",
    "print(f\"CUDA devices:, {paddle.device.cuda.device_count()}\")"
   ]
  },
  {
   "cell_type": "code",
   "execution_count": 30,
   "id": "a41f03112068d97b",
   "metadata": {
    "ExecuteTime": {
     "end_time": "2025-03-19T15:06:25.752433Z",
     "start_time": "2025-03-19T15:06:25.749470Z"
    }
   },
   "outputs": [],
   "source": [
    "# 콘솔에 아래 명령 입력\n",
    "# paddleocr --image_dir .책표지_기타_000001.jpg --lang=korean"
   ]
  },
  {
   "cell_type": "code",
   "execution_count": 31,
   "id": "2293139ffa7f2462",
   "metadata": {
    "ExecuteTime": {
     "end_time": "2025-03-19T15:06:28.733811Z",
     "start_time": "2025-03-19T15:06:25.795203Z"
    }
   },
   "outputs": [
    {
     "name": "stdout",
     "output_type": "stream",
     "text": [
      "[2025/03/25 19:15:53] ppocr DEBUG: Namespace(help='==SUPPRESS==', use_gpu=True, use_xpu=False, use_npu=False, use_mlu=False, use_gcu=False, ir_optim=True, use_tensorrt=False, min_subgraph_size=15, precision='fp32', gpu_mem=500, gpu_id=0, image_dir=None, page_num=0, det_algorithm='DB', det_model_dir='/home/sslab3/.paddleocr/whl/det/ml/Multilingual_PP-OCRv3_det_infer', det_limit_side_len=960, det_limit_type='max', det_box_type='quad', det_db_thresh=0.3, det_db_box_thresh=0.6, det_db_unclip_ratio=1.5, max_batch_size=10, use_dilation=False, det_db_score_mode='fast', det_east_score_thresh=0.8, det_east_cover_thresh=0.1, det_east_nms_thresh=0.2, det_sast_score_thresh=0.5, det_sast_nms_thresh=0.2, det_pse_thresh=0, det_pse_box_thresh=0.85, det_pse_min_area=16, det_pse_scale=1, scales=[8, 16, 32], alpha=1.0, beta=1.0, fourier_degree=5, rec_algorithm='SVTR_LCNet', rec_model_dir='/home/sslab3/.paddleocr/whl/rec/korean/korean_PP-OCRv4_rec_infer', rec_image_inverse=True, rec_image_shape='3, 48, 320', rec_batch_num=6, max_text_length=25, rec_char_dict_path='/home/sslab3/anaconda3/envs/paddlenet/lib/python3.12/site-packages/paddleocr/ppocr/utils/dict/korean_dict.txt', use_space_char=True, vis_font_path='./doc/fonts/simfang.ttf', drop_score=0.5, e2e_algorithm='PGNet', e2e_model_dir=None, e2e_limit_side_len=768, e2e_limit_type='max', e2e_pgnet_score_thresh=0.5, e2e_char_dict_path='./ppocr/utils/ic15_dict.txt', e2e_pgnet_valid_set='totaltext', e2e_pgnet_mode='fast', use_angle_cls=False, cls_model_dir='/home/sslab3/.paddleocr/whl/cls/ch_ppocr_mobile_v2.0_cls_infer', cls_image_shape='3, 48, 192', label_list=['0', '180'], cls_batch_num=6, cls_thresh=0.9, enable_mkldnn=False, cpu_threads=10, use_pdserving=False, warmup=False, sr_model_dir=None, sr_image_shape='3, 32, 128', sr_batch_num=1, draw_img_save_dir='./inference_results', save_crop_res=False, crop_res_save_dir='./output', use_mp=False, total_process_num=1, process_id=0, benchmark=False, save_log_path='./log_output/', show_log=True, use_onnx=False, onnx_providers=False, onnx_sess_options=False, return_word_box=False, output='./output', table_max_len=488, table_algorithm='TableAttn', table_model_dir=None, merge_no_span_structure=True, table_char_dict_path=None, formula_algorithm='LaTeXOCR', formula_model_dir=None, formula_char_dict_path=None, formula_batch_num=1, layout_model_dir=None, layout_dict_path=None, layout_score_threshold=0.5, layout_nms_threshold=0.5, kie_algorithm='LayoutXLM', ser_model_dir=None, re_model_dir=None, use_visual_backbone=True, ser_dict_path='../train_data/XFUND/class_list_xfun.txt', ocr_order_method=None, mode='structure', image_orientation=False, layout=True, table=True, formula=False, ocr=True, recovery=False, recovery_to_markdown=False, use_pdf2docx_api=False, invert=False, binarize=False, alphacolor=(255, 255, 255), lang='korean', det=True, rec=True, type='ocr', savefile=False, ocr_version='PP-OCRv4', structure_version='PP-StructureV2')\n",
      "[2025/03/25 19:15:53] ppocr WARNING: The first GPU is used for inference by default, GPU ID: 0\n",
      "[2025/03/25 19:15:53] ppocr WARNING: The first GPU is used for inference by default, GPU ID: 0\n"
     ]
    }
   ],
   "source": [
    "from paddleocr import PaddleOCR,draw_ocr\n",
    "\n",
    "ocr = PaddleOCR(lang=\"korean\")"
   ]
  },
  {
   "cell_type": "code",
   "execution_count": 32,
   "id": "dee77a486932d110",
   "metadata": {
    "ExecuteTime": {
     "end_time": "2025-03-19T15:06:28.900051Z",
     "start_time": "2025-03-19T15:06:28.770592Z"
    }
   },
   "outputs": [
    {
     "name": "stdout",
     "output_type": "stream",
     "text": [
      "[2025/03/25 19:15:56] ppocr WARNING: Since the angle classifier is not initialized, it will not be used during the forward process\n",
      "[2025/03/25 19:15:56] ppocr DEBUG: dt_boxes num : 29, elapsed : 0.0452115535736084\n",
      "[2025/03/25 19:15:56] ppocr DEBUG: rec_res num  : 29, elapsed : 0.08769011497497559\n",
      "[[[217.0, 312.0], [317.0, 312.0], [317.0, 370.0], [217.0, 370.0]], ('오늘도', 0.6073145270347595)]\n",
      "[[[310.0, 315.0], [472.0, 315.0], [472.0, 366.0], [310.0, 366.0]], ('변항없이', 0.9347278475761414)]\n",
      "[[[485.0, 312.0], [596.0, 312.0], [596.0, 367.0], [485.0, 367.0]], ('유부에', 0.9994303584098816)]\n",
      "[[[612.0, 315.0], [755.0, 315.0], [755.0, 372.0], [612.0, 372.0]], ('정직함을', 0.9992040395736694)]\n",
      "[[[174.0, 380.0], [253.0, 380.0], [253.0, 435.0], [174.0, 435.0]], ('담은', 0.9911319613456726)]\n",
      "[[[286.0, 379.0], [431.0, 384.0], [429.0, 433.0], [284.0, 428.0]], ('정직유부', 0.8759309649467468)]\n",
      "[[[447.0, 377.0], [673.0, 379.0], [673.0, 435.0], [447.0, 432.0]], ('의정부민락정', 0.9447472095489502)]\n",
      "[[[700.0, 380.0], [823.0, 380.0], [823.0, 430.0], [700.0, 430.0]], ('입니다', 0.9993462562561035)]\n",
      "[[[261.0, 442.0], [352.0, 445.0], [350.0, 496.0], [259.0, 493.0]], ('세상', 0.9981323480606079)]\n",
      "[[[365.0, 449.0], [400.0, 452.0], [396.0, 491.0], [362.0, 488.0]], ('그', 0.9991104006767273)]\n",
      "[[[400.0, 450.0], [489.0, 452.0], [488.0, 494.0], [399.0, 491.0]], ('어떤', 0.9577764868736267)]\n",
      "[[[501.0, 451.0], [649.0, 450.0], [649.0, 487.0], [501.0, 489.0]], ('시간다', 0.8224940299987793)]\n",
      "[[[220.0, 510.0], [264.0, 510.0], [264.0, 556.0], [220.0, 556.0]], ('더', 0.9992139339447021)]\n",
      "[[[274.0, 510.0], [383.0, 510.0], [383.0, 560.0], [274.0, 560.0]], ('맛있는', 0.9971110820770264)]\n",
      "[[[391.0, 511.0], [491.0, 511.0], [491.0, 553.0], [391.0, 553.0]], ('시간이', 0.9808347225189209)]\n",
      "[[[505.0, 507.0], [585.0, 507.0], [585.0, 561.0], [505.0, 561.0]], ('되길', 0.9960449934005737)]\n",
      "[[[597.0, 508.0], [716.0, 505.0], [717.0, 551.0], [598.0, 553.0]], ('바라며', 0.9705508351325989)]\n",
      "[[[275.0, 575.0], [422.0, 575.0], [422.0, 620.0], [275.0, 620.0]], ('정성으로', 0.9985567927360535)]\n",
      "[[[439.0, 573.0], [667.0, 573.0], [667.0, 620.0], [439.0, 620.0]], ('안들었습니다', 0.9633687138557434)]\n",
      "[[[279.0, 632.0], [371.0, 638.0], [368.0, 691.0], [275.0, 686.0]], ('항상', 0.9993147850036621)]\n",
      "[[[375.0, 637.0], [587.0, 637.0], [587.0, 689.0], [375.0, 689.0]], ('건강하세요', 0.9711345434188843)]\n",
      "[[[608.0, 635.0], [661.0, 635.0], [661.0, 663.0], [608.0, 663.0]], ('>5<', 0.9615902304649353)]\n",
      "[[[605.0, 660.0], [665.0, 660.0], [665.0, 696.0], [605.0, 696.0]], ('ID', 0.7529600858688354)]\n",
      "[[[254.0, 731.0], [375.0, 735.0], [374.0, 784.0], [253.0, 780.0]], ('따뜻한', 0.999117910861969)]\n",
      "[[[384.0, 736.0], [485.0, 739.0], [483.0, 786.0], [383.0, 783.0]], ('리뷰는', 0.8613565564155579)]\n",
      "[[[605.0, 733.0], [679.0, 740.0], [675.0, 792.0], [601.0, 785.0]], ('횟이', 0.5330247282981873)]\n",
      "[[[489.0, 743.0], [596.0, 740.0], [597.0, 775.0], [490.0, 777.0]], ('저에게', 0.9411139488220215)]\n",
      "[[[685.0, 738.0], [811.0, 738.0], [811.0, 788.0], [685.0, 788.0]], ('됩니다', 0.8310667872428894)]\n"
     ]
    }
   ],
   "source": [
    "# 코드로 실행하자면?\n",
    "\n",
    "img_path = 'best_imgs/best2.jpg'\n",
    "result = ocr.ocr(img_path, cls=True)\n",
    "for idx in range(len(result)):\n",
    "    res = result[idx]\n",
    "    for line in res:\n",
    "        print(line)\n",
    "\n",
    "\n",
    "# draw result\n",
    "from PIL import Image\n",
    "result = result[0]\n",
    "image = Image.open(img_path).convert('RGB')\n",
    "boxes = [line[0] for line in result]\n",
    "txts = [line[1][0] for line in result]\n",
    "scores = [line[1][1] for line in result]\n",
    "im_show = draw_ocr(image, boxes, txts, scores, font_path='MaruBuri-Regular.ttf')\n",
    "im_show = Image.fromarray(im_show)\n",
    "im_show.save('first_ocr_result.jpg')\n",
    "im_show.show()"
   ]
  },
  {
   "cell_type": "code",
   "execution_count": 33,
   "id": "a9dc41c91255c263",
   "metadata": {
    "ExecuteTime": {
     "end_time": "2025-03-19T15:06:28.940860Z",
     "start_time": "2025-03-19T15:06:28.937414Z"
    }
   },
   "outputs": [
    {
     "name": "stdout",
     "output_type": "stream",
     "text": [
      "boxes: [[217.0, 312.0], [317.0, 312.0], [317.0, 370.0], [217.0, 370.0]]\n",
      "boxes: [[310.0, 315.0], [472.0, 315.0], [472.0, 366.0], [310.0, 366.0]]\n",
      "boxes: [[485.0, 312.0], [596.0, 312.0], [596.0, 367.0], [485.0, 367.0]]\n",
      "boxes: [[612.0, 315.0], [755.0, 315.0], [755.0, 372.0], [612.0, 372.0]]\n",
      "boxes: [[174.0, 380.0], [253.0, 380.0], [253.0, 435.0], [174.0, 435.0]]\n",
      "boxes: [[286.0, 379.0], [431.0, 384.0], [429.0, 433.0], [284.0, 428.0]]\n",
      "boxes: [[447.0, 377.0], [673.0, 379.0], [673.0, 435.0], [447.0, 432.0]]\n",
      "boxes: [[700.0, 380.0], [823.0, 380.0], [823.0, 430.0], [700.0, 430.0]]\n",
      "boxes: [[261.0, 442.0], [352.0, 445.0], [350.0, 496.0], [259.0, 493.0]]\n",
      "boxes: [[365.0, 449.0], [400.0, 452.0], [396.0, 491.0], [362.0, 488.0]]\n",
      "boxes: [[400.0, 450.0], [489.0, 452.0], [488.0, 494.0], [399.0, 491.0]]\n",
      "boxes: [[501.0, 451.0], [649.0, 450.0], [649.0, 487.0], [501.0, 489.0]]\n",
      "boxes: [[220.0, 510.0], [264.0, 510.0], [264.0, 556.0], [220.0, 556.0]]\n",
      "boxes: [[274.0, 510.0], [383.0, 510.0], [383.0, 560.0], [274.0, 560.0]]\n",
      "boxes: [[391.0, 511.0], [491.0, 511.0], [491.0, 553.0], [391.0, 553.0]]\n",
      "boxes: [[505.0, 507.0], [585.0, 507.0], [585.0, 561.0], [505.0, 561.0]]\n",
      "boxes: [[597.0, 508.0], [716.0, 505.0], [717.0, 551.0], [598.0, 553.0]]\n",
      "boxes: [[275.0, 575.0], [422.0, 575.0], [422.0, 620.0], [275.0, 620.0]]\n",
      "boxes: [[439.0, 573.0], [667.0, 573.0], [667.0, 620.0], [439.0, 620.0]]\n",
      "boxes: [[279.0, 632.0], [371.0, 638.0], [368.0, 691.0], [275.0, 686.0]]\n",
      "boxes: [[375.0, 637.0], [587.0, 637.0], [587.0, 689.0], [375.0, 689.0]]\n",
      "boxes: [[605.0, 660.0], [665.0, 660.0], [665.0, 696.0], [605.0, 696.0]]\n",
      "boxes: [[254.0, 731.0], [375.0, 735.0], [374.0, 784.0], [253.0, 780.0]]\n",
      "boxes: [[384.0, 736.0], [485.0, 739.0], [483.0, 786.0], [383.0, 783.0]]\n",
      "boxes: [[605.0, 733.0], [679.0, 740.0], [675.0, 792.0], [601.0, 785.0]]\n",
      "boxes: [[489.0, 743.0], [596.0, 740.0], [597.0, 775.0], [490.0, 777.0]]\n",
      "boxes: [[685.0, 738.0], [811.0, 738.0], [811.0, 788.0], [685.0, 788.0]]\n"
     ]
    }
   ],
   "source": [
    "# for idx in range(len(boxes)):\n",
    "#     print(f\"boxes: {boxes[idx]}, txts: {txts[idx]}\")\n",
    "\n",
    "# 한글 또는 영어, 숫자 txt만 포함된 box로 재구성\n",
    "boxes = [boxes[idx] for idx in range(len(boxes)) if txts[idx].isalnum()]\n",
    "\n",
    "for idx in range(len(boxes)):\n",
    "    print(f\"boxes: {boxes[idx]}\")"
   ]
  },
  {
   "cell_type": "code",
   "execution_count": 34,
   "id": "fe5536aefc7063b3",
   "metadata": {
    "ExecuteTime": {
     "end_time": "2025-03-19T15:06:29.690703Z",
     "start_time": "2025-03-19T15:06:28.979622Z"
    }
   },
   "outputs": [
    {
     "name": "stderr",
     "output_type": "stream",
     "text": [
      "Error: no \"view\" rule for type \"image/png\" passed its test case\n",
      "       (for more information, add \"--debug=1\" on the command line)\n"
     ]
    },
    {
     "name": "stdout",
     "output_type": "stream",
     "text": [
      "Requirement already satisfied: pip in /home/sslab3/anaconda3/envs/paddlenet/lib/python3.12/site-packages (25.0.1)\n",
      "Note: you may need to restart the kernel to use updated packages.\n"
     ]
    }
   ],
   "source": [
    "# !pip install --upgrade pip\n",
    "%pip install --upgrade pip"
   ]
  },
  {
   "cell_type": "code",
   "execution_count": 35,
   "id": "898890cb01f45a4d",
   "metadata": {
    "ExecuteTime": {
     "end_time": "2025-03-19T15:06:30.350997Z",
     "start_time": "2025-03-19T15:06:29.728553Z"
    }
   },
   "outputs": [
    {
     "name": "stdout",
     "output_type": "stream",
     "text": [
      "Requirement already satisfied: opencv-python in /home/sslab3/anaconda3/envs/paddlenet/lib/python3.12/site-packages (4.11.0.86)\n",
      "Requirement already satisfied: numpy>=1.21.2 in /home/sslab3/anaconda3/envs/paddlenet/lib/python3.12/site-packages (from opencv-python) (2.2.4)\n",
      "Note: you may need to restart the kernel to use updated packages.\n"
     ]
    }
   ],
   "source": [
    "# !pip install opencv-python\n",
    "%pip install opencv-python"
   ]
  },
  {
   "cell_type": "code",
   "execution_count": 36,
   "id": "121b44dda1bea524",
   "metadata": {
    "ExecuteTime": {
     "end_time": "2025-03-19T15:06:30.390376Z",
     "start_time": "2025-03-19T15:06:30.385455Z"
    }
   },
   "outputs": [
    {
     "name": "stdout",
     "output_type": "stream",
     "text": [
      "[[217.0, 312.0], [317.0, 312.0], [317.0, 370.0], [217.0, 370.0]]\n",
      "[[310.0, 315.0], [472.0, 315.0], [472.0, 366.0], [310.0, 366.0]]\n",
      "[[485.0, 312.0], [596.0, 312.0], [596.0, 367.0], [485.0, 367.0]]\n",
      "[[612.0, 315.0], [755.0, 315.0], [755.0, 372.0], [612.0, 372.0]]\n",
      "[[174.0, 380.0], [253.0, 380.0], [253.0, 435.0], [174.0, 435.0]]\n",
      "[[286.0, 379.0], [431.0, 384.0], [429.0, 433.0], [284.0, 428.0]]\n",
      "[[447.0, 377.0], [673.0, 379.0], [673.0, 435.0], [447.0, 432.0]]\n",
      "[[700.0, 380.0], [823.0, 380.0], [823.0, 430.0], [700.0, 430.0]]\n",
      "[[261.0, 442.0], [352.0, 445.0], [350.0, 496.0], [259.0, 493.0]]\n",
      "[[365.0, 449.0], [400.0, 452.0], [396.0, 491.0], [362.0, 488.0]]\n",
      "[[400.0, 450.0], [489.0, 452.0], [488.0, 494.0], [399.0, 491.0]]\n",
      "[[501.0, 451.0], [649.0, 450.0], [649.0, 487.0], [501.0, 489.0]]\n",
      "[[220.0, 510.0], [264.0, 510.0], [264.0, 556.0], [220.0, 556.0]]\n",
      "[[274.0, 510.0], [383.0, 510.0], [383.0, 560.0], [274.0, 560.0]]\n",
      "[[391.0, 511.0], [491.0, 511.0], [491.0, 553.0], [391.0, 553.0]]\n",
      "[[505.0, 507.0], [585.0, 507.0], [585.0, 561.0], [505.0, 561.0]]\n",
      "[[597.0, 508.0], [716.0, 505.0], [717.0, 551.0], [598.0, 553.0]]\n",
      "[[275.0, 575.0], [422.0, 575.0], [422.0, 620.0], [275.0, 620.0]]\n",
      "[[439.0, 573.0], [667.0, 573.0], [667.0, 620.0], [439.0, 620.0]]\n",
      "[[279.0, 632.0], [371.0, 638.0], [368.0, 691.0], [275.0, 686.0]]\n",
      "[[375.0, 637.0], [587.0, 637.0], [587.0, 689.0], [375.0, 689.0]]\n",
      "[[605.0, 660.0], [665.0, 660.0], [665.0, 696.0], [605.0, 696.0]]\n",
      "[[254.0, 731.0], [375.0, 735.0], [374.0, 784.0], [253.0, 780.0]]\n",
      "[[384.0, 736.0], [485.0, 739.0], [483.0, 786.0], [383.0, 783.0]]\n",
      "[[605.0, 733.0], [679.0, 740.0], [675.0, 792.0], [601.0, 785.0]]\n",
      "[[489.0, 743.0], [596.0, 740.0], [597.0, 775.0], [490.0, 777.0]]\n",
      "[[685.0, 738.0], [811.0, 738.0], [811.0, 788.0], [685.0, 788.0]]\n"
     ]
    }
   ],
   "source": [
    "import cv2\n",
    "import numpy as np\n",
    "\n",
    "# 1. cv2 imread로 그레이스케일 이미지 획득\n",
    "image = cv2.imread('best_imgs/best2.jpg', cv2.IMREAD_GRAYSCALE)\n",
    "\n",
    "# 2. 연산 효율성을 올리기 위해 boxes를 numpy array로 변환\n",
    "boxes_np_arr = np.array([])\n",
    "if boxes and len(boxes) > 0:\n",
    "    boxes_np_arr = np.array([np.array(box) for box in boxes])\n",
    "\n",
    "    for box in boxes:\n",
    "        print(box)\n",
    "else:\n",
    "    print(\"No boxes\")"
   ]
  },
  {
   "cell_type": "code",
   "execution_count": 37,
   "id": "9b67038a40177bf",
   "metadata": {
    "ExecuteTime": {
     "end_time": "2025-03-19T15:06:30.462454Z",
     "start_time": "2025-03-19T15:06:30.427171Z"
    }
   },
   "outputs": [],
   "source": [
    "# 3. 각 box = bounding box\n",
    "# bounding box 영역 안에 있는 각 영역을 Crop해서 새로운 이미지로 추출한다\n",
    "import os\n",
    "\n",
    "current_path = os.getcwd()\n",
    "os.makedirs(current_path + \"/cropped\", exist_ok=True)\n",
    "croped_images = []\n",
    "\n",
    "for idx, box in enumerate(boxes_np_arr):\n",
    "    # box 점 정렬\n",
    "    rect = np.zeros((4, 2), dtype=\"float32\")\n",
    "    s = box.sum(axis=1) # 네 좌표의 합\n",
    "    diff = np.diff(box, axis=1) # 네 좌표의 차이\n",
    "    rect[0] = box[np.argmin(s)] # 좌상단 좌표\n",
    "    rect[2] = box[np.argmax(s)] # 우하단 좌표\n",
    "    rect[1] = box[np.argmin(diff)] # 우상단 좌표\n",
    "    rect[3] = box[np.argmax(diff)] # 좌하단 좌표\n",
    "\n",
    "    # rect = [ 좌상, 우상, 우하, 좌하 ]\n",
    "\n",
    "    # 네 꼭짓점 좌표를 numpy array로 변환\n",
    "    # 이때, 검출 영역이 너무 Fit하게 되어있어서 +10을 해준다\n",
    "    offset = 10\n",
    "    image_height, image_width = image.shape[:2]\n",
    "    image_height -= 1\n",
    "    image_width -= 1\n",
    "\n",
    "    # rect[0] = 좌상단\n",
    "    x1 = max(0, rect[0][0] - offset)\n",
    "    y1 = max(0, rect[0][1] - offset)\n",
    "    # rect[1] = 우상단\n",
    "    x2 = min(rect[1][0] + offset, image_width)\n",
    "    y2 = max(0, rect[1][1] - offset)\n",
    "    # rect[2] = 우하단\n",
    "    x3 = min(rect[2][0] + offset, image_width)\n",
    "    y3 = min(rect[2][1] + offset, image_height)\n",
    "    # rect[3] = 좌하단\n",
    "    x4 = max(0, rect[3][0] - offset)\n",
    "    y4 = min(rect[3][1] + offset, image_height)\n",
    "    pts = np.array(\n",
    "        [\n",
    "            [x1, y1],\n",
    "            [x2, y2],\n",
    "            [x3, y3],\n",
    "            [x4, y4]\n",
    "        ],\n",
    "        dtype=\"float32\"\n",
    "    )\n",
    "\n",
    "    # 네 좌표를 바탕으로 이미지의 너비 및 높이 계산\n",
    "    widthA = np.sqrt((pts[2][0] - pts[3][0])**2 + (pts[2][1] - pts[3][1])**2)\n",
    "    widthB = np.sqrt((pts[1][0] - pts[0][0])**2 + (pts[1][1] - pts[0][1])**2)\n",
    "    maxWidth = max(int(widthA), int(widthB))\n",
    "\n",
    "    heightA = np.sqrt((pts[1][0] - pts[2][0])**2 + (pts[1][1] - pts[2][1])**2)\n",
    "    heightB = np.sqrt((pts[0][0] - pts[3][0])**2 + (pts[0][1] - pts[3][1])**2)\n",
    "    maxHeight = max(int(heightA), int(heightB))\n",
    "\n",
    "    # print(maxWidth, maxHeight)\n",
    "\n",
    "    # 출력될 이미지 좌표 설정\n",
    "    dst = np.array(\n",
    "        [\n",
    "            [0, 0],\n",
    "            [maxWidth - 1, 0],\n",
    "            [maxWidth - 1, maxHeight - 1],\n",
    "            [0, maxHeight - 1]\n",
    "        ],\n",
    "        dtype=\"float32\"\n",
    "    )\n",
    "\n",
    "    # Perspective Transformation\n",
    "    M = cv2.getPerspectiveTransform(pts, dst)\n",
    "    warped = cv2.warpPerspective(image, M, (maxWidth, maxHeight))\n",
    "\n",
    "    # 음영 제거 -> 모폴로지 연산\n",
    "    kernel_size = 150\n",
    "    kernel = cv2.getStructuringElement(cv2.MORPH_ELLIPSE, (kernel_size, kernel_size))\n",
    "\n",
    "    background = cv2.morphologyEx(warped, cv2.MORPH_OPEN, kernel)\n",
    "    gray_minus_bg = cv2.subtract(warped, background)\n",
    "    normed = cv2.normalize(gray_minus_bg, None, 0, 255, cv2.NORM_MINMAX)\n",
    "\n",
    "    croped_images.append(normed)\n",
    "    cv2.imwrite(f\"./cropped/croped_{idx}.jpg\", normed)"
   ]
  },
  {
   "cell_type": "code",
   "execution_count": 38,
   "id": "1f8e54b4c25794be",
   "metadata": {
    "ExecuteTime": {
     "end_time": "2025-03-19T15:06:30.490961Z",
     "start_time": "2025-03-19T15:06:30.488318Z"
    }
   },
   "outputs": [
    {
     "name": "stdout",
     "output_type": "stream",
     "text": [
      "27\n"
     ]
    }
   ],
   "source": [
    "print(len(croped_images))"
   ]
  },
  {
   "cell_type": "code",
   "execution_count": 39,
   "id": "23d69b788df2a1bc",
   "metadata": {
    "ExecuteTime": {
     "end_time": "2025-03-19T15:06:30.535981Z",
     "start_time": "2025-03-19T15:06:30.529657Z"
    }
   },
   "outputs": [],
   "source": [
    "# 각 이미지 적응형 이진화 수행\n",
    "# 근데 이미지에 들어있는 글자가 검정색일수도 있고 흰색일수도 있어서\n",
    "# Crop된 이미지의 평균 픽셀값을 계산해서 평균값이 128보다 작으면 cv2.THRESH_BINARY_INV로 수행\n",
    "os.makedirs(current_path + \"/preprocessed\", exist_ok=True)\n",
    "\n",
    "for idx, croped_image in enumerate(croped_images):\n",
    "\n",
    "    # Median 블러링\n",
    "    # blurred = cv2.medianBlur(croped_image, 3)\n",
    "\n",
    "    # 적응형 이진화\n",
    "    # binarization = cv2.adaptiveThreshold(\n",
    "    #     blurred,\n",
    "    #     maxValue=255,\n",
    "    #     adaptiveMethod=cv2.ADAPTIVE_THRESH_MEAN_C,\n",
    "    #     thresholdType=cv2.THRESH_BINARY,  # 또는 THRESH_BINARY_INV\n",
    "    #     blockSize=21,   # 주변 픽셀 블록 크기\n",
    "    #     C=13     # 결과에서 뺄 상수\n",
    "    # )\n",
    "    _, binarization = cv2.threshold(croped_image, 127, 255, cv2.THRESH_BINARY + cv2.THRESH_OTSU)\n",
    "\n",
    "    # 만약 배경이 반전되어 있다면 invert\n",
    "    if np.mean(binarization) < 128:\n",
    "        binarization = cv2.bitwise_not(binarization)\n",
    "\n",
    "    kernel = np.ones((2, 2), np.uint8)\n",
    "    opened = cv2.morphologyEx(binarization, cv2.MORPH_OPEN, kernel)\n",
    "\n",
    "    # opened = cv2.dilate(binarization, kernel, iterations=2)\n",
    "    # eroded = cv2.erode(binarization, kernel, iterations=1)\n",
    "\n",
    "    cv2.imwrite(f\"./preprocessed/preprocessed_{idx}.png\", opened)\n"
   ]
  },
  {
   "cell_type": "code",
   "execution_count": 40,
   "id": "373274964ece0a06",
   "metadata": {
    "ExecuteTime": {
     "end_time": "2025-03-19T15:06:30.588080Z",
     "start_time": "2025-03-19T15:06:30.578592Z"
    }
   },
   "outputs": [
    {
     "name": "stdout",
     "output_type": "stream",
     "text": [
      "Loaded 27 images\n",
      "Contour: 44, 40, 25, 26\n",
      "Contour: 39, 32, 29, 9\n",
      "Contour: 112, 23, 8, 26\n",
      "Contour: 75, 23, 27, 35\n",
      "Contour: 12, 15, 31, 43\n",
      "Contour: 44, 13, 18, 17\n",
      "Contour: 0, 47, 10, 5\n",
      "Contour: 40, 40, 21, 15\n",
      "Contour: 80, 38, 13, 21\n",
      "Contour: 120, 36, 21, 24\n",
      "Contour: 106, 36, 16, 22\n",
      "Contour: 65, 30, 11, 13\n",
      "Contour: 142, 29, 11, 13\n",
      "Contour: 162, 22, 7, 28\n",
      "Contour: 58, 21, 19, 6\n",
      "Contour: 20, 16, 35, 30\n",
      "Contour: 97, 14, 32, 27\n",
      "Contour: 64, 14, 11, 4\n",
      "Contour: 85, 11, 13, 26\n",
      "Contour: 0, 41, 5, 4\n",
      "Contour: 78, 33, 19, 16\n",
      "Contour: 52, 15, 26, 24\n",
      "Contour: 70, 14, 23, 24\n",
      "Contour: 16, 14, 30, 34\n",
      "Contour: 64, 31, 17, 16\n",
      "Contour: 49, 18, 12, 17\n",
      "Contour: 10, 13, 25, 28\n",
      "Contour: 112, 11, 48, 36\n",
      "Contour: 70, 11, 13, 19\n",
      "Contour: 86, 10, 22, 38\n",
      "Contour: 38, 10, 5, 36\n",
      "Contour: 14, 17, 19, 26\n",
      "Contour: 22, 13, 25, 40\n",
      "Contour: 127, 38, 2, 4\n",
      "Contour: 52, 33, 34, 20\n",
      "Contour: 88, 31, 26, 20\n",
      "Contour: 52, 20, 12, 16\n",
      "Contour: 14, 17, 15, 20\n",
      "Contour: 89, 16, 17, 14\n",
      "Contour: 22, 14, 30, 43\n",
      "Contour: 73, 13, 5, 21\n",
      "Contour: 59, 35, 18, 15\n",
      "Contour: 81, 24, 11, 13\n",
      "Contour: 47, 19, 10, 18\n",
      "Contour: 102, 17, 6, 27\n",
      "Contour: 66, 14, 13, 21\n",
      "Contour: 11, 14, 21, 27\n",
      "Contour: 35, 13, 6, 35\n",
      "Contour: 61, 39, 24, 20\n",
      "Contour: 54, 21, 13, 16\n",
      "Contour: 44, 17, 6, 35\n",
      "Contour: 17, 17, 26, 31\n",
      "Contour: 75, 14, 6, 23\n",
      "Contour: 53, 21, 22, 26\n",
      "Contour: 13, 19, 18, 28\n",
      "Contour: 76, 15, 14, 37\n",
      "Contour: 35, 15, 15, 37\n",
      "Contour: 92, 13, 36, 41\n",
      "Contour: 74, 41, 13, 15\n",
      "Contour: 34, 40, 12, 14\n",
      "Contour: 95, 38, 30, 7\n",
      "Contour: 98, 18, 15, 15\n",
      "Contour: 52, 15, 18, 24\n",
      "Contour: 65, 14, 23, 23\n",
      "Contour: 127, 13, 30, 37\n",
      "Contour: 13, 13, 35, 24\n",
      "Contour: 55, 38, 20, 19\n",
      "Contour: 26, 35, 18, 16\n",
      "Contour: 50, 32, 25, 5\n",
      "Contour: 82, 31, 33, 20\n",
      "Contour: 116, 29, 36, 26\n",
      "Contour: 155, 20, 27, 31\n",
      "Contour: 190, 15, 47, 36\n",
      "Contour: 51, 15, 19, 14\n",
      "Contour: 11, 15, 14, 22\n",
      "Contour: 80, 14, 31, 19\n",
      "Contour: 121, 11, 22, 16\n",
      "Contour: 35, 10, 13, 28\n",
      "Contour: 38, 49, 11, 14\n",
      "Contour: 81, 47, 11, 13\n",
      "Contour: 21, 35, 12, 14\n",
      "Contour: 14, 25, 23, 7\n",
      "Contour: 109, 22, 4, 4\n",
      "Contour: 57, 22, 20, 23\n",
      "Contour: 17, 18, 15, 4\n",
      "Contour: 83, 17, 15, 26\n",
      "Contour: 43, 16, 14, 29\n",
      "Contour: 14, 32, 38, 27\n",
      "Contour: 52, 29, 57, 31\n",
      "Contour: 111, 27, 6, 23\n",
      "Contour: 56, 16, 17, 22\n",
      "Contour: 26, 14, 14, 15\n",
      "Contour: 76, 45, 12, 14\n",
      "Contour: 32, 41, 20, 15\n",
      "Contour: 93, 30, 21, 18\n",
      "Contour: 56, 25, 13, 17\n",
      "Contour: 171, 21, 6, 28\n",
      "Contour: 135, 20, 32, 27\n",
      "Contour: 77, 19, 17, 21\n",
      "Contour: 12, 17, 36, 27\n",
      "Contour: 123, 16, 14, 34\n",
      "Contour: 104, 14, 4, 14\n",
      "Contour: 182, 12, 41, 44\n",
      "Contour: 13, 16, 56, 29\n",
      "Contour: 55, 0, 12, 8\n",
      "Contour: 38, 0, 9, 9\n",
      "Contour: 37, 0, 4, 2\n",
      "Contour: 16, 0, 11, 9\n",
      "Contour: 106, 44, 20, 12\n",
      "Contour: 65, 32, 25, 25\n",
      "Contour: 95, 30, 12, 13\n",
      "Contour: 90, 21, 19, 7\n",
      "Contour: 93, 15, 13, 4\n",
      "Contour: 116, 14, 14, 29\n",
      "Contour: 16, 13, 69, 39\n",
      "Contour: 120, 41, 1, 2\n",
      "Contour: 48, 33, 27, 23\n",
      "Contour: 80, 31, 27, 18\n",
      "Contour: 118, 19, 3, 4\n",
      "Contour: 41, 17, 4, 30\n",
      "Contour: 15, 16, 23, 28\n",
      "Contour: 82, 15, 15, 15\n",
      "Contour: 54, 13, 15, 20\n",
      "Contour: 57, 28, 11, 12\n",
      "Contour: 16, 25, 20, 19\n",
      "Contour: 0, 24, 2, 21\n",
      "Contour: 75, 19, 5, 29\n",
      "Contour: 40, 16, 12, 45\n",
      "Contour: 20, 16, 12, 5\n",
      "Contour: 82, 17, 23, 23\n",
      "Contour: 74, 17, 4, 21\n",
      "Contour: 49, 17, 22, 21\n",
      "Contour: 109, 15, 6, 25\n",
      "Contour: 13, 14, 32, 30\n",
      "Contour: 31, 38, 20, 20\n",
      "Contour: 55, 21, 24, 24\n",
      "Contour: 86, 16, 49, 33\n",
      "Contour: 15, 14, 24, 26\n",
      "Contour: 42, 13, 6, 27\n",
      "Contour: 129, 75, 3, 2\n",
      "Contour: 62, 44, 19, 11\n",
      "Contour: 37, 44, 13, 12\n",
      "Contour: 104, 43, 14, 20\n",
      "Contour: 126, 39, 24, 20\n",
      "Contour: 121, 31, 26, 6\n",
      "Contour: 89, 31, 13, 14\n",
      "Contour: 87, 23, 19, 7\n",
      "Contour: 54, 18, 21, 24\n",
      "Contour: 15, 18, 35, 26\n",
      "Contour: 110, 17, 13, 25\n",
      "Contour: 128, 16, 11, 11\n",
      "Contour: 90, 16, 13, 6\n",
      "Contour: 77, 15, 6, 25\n",
      "Contour: 56, 34, 27, 24\n",
      "Contour: 59, 19, 14, 13\n",
      "Contour: 15, 19, 24, 23\n",
      "Contour: 36, 14, 20, 48\n",
      "Contour: 69, 42, 16, 12\n",
      "Contour: 39, 41, 12, 15\n",
      "Contour: 126, 35, 28, 21\n",
      "Contour: 90, 29, 34, 27\n",
      "Contour: 55, 19, 21, 23\n",
      "Contour: 0, 19, 3, 10\n",
      "Contour: 14, 16, 37, 27\n",
      "Contour: 80, 15, 5, 23\n",
      "Contour: 129, 12, 16, 21\n",
      "Contour: 98, 12, 13, 14\n",
      "Contour: 170, 51, 17, 9\n",
      "Contour: 74, 46, 13, 12\n",
      "Contour: 137, 43, 19, 15\n",
      "Contour: 90, 40, 28, 24\n",
      "Contour: 125, 25, 15, 20\n",
      "Contour: 160, 23, 34, 23\n",
      "Contour: 14, 23, 34, 29\n",
      "Contour: 18, 23, 13, 15\n",
      "Contour: 148, 22, 5, 26\n",
      "Contour: 53, 21, 34, 24\n",
      "Contour: 193, 20, 37, 42\n",
      "Contour: 242, 18, 4, 10\n",
      "Contour: 94, 14, 17, 23\n",
      "Contour: 86, 22, 26, 22\n",
      "Contour: 53, 22, 25, 26\n",
      "Contour: 15, 19, 14, 16\n",
      "Contour: 111, 17, 21, 39\n",
      "Contour: 27, 11, 19, 44\n",
      "Contour: 80, 43, 14, 15\n",
      "Contour: 50, 20, 4, 25\n",
      "Contour: 14, 18, 32, 28\n",
      "Contour: 57, 15, 21, 24\n",
      "Contour: 84, 14, 15, 24\n",
      "Contour: 15, 39, 26, 8\n",
      "Contour: 52, 23, 3, 13\n",
      "Contour: 15, 14, 17, 25\n"
     ]
    }
   ],
   "source": [
    "# 전처리 이미지 불러와서 테두리 따고, 한 글자씩 추출\n",
    "os.makedirs(current_path + \"/character\", exist_ok=True)\n",
    "binarizationed_images = []\n",
    "preprocessed_dir = current_path + \"/preprocessed/\"\n",
    "\n",
    "for filename in sorted(os.listdir(preprocessed_dir)):\n",
    "    if filename.endswith((\".png\", \".jpg\", \".jpeg\")):  # Correct way to check multiple extensions\n",
    "        img_path = os.path.join(preprocessed_dir, filename)\n",
    "        # Load as grayscale directly\n",
    "        img = cv2.imread(img_path, cv2.IMREAD_GRAYSCALE)\n",
    "        _, thresh = cv2.threshold(img, 0, 255, cv2.THRESH_BINARY + cv2.THRESH_OTSU)\n",
    "        thresh_inv = cv2.bitwise_not(thresh)\n",
    "\n",
    "        if thresh_inv is not None:\n",
    "            binarizationed_images.append(thresh_inv)\n",
    "\n",
    "print(f\"Loaded {len(binarizationed_images)} images\")\n",
    "\n",
    "for idx, image in enumerate(binarizationed_images):\n",
    "    contours, _ = cv2.findContours(\n",
    "        image,\n",
    "        cv2.RETR_EXTERNAL,\n",
    "        cv2.CHAIN_APPROX_SIMPLE\n",
    "    )\n",
    "\n",
    "    # 외곽선 기반으로 각 글자 이미지 추출\n",
    "    for contour in contours:\n",
    "        x, y, w, h = cv2.boundingRect(contour)\n",
    "        aspect_ratio = w / float(h)\n",
    "\n",
    "        print(f\"Contour: {x}, {y}, {w}, {h}\")\n",
    "        \n",
    "        # 면적이나 가로세로 비율을 엄격하게 조정\n",
    "        area = cv2.contourArea(contour)\n",
    "        if aspect_ratio > 1.2 or aspect_ratio < 0.5 or area < 10:\n",
    "            continue\n",
    "\n",
    "        # w, h 비율이 1.4 : 1 이상 넘어가는 이미지는 제거\n",
    "        # if w / h > 1.4:\n",
    "        #     continue\n",
    "\n",
    "        character = image[y:y+h, x:x+w]\n",
    "        character = cv2.bitwise_not(character)\n",
    "        cv2.imwrite(f\"./character/character_{idx}_{x}_{y}_{w}_{h}.jpg\", character)\n"
   ]
  },
  {
   "cell_type": "code",
   "execution_count": 41,
   "id": "f583861e4b752d6e",
   "metadata": {
    "ExecuteTime": {
     "end_time": "2025-03-19T15:06:30.746511Z",
     "start_time": "2025-03-19T15:06:30.629140Z"
    }
   },
   "outputs": [
    {
     "name": "stdout",
     "output_type": "stream",
     "text": [
      "5th // Character: 니, Confidence: 0.8341764807701111\n",
      "7th // Character: 큰, Confidence: 0.9936112761497498\n",
      "15th // Character: 시, Confidence: 0.8604597449302673\n",
      "25th // Character: 기, Confidence: 0.8168972134590149\n",
      "28th // Character: 그, Confidence: 0.9734094738960266\n",
      "30th // Character: 서, Confidence: 0.8411142230033875\n",
      "35th // Character: 시, Confidence: 0.7428851127624512\n",
      "39th // Character: 년, Confidence: 0.6704851984977722\n",
      "61th // Character: 점, Confidence: 0.9499518871307373\n",
      "67th // Character: 니, Confidence: 0.5921111702919006\n",
      "69th // Character: 시, Confidence: 0.5896554589271545\n",
      "98th // Character: 너, Confidence: 0.5560401082038879\n",
      "99th // Character: 로, Confidence: 0.8465448617935181\n"
     ]
    }
   ],
   "source": [
    "import re\n",
    "\n",
    "\n",
    "os.makedirs(current_path + \"/character_extracted\", exist_ok=True)\n",
    "character_extracted_dir = current_path + \"/character_extracted/\"\n",
    "character_dir = current_path + \"/character/\"\n",
    "\n",
    "for idx, filename in enumerate(sorted(os.listdir(character_dir))):\n",
    "    if filename.endswith((\".png\", \".jpg\", \".jpeg\")):\n",
    "        img = cv2.imread(f\"{character_dir}\" + filename, cv2.IMREAD_GRAYSCALE)\n",
    "        result = ocr.ocr(img, det=False, rec=True, cls=False)\n",
    "\n",
    "        # 전체 픽셀 중 흰색 픽셀 대 검정 픽셀 비율이 80% 이상인 경우 continue\n",
    "        if np.mean(img) > 200:\n",
    "            continue\n",
    "\n",
    "        if not result or not result[0] or not result[0][0]: # 인식 못하면 continue\n",
    "            continue\n",
    "\n",
    "        text = result[0][0][0]\n",
    "        confidence = result[0][0][1]\n",
    "\n",
    "        if re.search(r\"[^가-힣ㄱ-ㅎㅏ-ㅣ]\", text): # 한글이 아닌 문자가 있는 경우 continue\n",
    "            continue\n",
    "\n",
    "        if text and len(text) == 1 and confidence > 0.5:\n",
    "            print(f\"{idx}th // Character: {text}, Confidence: {confidence}\")\n",
    "            cv2.imwrite(character_extracted_dir + f\"character_{idx}_{confidence:.2f}.jpg\", img)\n"
   ]
  },
  {
   "cell_type": "code",
   "execution_count": 68,
   "id": "71d5bb080b67c13",
   "metadata": {
    "ExecuteTime": {
     "end_time": "2025-03-19T15:06:30.768782Z",
     "start_time": "2025-03-19T15:06:30.767045Z"
    }
   },
   "outputs": [
    {
     "name": "stdout",
     "output_type": "stream",
     "text": [
      "Contour area: 15.5\n",
      "Contour area: 11.5\n",
      "Contour area: 152.0\n",
      "Contour area: 52.0\n",
      "Contour area: 76.5\n",
      "Contour area: 167.5\n"
     ]
    }
   ],
   "source": [
    "# character_extracted 이미지에 들어있는 검정색 노이즈 제거\n",
    "# os.makedirs(current_path + \"/final\", exist_ok=True) # final 디렉토리 생성\n",
    "# character_extracted_dir = current_path + \"/character_extracted/\"\n",
    "# for idx, filename in enumerate(sorted(os.listdir(character_extracted_dir))):\n",
    "#     if filename.endswith((\".png\", \".jpg\", \".jpeg\")):\n",
    "#         img = cv2.imread(f\"{character_extracted_dir}\" + filename, cv2.IMREAD_GRAYSCALE)\n",
    "        \n",
    "#         # 컨투어 면적 필터링\n",
    "#         # 컨투어 내부 픽셀 수가 100개 미만인 경우 해당 영역 제거\n",
    "#         contours, _ = cv2.findContours(\n",
    "#             img,\n",
    "#             cv2.RETR_EXTERNAL,\n",
    "#             cv2.CHAIN_APPROX_SIMPLE\n",
    "#         )\n",
    "#         for contour in contours:\n",
    "#             print(f\"Contour area: {cv2.contourArea(contour)}\")\n",
    "#             if cv2.contourArea(contour) < 400:\n",
    "#                 cv2.drawContours(img, [contour], -1, 255, thickness=-1)\n",
    "            \n",
    "#         cv2.imwrite(f\"./final/final_{idx}.jpg\", img)\n",
    "img = cv2.imread(f\"./character_extracted/character_39_0.67.jpg\", cv2.IMREAD_GRAYSCALE)\n",
    "_, binary = cv2.threshold(img, 127, 255, cv2.THRESH_BINARY)\n",
    "\n",
    "kernel = cv2.getStructuringElement(cv2.MORPH_RECT, (2, 2))\n",
    "opened = cv2.morphologyEx(binary, cv2.MORPH_OPEN, kernel)\n",
    "\n",
    "contours, _ = cv2.findContours(\n",
    "    opened,\n",
    "    cv2.RETR_EXTERNAL,\n",
    "    cv2.CHAIN_APPROX_SIMPLE\n",
    ")\n",
    "for contour in contours:\n",
    "    print(f\"Contour area: {cv2.contourArea(contour)}\")\n",
    "    \n",
    "    if cv2.contourArea(contour) < 100:\n",
    "        cv2.drawContours(opened, [contour], -1, 255, thickness=-1)\n",
    "    \n",
    "    cv2.imwrite(f\"./final/final.jpg\", opened)"
   ]
  }
 ],
 "metadata": {
  "kernelspec": {
   "display_name": "paddlenet",
   "language": "python",
   "name": "python3"
  },
  "language_info": {
   "codemirror_mode": {
    "name": "ipython",
    "version": 3
   },
   "file_extension": ".py",
   "mimetype": "text/x-python",
   "name": "python",
   "nbconvert_exporter": "python",
   "pygments_lexer": "ipython3",
   "version": "3.12.9"
  }
 },
 "nbformat": 4,
 "nbformat_minor": 5
}
