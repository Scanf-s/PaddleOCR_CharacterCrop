{
 "cells": [
  {
   "cell_type": "markdown",
   "id": "69ddc8b47240588",
   "metadata": {},
   "source": [
    "# Paddle OCR을 실행해보자"
   ]
  },
  {
   "cell_type": "code",
   "execution_count": 328,
   "id": "1f7ea4686c2182a",
   "metadata": {
    "ExecuteTime": {
     "end_time": "2025-03-19T15:06:24.952191Z",
     "start_time": "2025-03-19T15:06:24.330987Z"
    }
   },
   "outputs": [
    {
     "name": "stdout",
     "output_type": "stream",
     "text": [
      "Requirement already satisfied: paddlepaddle-gpu in /home/sslab3/anaconda3/envs/paddlenet/lib/python3.12/site-packages (2.6.2)\n",
      "Requirement already satisfied: httpx in /home/sslab3/anaconda3/envs/paddlenet/lib/python3.12/site-packages (from paddlepaddle-gpu) (0.28.1)\n",
      "Requirement already satisfied: numpy>=1.13 in /home/sslab3/anaconda3/envs/paddlenet/lib/python3.12/site-packages (from paddlepaddle-gpu) (2.2.4)\n",
      "Requirement already satisfied: Pillow in /home/sslab3/anaconda3/envs/paddlenet/lib/python3.12/site-packages (from paddlepaddle-gpu) (11.1.0)\n",
      "Requirement already satisfied: decorator in /home/sslab3/anaconda3/envs/paddlenet/lib/python3.12/site-packages (from paddlepaddle-gpu) (5.2.1)\n",
      "Requirement already satisfied: astor in /home/sslab3/anaconda3/envs/paddlenet/lib/python3.12/site-packages (from paddlepaddle-gpu) (0.8.1)\n",
      "Requirement already satisfied: opt-einsum==3.3.0 in /home/sslab3/anaconda3/envs/paddlenet/lib/python3.12/site-packages (from paddlepaddle-gpu) (3.3.0)\n",
      "Requirement already satisfied: protobuf>=3.20.2 in /home/sslab3/anaconda3/envs/paddlenet/lib/python3.12/site-packages (from paddlepaddle-gpu) (6.30.1)\n",
      "Requirement already satisfied: anyio in /home/sslab3/anaconda3/envs/paddlenet/lib/python3.12/site-packages (from httpx->paddlepaddle-gpu) (4.9.0)\n",
      "Requirement already satisfied: certifi in /home/sslab3/anaconda3/envs/paddlenet/lib/python3.12/site-packages (from httpx->paddlepaddle-gpu) (2025.1.31)\n",
      "Requirement already satisfied: httpcore==1.* in /home/sslab3/anaconda3/envs/paddlenet/lib/python3.12/site-packages (from httpx->paddlepaddle-gpu) (1.0.7)\n",
      "Requirement already satisfied: idna in /home/sslab3/anaconda3/envs/paddlenet/lib/python3.12/site-packages (from httpx->paddlepaddle-gpu) (3.10)\n",
      "Requirement already satisfied: h11<0.15,>=0.13 in /home/sslab3/anaconda3/envs/paddlenet/lib/python3.12/site-packages (from httpcore==1.*->httpx->paddlepaddle-gpu) (0.14.0)\n",
      "Requirement already satisfied: sniffio>=1.1 in /home/sslab3/anaconda3/envs/paddlenet/lib/python3.12/site-packages (from anyio->httpx->paddlepaddle-gpu) (1.3.1)\n",
      "Requirement already satisfied: typing_extensions>=4.5 in /home/sslab3/anaconda3/envs/paddlenet/lib/python3.12/site-packages (from anyio->httpx->paddlepaddle-gpu) (4.12.2)\n",
      "Note: you may need to restart the kernel to use updated packages.\n"
     ]
    }
   ],
   "source": [
    "# CUDA-11.8이 설치되어 있는 GPU 사용 가능한 컴퓨터기 때문에 gpu 버전 다운로드\n",
    "# !pip install paddlepaddle-gpu\n",
    "%pip install paddlepaddle-gpu"
   ]
  },
  {
   "cell_type": "code",
   "execution_count": 329,
   "id": "86d0cc679a3a8b5f",
   "metadata": {
    "ExecuteTime": {
     "end_time": "2025-03-19T15:06:25.665774Z",
     "start_time": "2025-03-19T15:06:24.957041Z"
    }
   },
   "outputs": [
    {
     "name": "stdout",
     "output_type": "stream",
     "text": [
      "Requirement already satisfied: paddleocr in /home/sslab3/anaconda3/envs/paddlenet/lib/python3.12/site-packages (2.10.0)\n",
      "Requirement already satisfied: shapely in /home/sslab3/anaconda3/envs/paddlenet/lib/python3.12/site-packages (from paddleocr) (2.0.7)\n",
      "Requirement already satisfied: scikit-image in /home/sslab3/anaconda3/envs/paddlenet/lib/python3.12/site-packages (from paddleocr) (0.25.2)\n",
      "Requirement already satisfied: pyclipper in /home/sslab3/anaconda3/envs/paddlenet/lib/python3.12/site-packages (from paddleocr) (1.3.0.post6)\n",
      "Requirement already satisfied: lmdb in /home/sslab3/anaconda3/envs/paddlenet/lib/python3.12/site-packages (from paddleocr) (1.6.2)\n",
      "Requirement already satisfied: tqdm in /home/sslab3/anaconda3/envs/paddlenet/lib/python3.12/site-packages (from paddleocr) (4.67.1)\n",
      "Requirement already satisfied: numpy in /home/sslab3/anaconda3/envs/paddlenet/lib/python3.12/site-packages (from paddleocr) (2.2.4)\n",
      "Requirement already satisfied: rapidfuzz in /home/sslab3/anaconda3/envs/paddlenet/lib/python3.12/site-packages (from paddleocr) (3.12.2)\n",
      "Requirement already satisfied: opencv-python in /home/sslab3/anaconda3/envs/paddlenet/lib/python3.12/site-packages (from paddleocr) (4.11.0.86)\n",
      "Requirement already satisfied: opencv-contrib-python in /home/sslab3/anaconda3/envs/paddlenet/lib/python3.12/site-packages (from paddleocr) (4.11.0.86)\n",
      "Requirement already satisfied: cython in /home/sslab3/anaconda3/envs/paddlenet/lib/python3.12/site-packages (from paddleocr) (3.0.12)\n",
      "Requirement already satisfied: Pillow in /home/sslab3/anaconda3/envs/paddlenet/lib/python3.12/site-packages (from paddleocr) (11.1.0)\n",
      "Requirement already satisfied: pyyaml in /home/sslab3/anaconda3/envs/paddlenet/lib/python3.12/site-packages (from paddleocr) (6.0.2)\n",
      "Requirement already satisfied: python-docx in /home/sslab3/anaconda3/envs/paddlenet/lib/python3.12/site-packages (from paddleocr) (1.1.2)\n",
      "Requirement already satisfied: beautifulsoup4 in /home/sslab3/anaconda3/envs/paddlenet/lib/python3.12/site-packages (from paddleocr) (4.13.3)\n",
      "Requirement already satisfied: fonttools>=4.24.0 in /home/sslab3/anaconda3/envs/paddlenet/lib/python3.12/site-packages (from paddleocr) (4.56.0)\n",
      "Requirement already satisfied: fire>=0.3.0 in /home/sslab3/anaconda3/envs/paddlenet/lib/python3.12/site-packages (from paddleocr) (0.7.0)\n",
      "Requirement already satisfied: requests in /home/sslab3/anaconda3/envs/paddlenet/lib/python3.12/site-packages (from paddleocr) (2.32.3)\n",
      "Requirement already satisfied: albumentations in /home/sslab3/anaconda3/envs/paddlenet/lib/python3.12/site-packages (from paddleocr) (2.0.5)\n",
      "Requirement already satisfied: albucore in /home/sslab3/anaconda3/envs/paddlenet/lib/python3.12/site-packages (from paddleocr) (0.0.23)\n",
      "Requirement already satisfied: termcolor in /home/sslab3/anaconda3/envs/paddlenet/lib/python3.12/site-packages (from fire>=0.3.0->paddleocr) (2.5.0)\n",
      "Requirement already satisfied: stringzilla>=3.10.4 in /home/sslab3/anaconda3/envs/paddlenet/lib/python3.12/site-packages (from albucore->paddleocr) (3.12.3)\n",
      "Requirement already satisfied: simsimd>=5.9.2 in /home/sslab3/anaconda3/envs/paddlenet/lib/python3.12/site-packages (from albucore->paddleocr) (6.2.1)\n",
      "Requirement already satisfied: opencv-python-headless>=4.9.0.80 in /home/sslab3/anaconda3/envs/paddlenet/lib/python3.12/site-packages (from albucore->paddleocr) (4.11.0.86)\n",
      "Requirement already satisfied: scipy>=1.10.0 in /home/sslab3/anaconda3/envs/paddlenet/lib/python3.12/site-packages (from albumentations->paddleocr) (1.15.2)\n",
      "Requirement already satisfied: pydantic>=2.9.2 in /home/sslab3/anaconda3/envs/paddlenet/lib/python3.12/site-packages (from albumentations->paddleocr) (2.10.6)\n",
      "Requirement already satisfied: soupsieve>1.2 in /home/sslab3/anaconda3/envs/paddlenet/lib/python3.12/site-packages (from beautifulsoup4->paddleocr) (2.6)\n",
      "Requirement already satisfied: typing-extensions>=4.0.0 in /home/sslab3/anaconda3/envs/paddlenet/lib/python3.12/site-packages (from beautifulsoup4->paddleocr) (4.12.2)\n",
      "Requirement already satisfied: lxml>=3.1.0 in /home/sslab3/anaconda3/envs/paddlenet/lib/python3.12/site-packages (from python-docx->paddleocr) (5.3.1)\n",
      "Requirement already satisfied: charset-normalizer<4,>=2 in /home/sslab3/anaconda3/envs/paddlenet/lib/python3.12/site-packages (from requests->paddleocr) (3.4.1)\n",
      "Requirement already satisfied: idna<4,>=2.5 in /home/sslab3/anaconda3/envs/paddlenet/lib/python3.12/site-packages (from requests->paddleocr) (3.10)\n",
      "Requirement already satisfied: urllib3<3,>=1.21.1 in /home/sslab3/anaconda3/envs/paddlenet/lib/python3.12/site-packages (from requests->paddleocr) (2.3.0)\n",
      "Requirement already satisfied: certifi>=2017.4.17 in /home/sslab3/anaconda3/envs/paddlenet/lib/python3.12/site-packages (from requests->paddleocr) (2025.1.31)\n",
      "Requirement already satisfied: networkx>=3.0 in /home/sslab3/anaconda3/envs/paddlenet/lib/python3.12/site-packages (from scikit-image->paddleocr) (3.4.2)\n",
      "Requirement already satisfied: imageio!=2.35.0,>=2.33 in /home/sslab3/anaconda3/envs/paddlenet/lib/python3.12/site-packages (from scikit-image->paddleocr) (2.37.0)\n",
      "Requirement already satisfied: tifffile>=2022.8.12 in /home/sslab3/anaconda3/envs/paddlenet/lib/python3.12/site-packages (from scikit-image->paddleocr) (2025.3.13)\n",
      "Requirement already satisfied: packaging>=21 in /home/sslab3/anaconda3/envs/paddlenet/lib/python3.12/site-packages (from scikit-image->paddleocr) (24.2)\n",
      "Requirement already satisfied: lazy-loader>=0.4 in /home/sslab3/anaconda3/envs/paddlenet/lib/python3.12/site-packages (from scikit-image->paddleocr) (0.4)\n",
      "Requirement already satisfied: annotated-types>=0.6.0 in /home/sslab3/anaconda3/envs/paddlenet/lib/python3.12/site-packages (from pydantic>=2.9.2->albumentations->paddleocr) (0.7.0)\n",
      "Requirement already satisfied: pydantic-core==2.27.2 in /home/sslab3/anaconda3/envs/paddlenet/lib/python3.12/site-packages (from pydantic>=2.9.2->albumentations->paddleocr) (2.27.2)\n",
      "Note: you may need to restart the kernel to use updated packages.\n"
     ]
    }
   ],
   "source": [
    "# PaddleOCR whl package 설치\n",
    "# !pip install \"paddleocr>=2.0.1\"\n",
    "%pip install paddleocr"
   ]
  },
  {
   "cell_type": "markdown",
   "id": "6f7a194dc358c8ea",
   "metadata": {},
   "source": [
    "# 한번 사용해보도록 하자\n",
    "\n",
    "실행하기 전, 컴퓨터에 cuDNN이 설치되어있는지 확인하자. 없다면 설치\n",
    "\n",
    "CUDA 11.8 사용 기준으로\n",
    "\n",
    "wget https://developer.download.nvidia.com/compute/cuda/repos/ubuntu2204/x86_64/cuda-keyring_1.1-1_all.deb\n",
    "sudo dpkg -i cuda-keyring_1.1-1_all.deb\n",
    "sudo apt-get update\n",
    "sudo apt-get -y install cudnn\n",
    "sudo apt-get -y install cudnn-cuda-11"
   ]
  },
  {
   "cell_type": "code",
   "execution_count": 330,
   "id": "8680603255355a2e",
   "metadata": {
    "ExecuteTime": {
     "end_time": "2025-03-19T15:06:25.709911Z",
     "start_time": "2025-03-19T15:06:25.706577Z"
    }
   },
   "outputs": [
    {
     "name": "stdout",
     "output_type": "stream",
     "text": [
      "Is compiled with CUDA? True\n",
      "CUDA devices:, 3\n"
     ]
    }
   ],
   "source": [
    "import paddle\n",
    "print(f\"Is compiled with CUDA? {paddle.is_compiled_with_cuda()}\")\n",
    "print(f\"CUDA devices:, {paddle.device.cuda.device_count()}\")"
   ]
  },
  {
   "cell_type": "code",
   "execution_count": 331,
   "id": "a41f03112068d97b",
   "metadata": {
    "ExecuteTime": {
     "end_time": "2025-03-19T15:06:25.752433Z",
     "start_time": "2025-03-19T15:06:25.749470Z"
    }
   },
   "outputs": [],
   "source": [
    "# 콘솔에 아래 명령 입력\n",
    "# paddleocr --image_dir .책표지_기타_000001.jpg --lang=korean"
   ]
  },
  {
   "cell_type": "code",
   "execution_count": 332,
   "id": "2293139ffa7f2462",
   "metadata": {
    "ExecuteTime": {
     "end_time": "2025-03-19T15:06:28.733811Z",
     "start_time": "2025-03-19T15:06:25.795203Z"
    }
   },
   "outputs": [
    {
     "name": "stdout",
     "output_type": "stream",
     "text": [
      "[2025/03/26 19:54:11] ppocr DEBUG: Namespace(help='==SUPPRESS==', use_gpu=True, use_xpu=False, use_npu=False, use_mlu=False, use_gcu=False, ir_optim=True, use_tensorrt=False, min_subgraph_size=15, precision='fp32', gpu_mem=500, gpu_id=0, image_dir=None, page_num=0, det_algorithm='DB', det_model_dir='/home/sslab3/.paddleocr/whl/det/ml/Multilingual_PP-OCRv3_det_infer', det_limit_side_len=960, det_limit_type='max', det_box_type='quad', det_db_thresh=0.3, det_db_box_thresh=0.6, det_db_unclip_ratio=1.5, max_batch_size=10, use_dilation=False, det_db_score_mode='fast', det_east_score_thresh=0.8, det_east_cover_thresh=0.1, det_east_nms_thresh=0.2, det_sast_score_thresh=0.5, det_sast_nms_thresh=0.2, det_pse_thresh=0, det_pse_box_thresh=0.85, det_pse_min_area=16, det_pse_scale=1, scales=[8, 16, 32], alpha=1.0, beta=1.0, fourier_degree=5, rec_algorithm='SVTR_LCNet', rec_model_dir='/home/sslab3/.paddleocr/whl/rec/korean/korean_PP-OCRv4_rec_infer', rec_image_inverse=True, rec_image_shape='3, 48, 320', rec_batch_num=6, max_text_length=25, rec_char_dict_path='/home/sslab3/anaconda3/envs/paddlenet/lib/python3.12/site-packages/paddleocr/ppocr/utils/dict/korean_dict.txt', use_space_char=True, vis_font_path='./doc/fonts/simfang.ttf', drop_score=0.5, e2e_algorithm='PGNet', e2e_model_dir=None, e2e_limit_side_len=768, e2e_limit_type='max', e2e_pgnet_score_thresh=0.5, e2e_char_dict_path='./ppocr/utils/ic15_dict.txt', e2e_pgnet_valid_set='totaltext', e2e_pgnet_mode='fast', use_angle_cls=False, cls_model_dir='/home/sslab3/.paddleocr/whl/cls/ch_ppocr_mobile_v2.0_cls_infer', cls_image_shape='3, 48, 192', label_list=['0', '180'], cls_batch_num=6, cls_thresh=0.9, enable_mkldnn=False, cpu_threads=10, use_pdserving=False, warmup=False, sr_model_dir=None, sr_image_shape='3, 32, 128', sr_batch_num=1, draw_img_save_dir='./inference_results', save_crop_res=False, crop_res_save_dir='./output', use_mp=False, total_process_num=1, process_id=0, benchmark=False, save_log_path='./log_output/', show_log=True, use_onnx=False, onnx_providers=False, onnx_sess_options=False, return_word_box=False, output='./output', table_max_len=488, table_algorithm='TableAttn', table_model_dir=None, merge_no_span_structure=True, table_char_dict_path=None, formula_algorithm='LaTeXOCR', formula_model_dir=None, formula_char_dict_path=None, formula_batch_num=1, layout_model_dir=None, layout_dict_path=None, layout_score_threshold=0.5, layout_nms_threshold=0.5, kie_algorithm='LayoutXLM', ser_model_dir=None, re_model_dir=None, use_visual_backbone=True, ser_dict_path='../train_data/XFUND/class_list_xfun.txt', ocr_order_method=None, mode='structure', image_orientation=False, layout=True, table=True, formula=False, ocr=True, recovery=False, recovery_to_markdown=False, use_pdf2docx_api=False, invert=False, binarize=False, alphacolor=(255, 255, 255), lang='korean', det=True, rec=True, type='ocr', savefile=False, ocr_version='PP-OCRv4', structure_version='PP-StructureV2')\n",
      "[2025/03/26 19:54:11] ppocr WARNING: The first GPU is used for inference by default, GPU ID: 0\n",
      "[2025/03/26 19:54:11] ppocr WARNING: The first GPU is used for inference by default, GPU ID: 0\n"
     ]
    }
   ],
   "source": [
    "from paddleocr import PaddleOCR,draw_ocr\n",
    "\n",
    "ocr = PaddleOCR(lang=\"korean\")"
   ]
  },
  {
   "cell_type": "code",
   "execution_count": 333,
   "id": "dee77a486932d110",
   "metadata": {
    "ExecuteTime": {
     "end_time": "2025-03-19T15:06:28.900051Z",
     "start_time": "2025-03-19T15:06:28.770592Z"
    }
   },
   "outputs": [
    {
     "name": "stdout",
     "output_type": "stream",
     "text": [
      "[2025/03/26 19:54:14] ppocr WARNING: Since the angle classifier is not initialized, it will not be used during the forward process\n",
      "[2025/03/26 19:54:14] ppocr DEBUG: dt_boxes num : 17, elapsed : 0.019881486892700195\n",
      "[2025/03/26 19:54:14] ppocr DEBUG: rec_res num  : 17, elapsed : 0.05419158935546875\n",
      "[[[2.0, 23.0], [86.0, 23.0], [86.0, 63.0], [2.0, 63.0]], ('내년에', 0.9998161792755127)]\n",
      "[[[99.0, 21.0], [188.0, 18.0], [189.0, 64.0], [100.0, 67.0]], ('원하는', 0.9999715685844421)]\n",
      "[[[203.0, 21.0], [302.0, 21.0], [302.0, 63.0], [203.0, 63.0]], ('대학에', 0.9999591708183289)]\n",
      "[[[315.0, 21.0], [435.0, 21.0], [435.0, 66.0], [315.0, 66.0]], ('합격해서', 0.9998401403427124)]\n",
      "[[[448.0, 24.0], [486.0, 24.0], [486.0, 60.0], [448.0, 60.0]], ('제', 0.9988118410110474)]\n",
      "[[[500.0, 17.0], [579.0, 17.0], [579.0, 65.0], [500.0, 65.0]], ('손글씨', 0.996300458908081)]\n",
      "[[[589.0, 16.0], [668.0, 16.0], [668.0, 68.0], [589.0, 68.0]], ('글꼴로', 0.9981646537780762)]\n",
      "[[[0.0, 92.0], [90.0, 92.0], [90.0, 136.0], [0.0, 136.0]], ('과제를', 0.999286949634552)]\n",
      "[[[234.0, 91.0], [319.0, 91.0], [319.0, 136.0], [234.0, 136.0]], ('싶어요', 0.99886155128479)]\n",
      "[[[330.0, 85.0], [417.0, 90.0], [413.0, 142.0], [326.0, 136.0]], ('수험생', 0.9998006820678711)]\n",
      "[[[107.0, 95.0], [220.0, 95.0], [220.0, 135.0], [107.0, 135.0]], ('작성하고', 0.9998148679733276)]\n",
      "[[[427.0, 94.0], [536.0, 94.0], [536.0, 134.0], [427.0, 134.0]], ('모두에게', 0.9999240636825562)]\n",
      "[[[547.0, 87.0], [598.0, 87.0], [598.0, 141.0], [547.0, 141.0]], ('좋은', 0.9999943375587463)]\n",
      "[[[612.0, 93.0], [671.0, 93.0], [671.0, 139.0], [612.0, 139.0]], ('결과', 0.9993107318878174)]\n",
      "[[[0.0, 168.0], [34.0, 168.0], [34.0, 206.0], [0.0, 206.0]], ('가', 0.9999511241912842)]\n",
      "[[[41.0, 160.0], [113.0, 157.0], [116.0, 212.0], [44.0, 215.0]], ('있길!', 0.9967606663703918)]\n",
      "[[[128.0, 165.0], [226.0, 165.0], [226.0, 207.0], [128.0, 207.0]], ('파이팅!', 0.9260866641998291)]\n"
     ]
    }
   ],
   "source": [
    "# 코드로 실행하자면?\n",
    "\n",
    "img_path = 'test_imgs/test33.jpg'\n",
    "result = ocr.ocr(img_path, cls=True)\n",
    "for idx in range(len(result)):\n",
    "    res = result[idx]\n",
    "    for line in res:\n",
    "        print(line)\n",
    "\n",
    "\n",
    "# draw result\n",
    "from PIL import Image\n",
    "result = result[0]\n",
    "image = Image.open(img_path).convert('RGB')\n",
    "boxes = [line[0] for line in result]\n",
    "txts = [line[1][0] for line in result]\n",
    "scores = [line[1][1] for line in result]\n",
    "im_show = draw_ocr(image, boxes, txts, scores, font_path='MaruBuri-Regular.ttf')\n",
    "im_show = Image.fromarray(im_show)\n",
    "im_show.save('first_ocr_result.jpg')\n",
    "im_show.show()"
   ]
  },
  {
   "cell_type": "code",
   "execution_count": 334,
   "id": "a9dc41c91255c263",
   "metadata": {
    "ExecuteTime": {
     "end_time": "2025-03-19T15:06:28.940860Z",
     "start_time": "2025-03-19T15:06:28.937414Z"
    }
   },
   "outputs": [
    {
     "name": "stdout",
     "output_type": "stream",
     "text": [
      "boxes: [[2.0, 23.0], [86.0, 23.0], [86.0, 63.0], [2.0, 63.0]]\n",
      "boxes: [[99.0, 21.0], [188.0, 18.0], [189.0, 64.0], [100.0, 67.0]]\n",
      "boxes: [[203.0, 21.0], [302.0, 21.0], [302.0, 63.0], [203.0, 63.0]]\n",
      "boxes: [[315.0, 21.0], [435.0, 21.0], [435.0, 66.0], [315.0, 66.0]]\n",
      "boxes: [[448.0, 24.0], [486.0, 24.0], [486.0, 60.0], [448.0, 60.0]]\n",
      "boxes: [[500.0, 17.0], [579.0, 17.0], [579.0, 65.0], [500.0, 65.0]]\n",
      "boxes: [[589.0, 16.0], [668.0, 16.0], [668.0, 68.0], [589.0, 68.0]]\n",
      "boxes: [[0.0, 92.0], [90.0, 92.0], [90.0, 136.0], [0.0, 136.0]]\n",
      "boxes: [[234.0, 91.0], [319.0, 91.0], [319.0, 136.0], [234.0, 136.0]]\n",
      "boxes: [[330.0, 85.0], [417.0, 90.0], [413.0, 142.0], [326.0, 136.0]]\n",
      "boxes: [[107.0, 95.0], [220.0, 95.0], [220.0, 135.0], [107.0, 135.0]]\n",
      "boxes: [[427.0, 94.0], [536.0, 94.0], [536.0, 134.0], [427.0, 134.0]]\n",
      "boxes: [[547.0, 87.0], [598.0, 87.0], [598.0, 141.0], [547.0, 141.0]]\n",
      "boxes: [[612.0, 93.0], [671.0, 93.0], [671.0, 139.0], [612.0, 139.0]]\n",
      "boxes: [[0.0, 168.0], [34.0, 168.0], [34.0, 206.0], [0.0, 206.0]]\n"
     ]
    }
   ],
   "source": [
    "# for idx in range(len(boxes)):\n",
    "#     print(f\"boxes: {boxes[idx]}, txts: {txts[idx]}\")\n",
    "\n",
    "# 한글 또는 영어, 숫자 txt만 포함된 box로 재구성\n",
    "boxes = [boxes[idx] for idx in range(len(boxes)) if txts[idx].isalnum()]\n",
    "\n",
    "for idx in range(len(boxes)):\n",
    "    print(f\"boxes: {boxes[idx]}\")"
   ]
  },
  {
   "cell_type": "code",
   "execution_count": 335,
   "id": "fe5536aefc7063b3",
   "metadata": {
    "ExecuteTime": {
     "end_time": "2025-03-19T15:06:29.690703Z",
     "start_time": "2025-03-19T15:06:28.979622Z"
    }
   },
   "outputs": [
    {
     "name": "stderr",
     "output_type": "stream",
     "text": [
      "Error: no \"view\" rule for type \"image/png\" passed its test case\n",
      "       (for more information, add \"--debug=1\" on the command line)\n"
     ]
    },
    {
     "name": "stdout",
     "output_type": "stream",
     "text": [
      "Requirement already satisfied: pip in /home/sslab3/anaconda3/envs/paddlenet/lib/python3.12/site-packages (25.0.1)\n",
      "Note: you may need to restart the kernel to use updated packages.\n"
     ]
    }
   ],
   "source": [
    "# !pip install --upgrade pip\n",
    "%pip install --upgrade pip"
   ]
  },
  {
   "cell_type": "code",
   "execution_count": 336,
   "id": "898890cb01f45a4d",
   "metadata": {
    "ExecuteTime": {
     "end_time": "2025-03-19T15:06:30.350997Z",
     "start_time": "2025-03-19T15:06:29.728553Z"
    }
   },
   "outputs": [
    {
     "name": "stdout",
     "output_type": "stream",
     "text": [
      "Requirement already satisfied: opencv-python in /home/sslab3/anaconda3/envs/paddlenet/lib/python3.12/site-packages (4.11.0.86)\n",
      "Requirement already satisfied: numpy>=1.21.2 in /home/sslab3/anaconda3/envs/paddlenet/lib/python3.12/site-packages (from opencv-python) (2.2.4)\n",
      "Note: you may need to restart the kernel to use updated packages.\n"
     ]
    }
   ],
   "source": [
    "# !pip install opencv-python\n",
    "%pip install opencv-python"
   ]
  },
  {
   "cell_type": "code",
   "execution_count": 337,
   "id": "121b44dda1bea524",
   "metadata": {
    "ExecuteTime": {
     "end_time": "2025-03-19T15:06:30.390376Z",
     "start_time": "2025-03-19T15:06:30.385455Z"
    }
   },
   "outputs": [
    {
     "name": "stdout",
     "output_type": "stream",
     "text": [
      "[[2.0, 23.0], [86.0, 23.0], [86.0, 63.0], [2.0, 63.0]]\n",
      "[[99.0, 21.0], [188.0, 18.0], [189.0, 64.0], [100.0, 67.0]]\n",
      "[[203.0, 21.0], [302.0, 21.0], [302.0, 63.0], [203.0, 63.0]]\n",
      "[[315.0, 21.0], [435.0, 21.0], [435.0, 66.0], [315.0, 66.0]]\n",
      "[[448.0, 24.0], [486.0, 24.0], [486.0, 60.0], [448.0, 60.0]]\n",
      "[[500.0, 17.0], [579.0, 17.0], [579.0, 65.0], [500.0, 65.0]]\n",
      "[[589.0, 16.0], [668.0, 16.0], [668.0, 68.0], [589.0, 68.0]]\n",
      "[[0.0, 92.0], [90.0, 92.0], [90.0, 136.0], [0.0, 136.0]]\n",
      "[[234.0, 91.0], [319.0, 91.0], [319.0, 136.0], [234.0, 136.0]]\n",
      "[[330.0, 85.0], [417.0, 90.0], [413.0, 142.0], [326.0, 136.0]]\n",
      "[[107.0, 95.0], [220.0, 95.0], [220.0, 135.0], [107.0, 135.0]]\n",
      "[[427.0, 94.0], [536.0, 94.0], [536.0, 134.0], [427.0, 134.0]]\n",
      "[[547.0, 87.0], [598.0, 87.0], [598.0, 141.0], [547.0, 141.0]]\n",
      "[[612.0, 93.0], [671.0, 93.0], [671.0, 139.0], [612.0, 139.0]]\n",
      "[[0.0, 168.0], [34.0, 168.0], [34.0, 206.0], [0.0, 206.0]]\n"
     ]
    }
   ],
   "source": [
    "import cv2\n",
    "import numpy as np\n",
    "\n",
    "# 1. cv2 imread로 그레이스케일 이미지 획득\n",
    "image = cv2.imread('test_imgs/test33.jpg', cv2.IMREAD_GRAYSCALE)\n",
    "\n",
    "# 2. 연산 효율성을 올리기 위해 boxes를 numpy array로 변환\n",
    "boxes_np_arr = np.array([])\n",
    "if boxes and len(boxes) > 0:\n",
    "    boxes_np_arr = np.array([np.array(box) for box in boxes])\n",
    "\n",
    "    for box in boxes:\n",
    "        print(box)\n",
    "else:\n",
    "    print(\"No boxes\")"
   ]
  },
  {
   "cell_type": "code",
   "execution_count": 338,
   "id": "9b67038a40177bf",
   "metadata": {
    "ExecuteTime": {
     "end_time": "2025-03-19T15:06:30.462454Z",
     "start_time": "2025-03-19T15:06:30.427171Z"
    }
   },
   "outputs": [],
   "source": [
    "# 3. 각 box = bounding box\n",
    "# bounding box 영역 안에 있는 각 영역을 Crop해서 새로운 이미지로 추출한다\n",
    "import os\n",
    "\n",
    "current_path = os.getcwd()\n",
    "os.makedirs(current_path + \"/cropped\", exist_ok=True)\n",
    "croped_images = []\n",
    "\n",
    "for idx, box in enumerate(boxes_np_arr):\n",
    "    # box 점 정렬\n",
    "    rect = np.zeros((4, 2), dtype=\"float32\")\n",
    "    s = box.sum(axis=1) # 네 좌표의 합\n",
    "    diff = np.diff(box, axis=1) # 네 좌표의 차이\n",
    "    rect[0] = box[np.argmin(s)] # 좌상단 좌표\n",
    "    rect[2] = box[np.argmax(s)] # 우하단 좌표\n",
    "    rect[1] = box[np.argmin(diff)] # 우상단 좌표\n",
    "    rect[3] = box[np.argmax(diff)] # 좌하단 좌표\n",
    "\n",
    "    # rect = [ 좌상, 우상, 우하, 좌하 ]\n",
    "\n",
    "    # 네 꼭짓점 좌표를 numpy array로 변환\n",
    "    # 이때, 검출 영역이 너무 Fit하게 되어있어서 +10을 해준다\n",
    "    offset = 10\n",
    "    image_height, image_width = image.shape[:2]\n",
    "    image_height -= 1\n",
    "    image_width -= 1\n",
    "\n",
    "    # rect[0] = 좌상단\n",
    "    x1 = max(0, rect[0][0] - offset)\n",
    "    y1 = max(0, rect[0][1] - offset)\n",
    "    # rect[1] = 우상단\n",
    "    x2 = min(rect[1][0] + offset, image_width)\n",
    "    y2 = max(0, rect[1][1] - offset)\n",
    "    # rect[2] = 우하단\n",
    "    x3 = min(rect[2][0] + offset, image_width)\n",
    "    y3 = min(rect[2][1] + offset, image_height)\n",
    "    # rect[3] = 좌하단\n",
    "    x4 = max(0, rect[3][0] - offset)\n",
    "    y4 = min(rect[3][1] + offset, image_height)\n",
    "    pts = np.array(\n",
    "        [\n",
    "            [x1, y1],\n",
    "            [x2, y2],\n",
    "            [x3, y3],\n",
    "            [x4, y4]\n",
    "        ],\n",
    "        dtype=\"float32\"\n",
    "    )\n",
    "\n",
    "    # 네 좌표를 바탕으로 이미지의 너비 및 높이 계산\n",
    "    widthA = np.sqrt((pts[2][0] - pts[3][0])**2 + (pts[2][1] - pts[3][1])**2)\n",
    "    widthB = np.sqrt((pts[1][0] - pts[0][0])**2 + (pts[1][1] - pts[0][1])**2)\n",
    "    maxWidth = max(int(widthA), int(widthB))\n",
    "\n",
    "    heightA = np.sqrt((pts[1][0] - pts[2][0])**2 + (pts[1][1] - pts[2][1])**2)\n",
    "    heightB = np.sqrt((pts[0][0] - pts[3][0])**2 + (pts[0][1] - pts[3][1])**2)\n",
    "    maxHeight = max(int(heightA), int(heightB))\n",
    "\n",
    "    # print(maxWidth, maxHeight)\n",
    "\n",
    "    # 출력될 이미지 좌표 설정\n",
    "    dst = np.array(\n",
    "        [\n",
    "            [0, 0],\n",
    "            [maxWidth - 1, 0],\n",
    "            [maxWidth - 1, maxHeight - 1],\n",
    "            [0, maxHeight - 1]\n",
    "        ],\n",
    "        dtype=\"float32\"\n",
    "    )\n",
    "\n",
    "    # Perspective Transformation\n",
    "    M = cv2.getPerspectiveTransform(pts, dst)\n",
    "    warped = cv2.warpPerspective(image, M, (maxWidth, maxHeight))\n",
    "\n",
    "    # 음영 제거 -> 모폴로지 연산\n",
    "    kernel_size = 150\n",
    "    kernel = cv2.getStructuringElement(cv2.MORPH_ELLIPSE, (kernel_size, kernel_size))\n",
    "\n",
    "    background = cv2.morphologyEx(warped, cv2.MORPH_OPEN, kernel)\n",
    "    gray_minus_bg = cv2.subtract(warped, background)\n",
    "    normed = cv2.normalize(gray_minus_bg, None, 0, 255, cv2.NORM_MINMAX)\n",
    "\n",
    "    croped_images.append(normed)\n",
    "    cv2.imwrite(f\"./cropped/croped_{idx}.jpg\", normed)"
   ]
  },
  {
   "cell_type": "code",
   "execution_count": 339,
   "id": "1f8e54b4c25794be",
   "metadata": {
    "ExecuteTime": {
     "end_time": "2025-03-19T15:06:30.490961Z",
     "start_time": "2025-03-19T15:06:30.488318Z"
    }
   },
   "outputs": [
    {
     "name": "stdout",
     "output_type": "stream",
     "text": [
      "15\n"
     ]
    }
   ],
   "source": [
    "print(len(croped_images))"
   ]
  },
  {
   "cell_type": "code",
   "execution_count": 340,
   "id": "23d69b788df2a1bc",
   "metadata": {
    "ExecuteTime": {
     "end_time": "2025-03-19T15:06:30.535981Z",
     "start_time": "2025-03-19T15:06:30.529657Z"
    }
   },
   "outputs": [],
   "source": [
    "# 이미지 전처리\n",
    "os.makedirs(current_path + \"/preprocessed\", exist_ok=True)\n",
    "cropped_dir = current_path + \"/cropped\"\n",
    "for idx, filename in enumerate(os.listdir(cropped_dir)):\n",
    "    croped_image = cv2.imread(f\"{cropped_dir}/{filename}\", cv2.IMREAD_GRAYSCALE)\n",
    "    \n",
    "    # 이진화\n",
    "    _, bin = cv2.threshold(croped_image, 127, 255, cv2.THRESH_BINARY + cv2.THRESH_OTSU)\n",
    "    \n",
    "    # 가우시안 블러\n",
    "    blurred = cv2.GaussianBlur(bin, (5, 5), 0)\n",
    "\n",
    "    # 만약 배경이 반전되어 있다면 invert\n",
    "    if np.mean(blurred) < 128:\n",
    "        blurred = cv2.bitwise_not(blurred)\n",
    "    \n",
    "    # 이미지 샤프닝\n",
    "    kernel = np.array([[-1, -1, -1], [-1, 9, -1], [-1, -1, -1]])\n",
    "    sharpened = cv2.filter2D(blurred, -1, kernel)\n",
    "    \n",
    "    # 침식 연산\n",
    "    kernel_size = 3\n",
    "    closed = cv2.erode(sharpened, np.ones((kernel_size, kernel_size), np.uint8), iterations=1)\n",
    "\n",
    "    cv2.imwrite(f\"./preprocessed/preprocessed_{idx}.png\", closed)\n"
   ]
  },
  {
   "cell_type": "code",
   "execution_count": 341,
   "id": "373274964ece0a06",
   "metadata": {
    "ExecuteTime": {
     "end_time": "2025-03-19T15:06:30.588080Z",
     "start_time": "2025-03-19T15:06:30.578592Z"
    }
   },
   "outputs": [
    {
     "name": "stdout",
     "output_type": "stream",
     "text": [
      "Loaded 15 images\n"
     ]
    }
   ],
   "source": [
    "# 전처리 이미지 불러와서 테두리 따고, 한 글자씩 추출\n",
    "binarizationed_images = []\n",
    "preprocessed_dir = current_path + \"/preprocessed/\"\n",
    "\n",
    "for filename in sorted(os.listdir(preprocessed_dir)):\n",
    "    if filename.endswith((\".png\", \".jpg\", \".jpeg\")):  # Correct way to check multiple extensions\n",
    "        img_path = os.path.join(preprocessed_dir, filename)\n",
    "        # Load as grayscale directly\n",
    "        img = cv2.imread(img_path, cv2.IMREAD_GRAYSCALE)\n",
    "        _, thresh = cv2.threshold(img, 0, 255, cv2.THRESH_BINARY + cv2.THRESH_OTSU)\n",
    "        thresh_inv = cv2.bitwise_not(thresh)\n",
    "\n",
    "        if thresh_inv is not None:\n",
    "            binarizationed_images.append(thresh_inv)\n",
    "\n",
    "print(f\"Loaded {len(binarizationed_images)} images\")\n"
   ]
  },
  {
   "cell_type": "code",
   "execution_count": 342,
   "id": "3988b2aa",
   "metadata": {},
   "outputs": [
    {
     "name": "stdout",
     "output_type": "stream",
     "text": [
      "Contour: 0, 30, 19, 16\n",
      "Contour: 21, 19, 11, 25\n",
      "Contour: 32, 18, 34, 27\n",
      "Contour: 0, 16, 18, 20\n",
      "Contour: 67, 10, 21, 41\n",
      "Contour: 13, 13, 44, 47\n",
      "Contour: 24, 52, 3, 3\n",
      "Contour: 41, 22, 10, 12\n",
      "Contour: 0, 10, 84, 37\n",
      "Contour: 55, 21, 10, 15\n",
      "Contour: 111, 18, 5, 26\n",
      "Contour: 32, 16, 78, 32\n",
      "Contour: 59, 22, 9, 15\n",
      "Contour: 33, 12, 20, 19\n",
      "Contour: 11, 12, 21, 34\n",
      "Contour: 16, 16, 12, 14\n",
      "Contour: 12, 14, 34, 27\n",
      "Contour: 42, 23, 27, 29\n",
      "Contour: 46, 27, 8, 10\n",
      "Contour: 101, 18, 5, 26\n",
      "Contour: 10, 17, 31, 29\n",
      "Contour: 16, 20, 14, 19\n",
      "Contour: 64, 15, 36, 28\n",
      "Contour: 78, 23, 10, 15\n",
      "Contour: 41, 10, 19, 12\n",
      "Contour: 42, 29, 18, 20\n",
      "Contour: 46, 33, 10, 11\n",
      "Contour: 64, 20, 32, 30\n",
      "Contour: 76, 12, 19, 19\n",
      "Contour: 11, 12, 51, 40\n",
      "Contour: 26, 28, 3, 3\n",
      "Contour: 19, 17, 9, 9\n",
      "Contour: 34, 30, 19, 15\n",
      "Contour: 55, 19, 12, 24\n",
      "Contour: 35, 15, 17, 20\n",
      "Contour: 10, 11, 24, 40\n",
      "Contour: 19, 29, 11, 5\n",
      "Contour: 22, 23, 5, 3\n",
      "Contour: 19, 15, 13, 26\n",
      "Contour: 0, 14, 17, 28\n",
      "Contour: 72, 27, 17, 19\n",
      "Contour: 76, 32, 8, 10\n",
      "Contour: 34, 14, 10, 21\n",
      "Contour: 70, 13, 58, 34\n",
      "Contour: 45, 13, 24, 38\n",
      "Contour: 53, 31, 11, 7\n",
      "Contour: 57, 25, 6, 3\n",
      "Contour: 12, 10, 28, 44\n",
      "Contour: 17, 26, 8, 9\n",
      "Contour: 99, 28, 22, 15\n",
      "Contour: 67, 25, 18, 20\n",
      "Contour: 72, 30, 9, 10\n",
      "Contour: 89, 17, 10, 25\n",
      "Contour: 100, 12, 19, 21\n",
      "Contour: 19, 11, 22, 38\n",
      "Contour: 9, 11, 19, 27\n",
      "Contour: 42, 9, 45, 39\n",
      "Contour: 53, 38, 5, 5\n",
      "Contour: 38, 16, 47, 40\n",
      "Contour: 51, 49, 5, 3\n",
      "Contour: 50, 20, 9, 16\n",
      "Contour: 14, 14, 24, 41\n",
      "Contour: 14, 39, 25, 18\n",
      "Contour: 18, 16, 21, 24\n",
      "Contour: 38, 15, 55, 44\n",
      "Contour: 56, 47, 6, 8\n",
      "Contour: 81, 45, 6, 6\n",
      "Contour: 53, 33, 9, 12\n",
      "Contour: 85, 32, 4, 10\n",
      "Contour: 44, 32, 8, 10\n",
      "Contour: 56, 20, 29, 31\n",
      "Contour: 33, 13, 23, 41\n",
      "Contour: 11, 11, 21, 42\n",
      "Contour: 11, 11, 82, 41\n",
      "Contour: 23, 43, 3, 4\n",
      "Contour: 72, 35, 3, 7\n",
      "Contour: 15, 27, 16, 10\n",
      "Contour: 39, 25, 11, 15\n",
      "Contour: 67, 19, 10, 13\n"
     ]
    }
   ],
   "source": [
    "os.makedirs(current_path + \"/contours\", exist_ok=True)\n",
    "\n",
    "for idx, image in enumerate(binarizationed_images):\n",
    "    contours, _ = cv2.findContours(\n",
    "        image,\n",
    "        cv2.RETR_TREE,\n",
    "        cv2.CHAIN_APPROX_SIMPLE\n",
    "    )\n",
    "\n",
    "    # 외곽선 기반으로 각 글자 이미지 추출\n",
    "    for contour in contours:\n",
    "        x, y, w, h = cv2.boundingRect(contour)\n",
    "        aspect_ratio = w / float(h)\n",
    "\n",
    "        print(f\"Contour: {x}, {y}, {w}, {h}\")\n",
    "        \n",
    "        # 면적이나 가로세로 비율을 엄격하게 조정\n",
    "        area = cv2.contourArea(contour)\n",
    "        if aspect_ratio > 1.2 or aspect_ratio < 0.5 or area < 10:\n",
    "            continue\n",
    "\n",
    "        # w, h 비율이 1.4 : 1 이상 넘어가는 이미지는 제거\n",
    "        # if w / h > 1.4:\n",
    "        #     continue\n",
    "\n",
    "        character = image[y:y+h, x:x+w]\n",
    "        character = ~character\n",
    "        \n",
    "        # 상하좌우 5px 흰색배경 추가\n",
    "        padding = 5\n",
    "        expanded = cv2.copyMakeBorder(\n",
    "            character, \n",
    "            padding, padding, padding, padding, \n",
    "            cv2.BORDER_CONSTANT, \n",
    "            value=(255, 255, 255)\n",
    "        )\n",
    "\n",
    "        cv2.imwrite(f\"./contours/contour_{idx}_{x}_{y}_{w}_{h}.jpg\", expanded)"
   ]
  },
  {
   "cell_type": "code",
   "execution_count": 343,
   "id": "84918cff",
   "metadata": {},
   "outputs": [],
   "source": [
    "# 이미지 절대 크기가 30px 이상인 이미지만 선택\n",
    "os.makedirs(current_path + \"/best_size\", exist_ok=True)\n",
    "contours_dir = current_path + \"/contours\"\n",
    "for idx, filename in enumerate(os.listdir(contours_dir)):\n",
    "    character = cv2.imread(f\"{contours_dir}/{filename}\", cv2.IMREAD_GRAYSCALE)\n",
    "    height, width = character.shape[:2]\n",
    "\n",
    "    if height < 30 or width < 30:\n",
    "        continue\n",
    "    \n",
    "    cv2.imwrite(f\"./best_size/character_{idx}.jpg\", character)\n"
   ]
  },
  {
   "cell_type": "code",
   "execution_count": 344,
   "id": "f583861e4b752d6e",
   "metadata": {
    "ExecuteTime": {
     "end_time": "2025-03-19T15:06:30.746511Z",
     "start_time": "2025-03-19T15:06:30.629140Z"
    }
   },
   "outputs": [
    {
     "name": "stdout",
     "output_type": "stream",
     "text": [
      "#### 0th // Character: 대, Confidence: 0.9971972703933716\n",
      "#### 2th // Character: 씨, Confidence: 0.9074841141700745\n",
      "#### 3th // Character: 낙, Confidence: 0.9821144938468933\n",
      "#### 4th // Character: 모, Confidence: 0.9996108412742615\n",
      "#### 5th // Character: 굴, Confidence: 0.9684587717056274\n",
      "#### 6th // Character: 결, Confidence: 0.9995689988136292\n",
      "#### 7th // Character: 손, Confidence: 0.9986434578895569\n",
      "#### 8th // Character: 격, Confidence: 0.9995492100715637\n",
      "#### 9th // Character: 굴, Confidence: 0.9246107935905457\n",
      "#### 14th // Character: 를, Confidence: 0.9914731979370117\n"
     ]
    }
   ],
   "source": [
    "import re\n",
    "\n",
    "os.makedirs(current_path + \"/final\", exist_ok=True)\n",
    "save_dir = current_path + \"/final/\"\n",
    "best_size_dir = current_path + \"/best_size/\"\n",
    "\n",
    "for idx, filename in enumerate(sorted(os.listdir(best_size_dir))):\n",
    "    if filename.endswith((\".png\", \".jpg\", \".jpeg\")):\n",
    "        img = cv2.imread(f\"{best_size_dir}\" + filename, cv2.IMREAD_GRAYSCALE)\n",
    "        result = ocr.ocr(img, det=False, rec=True, cls=False)\n",
    "\n",
    "        # 전체 픽셀 중 흰색 픽셀 대 검정 픽셀 비율이 80% 이상인 경우 continue\n",
    "        if np.mean(img) > 200:\n",
    "            continue\n",
    "\n",
    "        if not result or not result[0] or not result[0][0]: # 인식 못하면 continue\n",
    "            continue\n",
    "\n",
    "        text = result[0][0][0]\n",
    "        confidence = result[0][0][1]\n",
    "\n",
    "        if re.search(r\"[^가-힣ㄱ-ㅎㅏ-ㅣ]\", text): # 한글이 아닌 문자가 있는 경우 continue\n",
    "            continue\n",
    "\n",
    "        if text and len(text) == 1 and confidence > 0.8:\n",
    "            print(f\"#### {idx}th // Character: {text}, Confidence: {confidence}\")\n",
    "            cv2.imwrite(save_dir + f\"{text}.jpg\", img)\n"
   ]
  },
  {
   "cell_type": "code",
   "execution_count": null,
   "id": "d191a9ac",
   "metadata": {},
   "outputs": [
    {
     "name": "stdout",
     "output_type": "stream",
     "text": [
      "All directories removed successfully\n"
     ]
    }
   ],
   "source": [
    "# import shutil\n",
    "# import os\n",
    "\n",
    "# current_path = os.getcwd()\n",
    "\n",
    "# shutil.rmtree(current_path + \"/cropped\")\n",
    "# shutil.rmtree(current_path + \"/preprocessed\")\n",
    "# shutil.rmtree(current_path + \"/contours\")\n",
    "# shutil.rmtree(current_path + \"/best_size\")\n",
    "# shutil.rmtree(current_path + \"/final\")\n",
    "\n",
    "# print(\"All directories removed successfully\")"
   ]
  }
 ],
 "metadata": {
  "kernelspec": {
   "display_name": "paddlenet",
   "language": "python",
   "name": "python3"
  },
  "language_info": {
   "codemirror_mode": {
    "name": "ipython",
    "version": 3
   },
   "file_extension": ".py",
   "mimetype": "text/x-python",
   "name": "python",
   "nbconvert_exporter": "python",
   "pygments_lexer": "ipython3",
   "version": "3.12.9"
  }
 },
 "nbformat": 4,
 "nbformat_minor": 5
}
