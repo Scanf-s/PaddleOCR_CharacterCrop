{
 "cells": [
  {
   "metadata": {},
   "cell_type": "markdown",
   "source": "# Paddle OCR을 실행해보자",
   "id": "69ddc8b47240588"
  },
  {
   "metadata": {
    "ExecuteTime": {
     "end_time": "2025-03-17T13:55:50.789989Z",
     "start_time": "2025-03-17T13:55:50.107983Z"
    }
   },
   "cell_type": "code",
   "source": [
    "# CUDA-11.8이 설치되어 있는 GPU 사용 가능한 컴퓨터기 때문에 gpu 버전 다운로드\n",
    "!pip install paddlepaddle-gpu"
   ],
   "id": "1f7ea4686c2182a",
   "outputs": [
    {
     "name": "stdout",
     "output_type": "stream",
     "text": [
      "/bin/bash: warning: setlocale: LC_ALL: cannot change locale (en_US.UTF-8)\r\n",
      "Requirement already satisfied: paddlepaddle-gpu in ./.venv/lib/python3.12/site-packages (2.6.2)\r\n",
      "Requirement already satisfied: httpx in ./.venv/lib/python3.12/site-packages (from paddlepaddle-gpu) (0.28.1)\r\n",
      "Requirement already satisfied: numpy>=1.13 in ./.venv/lib/python3.12/site-packages (from paddlepaddle-gpu) (2.2.3)\r\n",
      "Requirement already satisfied: Pillow in ./.venv/lib/python3.12/site-packages (from paddlepaddle-gpu) (11.1.0)\r\n",
      "Requirement already satisfied: decorator in ./.venv/lib/python3.12/site-packages (from paddlepaddle-gpu) (5.2.1)\r\n",
      "Requirement already satisfied: astor in ./.venv/lib/python3.12/site-packages (from paddlepaddle-gpu) (0.8.1)\r\n",
      "Requirement already satisfied: opt-einsum==3.3.0 in ./.venv/lib/python3.12/site-packages (from paddlepaddle-gpu) (3.3.0)\r\n",
      "Requirement already satisfied: protobuf>=3.20.2 in ./.venv/lib/python3.12/site-packages (from paddlepaddle-gpu) (6.30.1)\r\n",
      "Requirement already satisfied: anyio in ./.venv/lib/python3.12/site-packages (from httpx->paddlepaddle-gpu) (4.8.0)\r\n",
      "Requirement already satisfied: certifi in ./.venv/lib/python3.12/site-packages (from httpx->paddlepaddle-gpu) (2025.1.31)\r\n",
      "Requirement already satisfied: httpcore==1.* in ./.venv/lib/python3.12/site-packages (from httpx->paddlepaddle-gpu) (1.0.7)\r\n",
      "Requirement already satisfied: idna in ./.venv/lib/python3.12/site-packages (from httpx->paddlepaddle-gpu) (3.10)\r\n",
      "Requirement already satisfied: h11<0.15,>=0.13 in ./.venv/lib/python3.12/site-packages (from httpcore==1.*->httpx->paddlepaddle-gpu) (0.14.0)\r\n",
      "Requirement already satisfied: sniffio>=1.1 in ./.venv/lib/python3.12/site-packages (from anyio->httpx->paddlepaddle-gpu) (1.3.1)\r\n",
      "Requirement already satisfied: typing_extensions>=4.5 in ./.venv/lib/python3.12/site-packages (from anyio->httpx->paddlepaddle-gpu) (4.12.2)\r\n"
     ]
    }
   ],
   "execution_count": 253
  },
  {
   "metadata": {
    "ExecuteTime": {
     "end_time": "2025-03-17T13:55:51.574066Z",
     "start_time": "2025-03-17T13:55:50.793780Z"
    }
   },
   "cell_type": "code",
   "source": [
    "# PaddleOCR whl package 설치\n",
    "!pip install \"paddleocr>=2.0.1\""
   ],
   "id": "86d0cc679a3a8b5f",
   "outputs": [
    {
     "name": "stdout",
     "output_type": "stream",
     "text": [
      "/bin/bash: warning: setlocale: LC_ALL: cannot change locale (en_US.UTF-8)\r\n",
      "Requirement already satisfied: paddleocr>=2.0.1 in ./.venv/lib/python3.12/site-packages (2.10.0)\r\n",
      "Requirement already satisfied: shapely in ./.venv/lib/python3.12/site-packages (from paddleocr>=2.0.1) (2.0.7)\r\n",
      "Requirement already satisfied: scikit-image in ./.venv/lib/python3.12/site-packages (from paddleocr>=2.0.1) (0.25.2)\r\n",
      "Requirement already satisfied: pyclipper in ./.venv/lib/python3.12/site-packages (from paddleocr>=2.0.1) (1.3.0.post6)\r\n",
      "Requirement already satisfied: lmdb in ./.venv/lib/python3.12/site-packages (from paddleocr>=2.0.1) (1.6.2)\r\n",
      "Requirement already satisfied: tqdm in ./.venv/lib/python3.12/site-packages (from paddleocr>=2.0.1) (4.67.1)\r\n",
      "Requirement already satisfied: numpy in ./.venv/lib/python3.12/site-packages (from paddleocr>=2.0.1) (2.2.3)\r\n",
      "Requirement already satisfied: rapidfuzz in ./.venv/lib/python3.12/site-packages (from paddleocr>=2.0.1) (3.12.2)\r\n",
      "Requirement already satisfied: opencv-python in ./.venv/lib/python3.12/site-packages (from paddleocr>=2.0.1) (4.11.0.86)\r\n",
      "Requirement already satisfied: opencv-contrib-python in ./.venv/lib/python3.12/site-packages (from paddleocr>=2.0.1) (4.11.0.86)\r\n",
      "Requirement already satisfied: cython in ./.venv/lib/python3.12/site-packages (from paddleocr>=2.0.1) (3.0.12)\r\n",
      "Requirement already satisfied: Pillow in ./.venv/lib/python3.12/site-packages (from paddleocr>=2.0.1) (11.1.0)\r\n",
      "Requirement already satisfied: pyyaml in ./.venv/lib/python3.12/site-packages (from paddleocr>=2.0.1) (6.0.2)\r\n",
      "Requirement already satisfied: python-docx in ./.venv/lib/python3.12/site-packages (from paddleocr>=2.0.1) (1.1.2)\r\n",
      "Requirement already satisfied: beautifulsoup4 in ./.venv/lib/python3.12/site-packages (from paddleocr>=2.0.1) (4.13.3)\r\n",
      "Requirement already satisfied: fonttools>=4.24.0 in ./.venv/lib/python3.12/site-packages (from paddleocr>=2.0.1) (4.56.0)\r\n",
      "Requirement already satisfied: fire>=0.3.0 in ./.venv/lib/python3.12/site-packages (from paddleocr>=2.0.1) (0.7.0)\r\n",
      "Requirement already satisfied: requests in ./.venv/lib/python3.12/site-packages (from paddleocr>=2.0.1) (2.32.3)\r\n",
      "Requirement already satisfied: albumentations in ./.venv/lib/python3.12/site-packages (from paddleocr>=2.0.1) (2.0.5)\r\n",
      "Requirement already satisfied: albucore in ./.venv/lib/python3.12/site-packages (from paddleocr>=2.0.1) (0.0.23)\r\n",
      "Requirement already satisfied: termcolor in ./.venv/lib/python3.12/site-packages (from fire>=0.3.0->paddleocr>=2.0.1) (2.5.0)\r\n",
      "Requirement already satisfied: stringzilla>=3.10.4 in ./.venv/lib/python3.12/site-packages (from albucore->paddleocr>=2.0.1) (3.12.3)\r\n",
      "Requirement already satisfied: simsimd>=5.9.2 in ./.venv/lib/python3.12/site-packages (from albucore->paddleocr>=2.0.1) (6.2.1)\r\n",
      "Requirement already satisfied: opencv-python-headless>=4.9.0.80 in ./.venv/lib/python3.12/site-packages (from albucore->paddleocr>=2.0.1) (4.11.0.86)\r\n",
      "Requirement already satisfied: scipy>=1.10.0 in ./.venv/lib/python3.12/site-packages (from albumentations->paddleocr>=2.0.1) (1.15.2)\r\n",
      "Requirement already satisfied: pydantic>=2.9.2 in ./.venv/lib/python3.12/site-packages (from albumentations->paddleocr>=2.0.1) (2.10.6)\r\n",
      "Requirement already satisfied: soupsieve>1.2 in ./.venv/lib/python3.12/site-packages (from beautifulsoup4->paddleocr>=2.0.1) (2.6)\r\n",
      "Requirement already satisfied: typing-extensions>=4.0.0 in ./.venv/lib/python3.12/site-packages (from beautifulsoup4->paddleocr>=2.0.1) (4.12.2)\r\n",
      "Requirement already satisfied: lxml>=3.1.0 in ./.venv/lib/python3.12/site-packages (from python-docx->paddleocr>=2.0.1) (5.3.1)\r\n",
      "Requirement already satisfied: charset-normalizer<4,>=2 in ./.venv/lib/python3.12/site-packages (from requests->paddleocr>=2.0.1) (3.4.1)\r\n",
      "Requirement already satisfied: idna<4,>=2.5 in ./.venv/lib/python3.12/site-packages (from requests->paddleocr>=2.0.1) (3.10)\r\n",
      "Requirement already satisfied: urllib3<3,>=1.21.1 in ./.venv/lib/python3.12/site-packages (from requests->paddleocr>=2.0.1) (2.3.0)\r\n",
      "Requirement already satisfied: certifi>=2017.4.17 in ./.venv/lib/python3.12/site-packages (from requests->paddleocr>=2.0.1) (2025.1.31)\r\n",
      "Requirement already satisfied: networkx>=3.0 in ./.venv/lib/python3.12/site-packages (from scikit-image->paddleocr>=2.0.1) (3.4.2)\r\n",
      "Requirement already satisfied: imageio!=2.35.0,>=2.33 in ./.venv/lib/python3.12/site-packages (from scikit-image->paddleocr>=2.0.1) (2.37.0)\r\n",
      "Requirement already satisfied: tifffile>=2022.8.12 in ./.venv/lib/python3.12/site-packages (from scikit-image->paddleocr>=2.0.1) (2025.3.13)\r\n",
      "Requirement already satisfied: packaging>=21 in ./.venv/lib/python3.12/site-packages (from scikit-image->paddleocr>=2.0.1) (24.2)\r\n",
      "Requirement already satisfied: lazy-loader>=0.4 in ./.venv/lib/python3.12/site-packages (from scikit-image->paddleocr>=2.0.1) (0.4)\r\n",
      "Requirement already satisfied: annotated-types>=0.6.0 in ./.venv/lib/python3.12/site-packages (from pydantic>=2.9.2->albumentations->paddleocr>=2.0.1) (0.7.0)\r\n",
      "Requirement already satisfied: pydantic-core==2.27.2 in ./.venv/lib/python3.12/site-packages (from pydantic>=2.9.2->albumentations->paddleocr>=2.0.1) (2.27.2)\r\n"
     ]
    }
   ],
   "execution_count": 254
  },
  {
   "metadata": {},
   "cell_type": "markdown",
   "source": [
    "# 한번 사용해보도록 하자\n",
    "\n",
    "실행하기 전, 컴퓨터에 cuDNN이 설치되어있는지 확인하자. 없다면 설치\n",
    "\n",
    "CUDA 11.8 사용 기준으로\n",
    "\n",
    "wget https://developer.download.nvidia.com/compute/cuda/repos/ubuntu2204/x86_64/cuda-keyring_1.1-1_all.deb\n",
    "sudo dpkg -i cuda-keyring_1.1-1_all.deb\n",
    "sudo apt-get update\n",
    "sudo apt-get -y install cudnn\n",
    "sudo apt-get -y install cudnn-cuda-11"
   ],
   "id": "6f7a194dc358c8ea"
  },
  {
   "metadata": {
    "ExecuteTime": {
     "end_time": "2025-03-17T13:55:51.589677Z",
     "start_time": "2025-03-17T13:55:51.587489Z"
    }
   },
   "cell_type": "code",
   "source": [
    "import paddle\n",
    "print(f\"Is compiled with CUDA? {paddle.is_compiled_with_cuda()}\")\n",
    "print(f\"CUDA devices:, {paddle.device.cuda.device_count()}\")"
   ],
   "id": "8680603255355a2e",
   "outputs": [
    {
     "name": "stdout",
     "output_type": "stream",
     "text": [
      "Is compiled with CUDA? True\n",
      "CUDA devices:, 1\n"
     ]
    }
   ],
   "execution_count": 255
  },
  {
   "metadata": {
    "ExecuteTime": {
     "end_time": "2025-03-17T13:55:51.632660Z",
     "start_time": "2025-03-17T13:55:51.630482Z"
    }
   },
   "cell_type": "code",
   "source": [
    "# 콘솔에 아래 명령 입력\n",
    "# paddleocr --image_dir .책표지_기타_000001.jpg --lang=korean"
   ],
   "id": "a41f03112068d97b",
   "outputs": [],
   "execution_count": 256
  },
  {
   "metadata": {
    "ExecuteTime": {
     "end_time": "2025-03-17T13:55:54.556193Z",
     "start_time": "2025-03-17T13:55:51.676158Z"
    }
   },
   "cell_type": "code",
   "source": [
    "from paddleocr import PaddleOCR,draw_ocr\n",
    "\n",
    "ocr = PaddleOCR(lang=\"korean\")"
   ],
   "id": "2293139ffa7f2462",
   "outputs": [
    {
     "name": "stdout",
     "output_type": "stream",
     "text": [
      "[2025/03/17 22:55:51] ppocr DEBUG: Namespace(help='==SUPPRESS==', use_gpu=True, use_xpu=False, use_npu=False, use_mlu=False, use_gcu=False, ir_optim=True, use_tensorrt=False, min_subgraph_size=15, precision='fp32', gpu_mem=500, gpu_id=0, image_dir=None, page_num=0, det_algorithm='DB', det_model_dir='/home/uijong/.paddleocr/whl/det/ml/Multilingual_PP-OCRv3_det_infer', det_limit_side_len=960, det_limit_type='max', det_box_type='quad', det_db_thresh=0.3, det_db_box_thresh=0.6, det_db_unclip_ratio=1.5, max_batch_size=10, use_dilation=False, det_db_score_mode='fast', det_east_score_thresh=0.8, det_east_cover_thresh=0.1, det_east_nms_thresh=0.2, det_sast_score_thresh=0.5, det_sast_nms_thresh=0.2, det_pse_thresh=0, det_pse_box_thresh=0.85, det_pse_min_area=16, det_pse_scale=1, scales=[8, 16, 32], alpha=1.0, beta=1.0, fourier_degree=5, rec_algorithm='SVTR_LCNet', rec_model_dir='/home/uijong/.paddleocr/whl/rec/korean/korean_PP-OCRv4_rec_infer', rec_image_inverse=True, rec_image_shape='3, 48, 320', rec_batch_num=6, max_text_length=25, rec_char_dict_path='/home/uijong/PyCharmMiscProject/.venv/lib/python3.12/site-packages/paddleocr/ppocr/utils/dict/korean_dict.txt', use_space_char=True, vis_font_path='./doc/fonts/simfang.ttf', drop_score=0.5, e2e_algorithm='PGNet', e2e_model_dir=None, e2e_limit_side_len=768, e2e_limit_type='max', e2e_pgnet_score_thresh=0.5, e2e_char_dict_path='./ppocr/utils/ic15_dict.txt', e2e_pgnet_valid_set='totaltext', e2e_pgnet_mode='fast', use_angle_cls=False, cls_model_dir='/home/uijong/.paddleocr/whl/cls/ch_ppocr_mobile_v2.0_cls_infer', cls_image_shape='3, 48, 192', label_list=['0', '180'], cls_batch_num=6, cls_thresh=0.9, enable_mkldnn=False, cpu_threads=10, use_pdserving=False, warmup=False, sr_model_dir=None, sr_image_shape='3, 32, 128', sr_batch_num=1, draw_img_save_dir='./inference_results', save_crop_res=False, crop_res_save_dir='./output', use_mp=False, total_process_num=1, process_id=0, benchmark=False, save_log_path='./log_output/', show_log=True, use_onnx=False, onnx_providers=False, onnx_sess_options=False, return_word_box=False, output='./output', table_max_len=488, table_algorithm='TableAttn', table_model_dir=None, merge_no_span_structure=True, table_char_dict_path=None, formula_algorithm='LaTeXOCR', formula_model_dir=None, formula_char_dict_path=None, formula_batch_num=1, layout_model_dir=None, layout_dict_path=None, layout_score_threshold=0.5, layout_nms_threshold=0.5, kie_algorithm='LayoutXLM', ser_model_dir=None, re_model_dir=None, use_visual_backbone=True, ser_dict_path='../train_data/XFUND/class_list_xfun.txt', ocr_order_method=None, mode='structure', image_orientation=False, layout=True, table=True, formula=False, ocr=True, recovery=False, recovery_to_markdown=False, use_pdf2docx_api=False, invert=False, binarize=False, alphacolor=(255, 255, 255), lang='korean', det=True, rec=True, type='ocr', savefile=False, ocr_version='PP-OCRv4', structure_version='PP-StructureV2')\n",
      "[2025/03/17 22:55:51] ppocr WARNING: The first GPU is used for inference by default, GPU ID: 0\n",
      "[2025/03/17 22:55:52] ppocr WARNING: The first GPU is used for inference by default, GPU ID: 0\n"
     ]
    }
   ],
   "execution_count": 257
  },
  {
   "metadata": {
    "ExecuteTime": {
     "end_time": "2025-03-17T13:58:36.506737Z",
     "start_time": "2025-03-17T13:58:36.349824Z"
    }
   },
   "cell_type": "code",
   "source": [
    "# 코드로 실행하자면?\n",
    "# Paddleocr supports Chinese, English, French, German, Korean and Japanese.\n",
    "# You can set the parameter `lang` as `ch`, `en`, `fr`, `german`, `korean`, `japan`\n",
    "# to switch the language model in order.\n",
    "# ocr = PaddleOCR(use_angle_cls=True, lang='korean') # need to run only once to download and load model into memory\n",
    "img_path = 'asdfasdf.jpg'\n",
    "result = ocr.ocr(img_path, cls=True)\n",
    "for idx in range(len(result)):\n",
    "    res = result[idx]\n",
    "    for line in res:\n",
    "        print(line)\n",
    "\n",
    "\n",
    "# draw result\n",
    "from PIL import Image\n",
    "result = result[0]\n",
    "image = Image.open(img_path).convert('RGB')\n",
    "boxes = [line[0] for line in result]\n",
    "txts = [line[1][0] for line in result]\n",
    "scores = [line[1][1] for line in result]\n",
    "im_show = draw_ocr(image, boxes, txts, scores, font_path='MaruBuri-Regular.ttf')\n",
    "im_show = Image.fromarray(im_show)\n",
    "im_show.save('result.jpg')\n",
    "im_show.show()"
   ],
   "id": "dee77a486932d110",
   "outputs": [
    {
     "name": "stdout",
     "output_type": "stream",
     "text": [
      "[2025/03/17 22:58:36] ppocr WARNING: Since the angle classifier is not initialized, it will not be used during the forward process\n",
      "[2025/03/17 22:58:36] ppocr DEBUG: dt_boxes num : 2, elapsed : 0.04052305221557617\n",
      "[2025/03/17 22:58:36] ppocr DEBUG: rec_res num  : 2, elapsed : 0.021736621856689453\n",
      "[[[221.0, 196.0], [1224.0, 160.0], [1233.0, 416.0], [231.0, 452.0]], ('도리토스', 0.9994586706161499)]\n",
      "[[[252.0, 1890.0], [1429.0, 1819.0], [1446.0, 2092.0], [269.0, 2163.0]], ('나쵸치즈맛', 0.8946758508682251)]\n"
     ]
    }
   ],
   "execution_count": 266
  },
  {
   "metadata": {
    "ExecuteTime": {
     "end_time": "2025-03-17T13:55:54.865613Z",
     "start_time": "2025-03-17T13:55:54.863074Z"
    }
   },
   "cell_type": "code",
   "source": [
    "# for idx in range(len(boxes)):\n",
    "#     print(f\"boxes: {boxes[idx]}, txts: {txts[idx]}\")\n",
    "\n",
    "# 한글 또는 영어, 숫자 txt만 포함된 box로 재구성\n",
    "boxes = [boxes[idx] for idx in range(len(boxes)) if txts[idx].isalnum()]\n",
    "\n",
    "for idx in range(len(boxes)):\n",
    "    print(f\"boxes: {boxes[idx]}\")"
   ],
   "id": "a9dc41c91255c263",
   "outputs": [
    {
     "name": "stdout",
     "output_type": "stream",
     "text": [
      "boxes: [[0.0, 278.0], [163.0, 267.0], [169.0, 352.0], [4.0, 363.0]]\n"
     ]
    }
   ],
   "execution_count": 259
  },
  {
   "metadata": {
    "ExecuteTime": {
     "end_time": "2025-03-17T13:55:55.632073Z",
     "start_time": "2025-03-17T13:55:54.908620Z"
    }
   },
   "cell_type": "code",
   "source": "!pip install --upgrade pip",
   "id": "fe5536aefc7063b3",
   "outputs": [
    {
     "name": "stdout",
     "output_type": "stream",
     "text": [
      "/bin/bash: warning: setlocale: LC_ALL: cannot change locale (en_US.UTF-8)\r\n",
      "Requirement already satisfied: pip in ./.venv/lib/python3.12/site-packages (25.0.1)\r\n"
     ]
    }
   ],
   "execution_count": 260
  },
  {
   "metadata": {
    "ExecuteTime": {
     "end_time": "2025-03-17T13:55:56.297188Z",
     "start_time": "2025-03-17T13:55:55.644243Z"
    }
   },
   "cell_type": "code",
   "source": "!pip install opencv-python",
   "id": "898890cb01f45a4d",
   "outputs": [
    {
     "name": "stdout",
     "output_type": "stream",
     "text": [
      "/bin/bash: warning: setlocale: LC_ALL: cannot change locale (en_US.UTF-8)\r\n",
      "Requirement already satisfied: opencv-python in ./.venv/lib/python3.12/site-packages (4.11.0.86)\r\n",
      "Requirement already satisfied: numpy>=1.21.2 in ./.venv/lib/python3.12/site-packages (from opencv-python) (2.2.3)\r\n"
     ]
    }
   ],
   "execution_count": 261
  },
  {
   "metadata": {
    "ExecuteTime": {
     "end_time": "2025-03-17T13:58:50.731816Z",
     "start_time": "2025-03-17T13:58:50.723039Z"
    }
   },
   "cell_type": "code",
   "source": [
    "import cv2\n",
    "import numpy as np\n",
    "\n",
    "# 1. cv2 imread로 다시 그레이스케일 이미지 획득\n",
    "image = cv2.imread('asdfasdf.jpg', cv2.IMREAD_GRAYSCALE)\n",
    "\n",
    "# 2. 연산 효율성을 올리기 위해 boxes를 numpy array로 변환\n",
    "boxes_np_arr = np.array([])\n",
    "if boxes and len(boxes) > 0:\n",
    "    boxes_np_arr = np.array([np.array(box) for box in boxes])\n",
    "\n",
    "    for box in boxes:\n",
    "        print(box)\n",
    "else:\n",
    "    print(\"No boxes\")"
   ],
   "id": "121b44dda1bea524",
   "outputs": [
    {
     "name": "stdout",
     "output_type": "stream",
     "text": [
      "[[221.0, 196.0], [1224.0, 160.0], [1233.0, 416.0], [231.0, 452.0]]\n",
      "[[252.0, 1890.0], [1429.0, 1819.0], [1446.0, 2092.0], [269.0, 2163.0]]\n"
     ]
    }
   ],
   "execution_count": 267
  },
  {
   "metadata": {
    "ExecuteTime": {
     "end_time": "2025-03-17T14:01:44.854472Z",
     "start_time": "2025-03-17T14:01:44.388432Z"
    }
   },
   "cell_type": "code",
   "source": [
    "# 3. 각 box = bounding box\n",
    "# bounding box 영역 안에 있는 각 영역을 Crop해서 새로운 이미지로 추출한다\n",
    "croped_images = []\n",
    "for idx, box in enumerate(boxes_np_arr):\n",
    "    # box 점 정렬\n",
    "    rect = np.zeros((4, 2), dtype=\"float32\")\n",
    "    s = box.sum(axis=1) # 네 좌표의 합\n",
    "    diff = np.diff(box, axis=1) # 네 좌표의 차이\n",
    "    rect[0] = box[np.argmin(s)] # 좌상단 좌표\n",
    "    rect[2] = box[np.argmax(s)] # 우하단 좌표\n",
    "    rect[1] = box[np.argmin(diff)] # 우상단 좌표\n",
    "    rect[3] = box[np.argmax(diff)] # 좌하단 좌표\n",
    "\n",
    "    # rect = [ 좌상, 우상, 우하, 좌하 ]\n",
    "\n",
    "    # 네 꼭짓점 좌표를 numpy array로 변환\n",
    "    # 이때, 검출 영역이 너무 Fit하게 되어있어서 +25을 해준다\n",
    "    offset = 50\n",
    "    image_height, image_width = image.shape[:2]\n",
    "    image_height -= 1\n",
    "    image_width -= 1\n",
    "\n",
    "    # rect[0] = 좌상단\n",
    "    x1 = max(0, rect[0][0] - offset)\n",
    "    y1 = max(0, rect[0][1] - offset)\n",
    "    # rect[1] = 우상단\n",
    "    x2 = min(rect[1][0] + offset, image_width)\n",
    "    y2 = max(0, rect[1][1] - offset)\n",
    "    # rect[2] = 우하단\n",
    "    x3 = min(rect[2][0] + offset, image_width)\n",
    "    y3 = min(rect[2][1] + offset, image_height)\n",
    "    # rect[3] = 좌하단\n",
    "    x4 = max(0, rect[3][0] - offset)\n",
    "    y4 = min(rect[3][1] + offset, image_height)\n",
    "    pts = np.array(\n",
    "        [\n",
    "            [x1, y1],\n",
    "            [x2, y2],\n",
    "            [x3, y3],\n",
    "            [x4, y4]\n",
    "        ],\n",
    "        dtype=\"float32\"\n",
    "    )\n",
    "\n",
    "    # 네 좌표를 바탕으로 이미지의 너비 및 높이 계산\n",
    "    widthA = np.sqrt((pts[2][0] - pts[3][0])**2 + (pts[2][1] - pts[3][1])**2)\n",
    "    widthB = np.sqrt((pts[1][0] - pts[0][0])**2 + (pts[1][1] - pts[0][1])**2)\n",
    "    maxWidth = max(int(widthA), int(widthB))\n",
    "\n",
    "    heightA = np.sqrt((pts[1][0] - pts[2][0])**2 + (pts[1][1] - pts[2][1])**2)\n",
    "    heightB = np.sqrt((pts[0][0] - pts[3][0])**2 + (pts[0][1] - pts[3][1])**2)\n",
    "    maxHeight = max(int(heightA), int(heightB))\n",
    "\n",
    "    # print(maxWidth, maxHeight)\n",
    "\n",
    "    # 출력될 이미지 좌표 설정\n",
    "    dst = np.array(\n",
    "        [\n",
    "            [0, 0],\n",
    "            [maxWidth - 1, 0],\n",
    "            [maxWidth - 1, maxHeight - 1],\n",
    "            [0, maxHeight - 1]\n",
    "        ],\n",
    "        dtype=\"float32\"\n",
    "    )\n",
    "\n",
    "    # Perspective Transformation\n",
    "    M = cv2.getPerspectiveTransform(pts, dst)\n",
    "    warped = cv2.warpPerspective(image, M, (maxWidth, maxHeight))\n",
    "\n",
    "    # 음영 제거 -> 모폴로지 연산\n",
    "    kernel_size = 150\n",
    "    kernel = cv2.getStructuringElement(cv2.MORPH_ELLIPSE, (kernel_size, kernel_size))\n",
    "\n",
    "    background = cv2.morphologyEx(warped, cv2.MORPH_OPEN, kernel)\n",
    "    gray_minus_bg = cv2.subtract(warped, background)\n",
    "    normed = cv2.normalize(gray_minus_bg, None, 0, 255, cv2.NORM_MINMAX)\n",
    "\n",
    "    croped_images.append(normed)\n",
    "    cv2.imwrite(f\"./cropped/croped_{idx}.png\", normed)"
   ],
   "id": "9b67038a40177bf",
   "outputs": [],
   "execution_count": 278
  },
  {
   "metadata": {
    "ExecuteTime": {
     "end_time": "2025-03-17T14:01:45.588661Z",
     "start_time": "2025-03-17T14:01:45.586120Z"
    }
   },
   "cell_type": "code",
   "source": "print(len(croped_images))",
   "id": "1f8e54b4c25794be",
   "outputs": [
    {
     "name": "stdout",
     "output_type": "stream",
     "text": [
      "2\n"
     ]
    }
   ],
   "execution_count": 279
  },
  {
   "metadata": {
    "ExecuteTime": {
     "end_time": "2025-03-17T15:09:55.355293Z",
     "start_time": "2025-03-17T15:09:55.347921Z"
    }
   },
   "cell_type": "code",
   "source": [
    "# 각 이미지 적응형 이진화 수행\n",
    "# 근데 이미지에 들어있는 글자가 검정색일수도 있고 흰색일수도 있어서\n",
    "# Crop된 이미지의 평균 픽셀값을 계산해서 평균값이 128보다 작으면 cv2.THRESH_BINARY_INV로 수행\n",
    "\n",
    "for idx, croped_image in enumerate(croped_images):\n",
    "\n",
    "    # Median 블러링\n",
    "    blurred = cv2.medianBlur(croped_image, 3)\n",
    "\n",
    "    # 적응형 이진화\n",
    "    # binarization = cv2.adaptiveThreshold(\n",
    "    #     blurred,\n",
    "    #     maxValue=255,\n",
    "    #     adaptiveMethod=cv2.ADAPTIVE_THRESH_MEAN_C,\n",
    "    #     thresholdType=cv2.THRESH_BINARY,  # 또는 THRESH_BINARY_INV\n",
    "    #     blockSize=21,   # 주변 픽셀 블록 크기\n",
    "    #     C=13     # 결과에서 뺄 상수\n",
    "    # )\n",
    "    _, binarization = cv2.threshold(blurred, 127, 255, cv2.THRESH_BINARY + cv2.THRESH_OTSU)\n",
    "\n",
    "    # 만약 배경이 반전되어 있다면 invert\n",
    "    if np.mean(binarization) < 128:\n",
    "        binarization = cv2.bitwise_not(binarization)\n",
    "\n",
    "    kernel = np.ones((5, 5), np.uint8)\n",
    "    opened = cv2.morphologyEx(binarization, cv2.MORPH_CLOSE, kernel)\n",
    "\n",
    "    cv2.imwrite(f\"./character/character_{idx}.png\", opened)\n"
   ],
   "id": "23d69b788df2a1bc",
   "outputs": [],
   "execution_count": 312
  },
  {
   "metadata": {
    "ExecuteTime": {
     "end_time": "2025-03-17T15:42:48.087415Z",
     "start_time": "2025-03-17T15:42:48.071777Z"
    }
   },
   "cell_type": "code",
   "source": [
    "import os\n",
    "\n",
    "# Load all images from the character directory\n",
    "binarizationed_images = []\n",
    "character_dir = \"./character/\"\n",
    "for filename in sorted(os.listdir(character_dir)):\n",
    "    if filename.endswith((\".png\", \".jpg\", \".jpeg\")):  # Correct way to check multiple extensions\n",
    "        img_path = os.path.join(character_dir, filename)\n",
    "        # Load as grayscale directly\n",
    "        img = cv2.imread(img_path, cv2.IMREAD_GRAYSCALE)\n",
    "        _, thresh = cv2.threshold(img, 0, 255, cv2.THRESH_BINARY + cv2.THRESH_OTSU)\n",
    "        thresh_inv = cv2.bitwise_not(thresh)\n",
    "\n",
    "        if thresh_inv is not None:\n",
    "            binarizationed_images.append(thresh_inv)\n",
    "\n",
    "print(f\"Loaded {len(binarizationed_images)} images\")\n",
    "\n",
    "for idx, image in enumerate(binarizationed_images):\n",
    "    contours, hierarchy = cv2.findContours(\n",
    "        image,\n",
    "        cv2.RETR_EXTERNAL,\n",
    "        cv2.CHAIN_APPROX_SIMPLE\n",
    "    )\n",
    "\n",
    "    # 외곽선 기반으로 각 글자 이미지 추출\n",
    "    for contour in contours:\n",
    "        x, y, w, h = cv2.boundingRect(contour)\n",
    "\n",
    "        print(f\"Contour: {x}, {y}, {w}, {h}\")\n",
    "\n",
    "        # 글자 이미지 추출 및 검정색으로 다시 변환\n",
    "        character = image[y:y+h, x:x+w]\n",
    "        character = cv2.bitwise_not(character)\n",
    "        cv2.imwrite(f\"./final/character_{idx}_{x}_{y}_{w}_{h}.png\", character)\n"
   ],
   "id": "373274964ece0a06",
   "outputs": [
    {
     "name": "stdout",
     "output_type": "stream",
     "text": [
      "Loaded 2 images\n",
      "Contour: 844, 251, 227, 60\n",
      "Contour: 857, 59, 198, 146\n",
      "Contour: 571, 50, 245, 246\n",
      "Contour: 18, 48, 252, 242\n",
      "Contour: 292, 40, 232, 267\n",
      "Contour: 808, 238, 210, 50\n",
      "Contour: 1065, 196, 159, 116\n",
      "Contour: 726, 58, 48, 271\n",
      "Contour: 820, 57, 191, 151\n",
      "Contour: 557, 55, 159, 186\n",
      "Contour: 1044, 53, 116, 134\n",
      "Contour: 294, 52, 230, 240\n",
      "Contour: 44, 44, 233, 273\n",
      "Contour: 1176, 40, 71, 162\n"
     ]
    }
   ],
   "execution_count": 336
  },
  {
   "metadata": {},
   "cell_type": "code",
   "outputs": [],
   "execution_count": null,
   "source": "",
   "id": "f583861e4b752d6e"
  }
 ],
 "metadata": {
  "kernelspec": {
   "display_name": "Python 3",
   "language": "python",
   "name": "python3"
  },
  "language_info": {
   "codemirror_mode": {
    "name": "ipython",
    "version": 2
   },
   "file_extension": ".py",
   "mimetype": "text/x-python",
   "name": "python",
   "nbconvert_exporter": "python",
   "pygments_lexer": "ipython2",
   "version": "2.7.6"
  }
 },
 "nbformat": 4,
 "nbformat_minor": 5
}
