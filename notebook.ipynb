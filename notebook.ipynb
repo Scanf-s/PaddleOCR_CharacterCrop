{
 "cells": [
  {
   "metadata": {},
   "cell_type": "markdown",
   "source": "# Paddle OCR을 실행해보자",
   "id": "69ddc8b47240588"
  },
  {
   "metadata": {
    "ExecuteTime": {
     "end_time": "2025-03-19T02:10:06.592Z",
     "start_time": "2025-03-19T02:10:05.958251Z"
    }
   },
   "cell_type": "code",
   "source": [
    "# CUDA-11.8이 설치되어 있는 GPU 사용 가능한 컴퓨터기 때문에 gpu 버전 다운로드\n",
    "!pip install paddlepaddle-gpu"
   ],
   "id": "1f7ea4686c2182a",
   "outputs": [
    {
     "name": "stdout",
     "output_type": "stream",
     "text": [
      "/bin/bash: warning: setlocale: LC_ALL: cannot change locale (en_US.UTF-8)\r\n",
      "Requirement already satisfied: paddlepaddle-gpu in ./.venv/lib/python3.12/site-packages (2.6.2)\r\n",
      "Requirement already satisfied: httpx in ./.venv/lib/python3.12/site-packages (from paddlepaddle-gpu) (0.28.1)\r\n",
      "Requirement already satisfied: numpy>=1.13 in ./.venv/lib/python3.12/site-packages (from paddlepaddle-gpu) (2.2.3)\r\n",
      "Requirement already satisfied: Pillow in ./.venv/lib/python3.12/site-packages (from paddlepaddle-gpu) (11.1.0)\r\n",
      "Requirement already satisfied: decorator in ./.venv/lib/python3.12/site-packages (from paddlepaddle-gpu) (5.2.1)\r\n",
      "Requirement already satisfied: astor in ./.venv/lib/python3.12/site-packages (from paddlepaddle-gpu) (0.8.1)\r\n",
      "Requirement already satisfied: opt-einsum==3.3.0 in ./.venv/lib/python3.12/site-packages (from paddlepaddle-gpu) (3.3.0)\r\n",
      "Requirement already satisfied: protobuf>=3.20.2 in ./.venv/lib/python3.12/site-packages (from paddlepaddle-gpu) (6.30.1)\r\n",
      "Requirement already satisfied: anyio in ./.venv/lib/python3.12/site-packages (from httpx->paddlepaddle-gpu) (4.8.0)\r\n",
      "Requirement already satisfied: certifi in ./.venv/lib/python3.12/site-packages (from httpx->paddlepaddle-gpu) (2025.1.31)\r\n",
      "Requirement already satisfied: httpcore==1.* in ./.venv/lib/python3.12/site-packages (from httpx->paddlepaddle-gpu) (1.0.7)\r\n",
      "Requirement already satisfied: idna in ./.venv/lib/python3.12/site-packages (from httpx->paddlepaddle-gpu) (3.10)\r\n",
      "Requirement already satisfied: h11<0.15,>=0.13 in ./.venv/lib/python3.12/site-packages (from httpcore==1.*->httpx->paddlepaddle-gpu) (0.14.0)\r\n",
      "Requirement already satisfied: sniffio>=1.1 in ./.venv/lib/python3.12/site-packages (from anyio->httpx->paddlepaddle-gpu) (1.3.1)\r\n",
      "Requirement already satisfied: typing_extensions>=4.5 in ./.venv/lib/python3.12/site-packages (from anyio->httpx->paddlepaddle-gpu) (4.12.2)\r\n"
     ]
    }
   ],
   "execution_count": 7
  },
  {
   "metadata": {
    "ExecuteTime": {
     "end_time": "2025-03-19T02:10:07.269475Z",
     "start_time": "2025-03-19T02:10:06.596736Z"
    }
   },
   "cell_type": "code",
   "source": [
    "# PaddleOCR whl package 설치\n",
    "!pip install \"paddleocr>=2.0.1\""
   ],
   "id": "86d0cc679a3a8b5f",
   "outputs": [
    {
     "name": "stdout",
     "output_type": "stream",
     "text": [
      "/bin/bash: warning: setlocale: LC_ALL: cannot change locale (en_US.UTF-8)\r\n",
      "Requirement already satisfied: paddleocr>=2.0.1 in ./.venv/lib/python3.12/site-packages (2.10.0)\r\n",
      "Requirement already satisfied: shapely in ./.venv/lib/python3.12/site-packages (from paddleocr>=2.0.1) (2.0.7)\r\n",
      "Requirement already satisfied: scikit-image in ./.venv/lib/python3.12/site-packages (from paddleocr>=2.0.1) (0.25.2)\r\n",
      "Requirement already satisfied: pyclipper in ./.venv/lib/python3.12/site-packages (from paddleocr>=2.0.1) (1.3.0.post6)\r\n",
      "Requirement already satisfied: lmdb in ./.venv/lib/python3.12/site-packages (from paddleocr>=2.0.1) (1.6.2)\r\n",
      "Requirement already satisfied: tqdm in ./.venv/lib/python3.12/site-packages (from paddleocr>=2.0.1) (4.67.1)\r\n",
      "Requirement already satisfied: numpy in ./.venv/lib/python3.12/site-packages (from paddleocr>=2.0.1) (2.2.3)\r\n",
      "Requirement already satisfied: rapidfuzz in ./.venv/lib/python3.12/site-packages (from paddleocr>=2.0.1) (3.12.2)\r\n",
      "Requirement already satisfied: opencv-python in ./.venv/lib/python3.12/site-packages (from paddleocr>=2.0.1) (4.11.0.86)\r\n",
      "Requirement already satisfied: opencv-contrib-python in ./.venv/lib/python3.12/site-packages (from paddleocr>=2.0.1) (4.11.0.86)\r\n",
      "Requirement already satisfied: cython in ./.venv/lib/python3.12/site-packages (from paddleocr>=2.0.1) (3.0.12)\r\n",
      "Requirement already satisfied: Pillow in ./.venv/lib/python3.12/site-packages (from paddleocr>=2.0.1) (11.1.0)\r\n",
      "Requirement already satisfied: pyyaml in ./.venv/lib/python3.12/site-packages (from paddleocr>=2.0.1) (6.0.2)\r\n",
      "Requirement already satisfied: python-docx in ./.venv/lib/python3.12/site-packages (from paddleocr>=2.0.1) (1.1.2)\r\n",
      "Requirement already satisfied: beautifulsoup4 in ./.venv/lib/python3.12/site-packages (from paddleocr>=2.0.1) (4.13.3)\r\n",
      "Requirement already satisfied: fonttools>=4.24.0 in ./.venv/lib/python3.12/site-packages (from paddleocr>=2.0.1) (4.56.0)\r\n",
      "Requirement already satisfied: fire>=0.3.0 in ./.venv/lib/python3.12/site-packages (from paddleocr>=2.0.1) (0.7.0)\r\n",
      "Requirement already satisfied: requests in ./.venv/lib/python3.12/site-packages (from paddleocr>=2.0.1) (2.32.3)\r\n",
      "Requirement already satisfied: albumentations in ./.venv/lib/python3.12/site-packages (from paddleocr>=2.0.1) (2.0.5)\r\n",
      "Requirement already satisfied: albucore in ./.venv/lib/python3.12/site-packages (from paddleocr>=2.0.1) (0.0.23)\r\n",
      "Requirement already satisfied: termcolor in ./.venv/lib/python3.12/site-packages (from fire>=0.3.0->paddleocr>=2.0.1) (2.5.0)\r\n",
      "Requirement already satisfied: stringzilla>=3.10.4 in ./.venv/lib/python3.12/site-packages (from albucore->paddleocr>=2.0.1) (3.12.3)\r\n",
      "Requirement already satisfied: simsimd>=5.9.2 in ./.venv/lib/python3.12/site-packages (from albucore->paddleocr>=2.0.1) (6.2.1)\r\n",
      "Requirement already satisfied: opencv-python-headless>=4.9.0.80 in ./.venv/lib/python3.12/site-packages (from albucore->paddleocr>=2.0.1) (4.11.0.86)\r\n",
      "Requirement already satisfied: scipy>=1.10.0 in ./.venv/lib/python3.12/site-packages (from albumentations->paddleocr>=2.0.1) (1.15.2)\r\n",
      "Requirement already satisfied: pydantic>=2.9.2 in ./.venv/lib/python3.12/site-packages (from albumentations->paddleocr>=2.0.1) (2.10.6)\r\n",
      "Requirement already satisfied: soupsieve>1.2 in ./.venv/lib/python3.12/site-packages (from beautifulsoup4->paddleocr>=2.0.1) (2.6)\r\n",
      "Requirement already satisfied: typing-extensions>=4.0.0 in ./.venv/lib/python3.12/site-packages (from beautifulsoup4->paddleocr>=2.0.1) (4.12.2)\r\n",
      "Requirement already satisfied: lxml>=3.1.0 in ./.venv/lib/python3.12/site-packages (from python-docx->paddleocr>=2.0.1) (5.3.1)\r\n",
      "Requirement already satisfied: charset-normalizer<4,>=2 in ./.venv/lib/python3.12/site-packages (from requests->paddleocr>=2.0.1) (3.4.1)\r\n",
      "Requirement already satisfied: idna<4,>=2.5 in ./.venv/lib/python3.12/site-packages (from requests->paddleocr>=2.0.1) (3.10)\r\n",
      "Requirement already satisfied: urllib3<3,>=1.21.1 in ./.venv/lib/python3.12/site-packages (from requests->paddleocr>=2.0.1) (2.3.0)\r\n",
      "Requirement already satisfied: certifi>=2017.4.17 in ./.venv/lib/python3.12/site-packages (from requests->paddleocr>=2.0.1) (2025.1.31)\r\n",
      "Requirement already satisfied: networkx>=3.0 in ./.venv/lib/python3.12/site-packages (from scikit-image->paddleocr>=2.0.1) (3.4.2)\r\n",
      "Requirement already satisfied: imageio!=2.35.0,>=2.33 in ./.venv/lib/python3.12/site-packages (from scikit-image->paddleocr>=2.0.1) (2.37.0)\r\n",
      "Requirement already satisfied: tifffile>=2022.8.12 in ./.venv/lib/python3.12/site-packages (from scikit-image->paddleocr>=2.0.1) (2025.3.13)\r\n",
      "Requirement already satisfied: packaging>=21 in ./.venv/lib/python3.12/site-packages (from scikit-image->paddleocr>=2.0.1) (24.2)\r\n",
      "Requirement already satisfied: lazy-loader>=0.4 in ./.venv/lib/python3.12/site-packages (from scikit-image->paddleocr>=2.0.1) (0.4)\r\n",
      "Requirement already satisfied: annotated-types>=0.6.0 in ./.venv/lib/python3.12/site-packages (from pydantic>=2.9.2->albumentations->paddleocr>=2.0.1) (0.7.0)\r\n",
      "Requirement already satisfied: pydantic-core==2.27.2 in ./.venv/lib/python3.12/site-packages (from pydantic>=2.9.2->albumentations->paddleocr>=2.0.1) (2.27.2)\r\n"
     ]
    }
   ],
   "execution_count": 8
  },
  {
   "metadata": {},
   "cell_type": "markdown",
   "source": [
    "# 한번 사용해보도록 하자\n",
    "\n",
    "실행하기 전, 컴퓨터에 cuDNN이 설치되어있는지 확인하자. 없다면 설치\n",
    "\n",
    "CUDA 11.8 사용 기준으로\n",
    "\n",
    "wget https://developer.download.nvidia.com/compute/cuda/repos/ubuntu2204/x86_64/cuda-keyring_1.1-1_all.deb\n",
    "sudo dpkg -i cuda-keyring_1.1-1_all.deb\n",
    "sudo apt-get update\n",
    "sudo apt-get -y install cudnn\n",
    "sudo apt-get -y install cudnn-cuda-11"
   ],
   "id": "6f7a194dc358c8ea"
  },
  {
   "metadata": {
    "ExecuteTime": {
     "end_time": "2025-03-19T02:10:07.279576Z",
     "start_time": "2025-03-19T02:10:07.277305Z"
    }
   },
   "cell_type": "code",
   "source": [
    "import paddle\n",
    "print(f\"Is compiled with CUDA? {paddle.is_compiled_with_cuda()}\")\n",
    "print(f\"CUDA devices:, {paddle.device.cuda.device_count()}\")"
   ],
   "id": "8680603255355a2e",
   "outputs": [
    {
     "name": "stdout",
     "output_type": "stream",
     "text": [
      "Is compiled with CUDA? True\n",
      "CUDA devices:, 1\n"
     ]
    }
   ],
   "execution_count": 9
  },
  {
   "metadata": {
    "ExecuteTime": {
     "end_time": "2025-03-19T02:10:07.325327Z",
     "start_time": "2025-03-19T02:10:07.323299Z"
    }
   },
   "cell_type": "code",
   "source": [
    "# 콘솔에 아래 명령 입력\n",
    "# paddleocr --image_dir .책표지_기타_000001.jpg --lang=korean"
   ],
   "id": "a41f03112068d97b",
   "outputs": [],
   "execution_count": 10
  },
  {
   "metadata": {
    "ExecuteTime": {
     "end_time": "2025-03-19T02:10:10.475113Z",
     "start_time": "2025-03-19T02:10:07.371382Z"
    }
   },
   "cell_type": "code",
   "source": [
    "from paddleocr import PaddleOCR,draw_ocr\n",
    "\n",
    "ocr = PaddleOCR(lang=\"korean\")"
   ],
   "id": "2293139ffa7f2462",
   "outputs": [
    {
     "name": "stdout",
     "output_type": "stream",
     "text": [
      "[2025/03/19 11:10:07] ppocr DEBUG: Namespace(help='==SUPPRESS==', use_gpu=True, use_xpu=False, use_npu=False, use_mlu=False, use_gcu=False, ir_optim=True, use_tensorrt=False, min_subgraph_size=15, precision='fp32', gpu_mem=500, gpu_id=0, image_dir=None, page_num=0, det_algorithm='DB', det_model_dir='/home/uijong/.paddleocr/whl/det/ml/Multilingual_PP-OCRv3_det_infer', det_limit_side_len=960, det_limit_type='max', det_box_type='quad', det_db_thresh=0.3, det_db_box_thresh=0.6, det_db_unclip_ratio=1.5, max_batch_size=10, use_dilation=False, det_db_score_mode='fast', det_east_score_thresh=0.8, det_east_cover_thresh=0.1, det_east_nms_thresh=0.2, det_sast_score_thresh=0.5, det_sast_nms_thresh=0.2, det_pse_thresh=0, det_pse_box_thresh=0.85, det_pse_min_area=16, det_pse_scale=1, scales=[8, 16, 32], alpha=1.0, beta=1.0, fourier_degree=5, rec_algorithm='SVTR_LCNet', rec_model_dir='/home/uijong/.paddleocr/whl/rec/korean/korean_PP-OCRv4_rec_infer', rec_image_inverse=True, rec_image_shape='3, 48, 320', rec_batch_num=6, max_text_length=25, rec_char_dict_path='/home/uijong/PyCharmMiscProject/.venv/lib/python3.12/site-packages/paddleocr/ppocr/utils/dict/korean_dict.txt', use_space_char=True, vis_font_path='./doc/fonts/simfang.ttf', drop_score=0.5, e2e_algorithm='PGNet', e2e_model_dir=None, e2e_limit_side_len=768, e2e_limit_type='max', e2e_pgnet_score_thresh=0.5, e2e_char_dict_path='./ppocr/utils/ic15_dict.txt', e2e_pgnet_valid_set='totaltext', e2e_pgnet_mode='fast', use_angle_cls=False, cls_model_dir='/home/uijong/.paddleocr/whl/cls/ch_ppocr_mobile_v2.0_cls_infer', cls_image_shape='3, 48, 192', label_list=['0', '180'], cls_batch_num=6, cls_thresh=0.9, enable_mkldnn=False, cpu_threads=10, use_pdserving=False, warmup=False, sr_model_dir=None, sr_image_shape='3, 32, 128', sr_batch_num=1, draw_img_save_dir='./inference_results', save_crop_res=False, crop_res_save_dir='./output', use_mp=False, total_process_num=1, process_id=0, benchmark=False, save_log_path='./log_output/', show_log=True, use_onnx=False, onnx_providers=False, onnx_sess_options=False, return_word_box=False, output='./output', table_max_len=488, table_algorithm='TableAttn', table_model_dir=None, merge_no_span_structure=True, table_char_dict_path=None, formula_algorithm='LaTeXOCR', formula_model_dir=None, formula_char_dict_path=None, formula_batch_num=1, layout_model_dir=None, layout_dict_path=None, layout_score_threshold=0.5, layout_nms_threshold=0.5, kie_algorithm='LayoutXLM', ser_model_dir=None, re_model_dir=None, use_visual_backbone=True, ser_dict_path='../train_data/XFUND/class_list_xfun.txt', ocr_order_method=None, mode='structure', image_orientation=False, layout=True, table=True, formula=False, ocr=True, recovery=False, recovery_to_markdown=False, use_pdf2docx_api=False, invert=False, binarize=False, alphacolor=(255, 255, 255), lang='korean', det=True, rec=True, type='ocr', savefile=False, ocr_version='PP-OCRv4', structure_version='PP-StructureV2')\n",
      "[2025/03/19 11:10:07] ppocr WARNING: The first GPU is used for inference by default, GPU ID: 0\n",
      "[2025/03/19 11:10:07] ppocr WARNING: The first GPU is used for inference by default, GPU ID: 0\n"
     ]
    }
   ],
   "execution_count": 11
  },
  {
   "metadata": {
    "ExecuteTime": {
     "end_time": "2025-03-19T02:12:21.598587Z",
     "start_time": "2025-03-19T02:12:21.390733Z"
    }
   },
   "cell_type": "code",
   "source": [
    "# 코드로 실행하자면?\n",
    "# Paddleocr supports Chinese, English, French, German, Korean and Japanese.\n",
    "# You can set the parameter `lang` as `ch`, `en`, `fr`, `german`, `korean`, `japan`\n",
    "# to switch the language model in order.\n",
    "# ocr = PaddleOCR(use_angle_cls=True, lang='korean') # need to run only once to download and load model into memory\n",
    "img_path = '22341.jpg'\n",
    "result = ocr.ocr(img_path, cls=True)\n",
    "for idx in range(len(result)):\n",
    "    res = result[idx]\n",
    "    for line in res:\n",
    "        print(line)\n",
    "\n",
    "\n",
    "# draw result\n",
    "from PIL import Image\n",
    "result = result[0]\n",
    "image = Image.open(img_path).convert('RGB')\n",
    "boxes = [line[0] for line in result]\n",
    "txts = [line[1][0] for line in result]\n",
    "scores = [line[1][1] for line in result]\n",
    "im_show = draw_ocr(image, boxes, txts, scores, font_path='MaruBuri-Regular.ttf')\n",
    "im_show = Image.fromarray(im_show)\n",
    "im_show.save('result.jpg')\n",
    "im_show.show()"
   ],
   "id": "dee77a486932d110",
   "outputs": [
    {
     "name": "stdout",
     "output_type": "stream",
     "text": [
      "[2025/03/19 11:12:21] ppocr WARNING: Since the angle classifier is not initialized, it will not be used during the forward process\n",
      "[2025/03/19 11:12:21] ppocr DEBUG: dt_boxes num : 21, elapsed : 0.04074358940124512\n",
      "[2025/03/19 11:12:21] ppocr DEBUG: rec_res num  : 21, elapsed : 0.08551335334777832\n",
      "[[[84.0, 4.0], [152.0, 9.0], [150.0, 44.0], [82.0, 40.0]], ('나의', 0.9990434646606445)]\n",
      "[[[159.0, 1.0], [216.0, 5.0], [213.0, 55.0], [156.0, 51.0]], ('봉을', 0.9286381006240845)]\n",
      "[[[230.0, 15.0], [357.0, 25.0], [354.0, 64.0], [227.0, 54.0]], ('기억할슥', 0.8464200496673584)]\n",
      "[[[373.0, 25.0], [471.0, 30.0], [469.0, 71.0], [371.0, 65.0]], ('있을까', 0.9830038547515869)]\n",
      "[[[89.0, 63.0], [181.0, 70.0], [177.0, 120.0], [86.0, 113.0]], ('봉꽂이', 0.8216092586517334)]\n",
      "[[[201.0, 80.0], [261.0, 80.0], [261.0, 120.0], [201.0, 120.0]], ('지는', 0.9998247623443604)]\n",
      "[[[282.0, 85.0], [385.0, 90.0], [383.0, 127.0], [281.0, 122.0]], ('계정어', 0.6298844218254089)]\n",
      "[[[74.0, 125.0], [171.0, 135.0], [167.0, 176.0], [69.0, 165.0]], ('이제는', 0.999865710735321)]\n",
      "[[[201.0, 141.0], [304.0, 145.0], [303.0, 181.0], [199.0, 178.0]], ('사2라질', 0.9317172765731812)]\n",
      "[[[324.0, 143.0], [411.0, 148.0], [409.0, 190.0], [321.0, 184.0]], ('꽃날에', 0.9492862820625305)]\n",
      "[[[74.0, 183.0], [134.0, 183.0], [134.0, 245.0], [74.0, 245.0]], ('봄을', 0.870123028755188)]\n",
      "[[[142.0, 199.0], [205.0, 202.0], [204.0, 238.0], [140.0, 235.0]], ('따라', 0.922032356262207)]\n",
      "[[[217.0, 202.0], [392.0, 202.0], [392.0, 252.0], [217.0, 252.0]], ('떠나가야함을', 0.8873355388641357)]\n",
      "[[[405.0, 212.0], [488.0, 216.0], [485.0, 259.0], [403.0, 255.0]], ('암아서', 0.8332492709159851)]\n",
      "[[[74.0, 257.0], [190.0, 262.0], [188.0, 302.0], [72.0, 297.0]], ('눈부시거', 0.870652973651886)]\n",
      "[[[213.0, 264.0], [355.0, 268.0], [354.0, 306.0], [212.0, 303.0]], ('아다립던', 0.8512609004974365)]\n",
      "[[[370.0, 274.0], [432.0, 278.0], [429.0, 313.0], [368.0, 308.0]], ('나의', 0.9991583824157715)]\n",
      "[[[446.0, 272.0], [540.0, 275.0], [539.0, 317.0], [445.0, 314.0]], ('봉에게', 0.8819708824157715)]\n",
      "[[[69.0, 318.0], [142.0, 322.0], [140.0, 361.0], [67.0, 356.0]], ('안녕', 0.9726966619491577)]\n",
      "[[[59.0, 380.0], [119.0, 380.0], [119.0, 420.0], [59.0, 420.0]], ('하고', 0.9999834895133972)]\n",
      "[[[132.0, 382.0], [283.0, 387.0], [281.0, 423.0], [131.0, 419.0]], ('인사합니다', 0.9324213266372681)]\n"
     ]
    }
   ],
   "execution_count": 24
  },
  {
   "metadata": {
    "ExecuteTime": {
     "end_time": "2025-03-19T02:12:41.178206Z",
     "start_time": "2025-03-19T02:12:41.175173Z"
    }
   },
   "cell_type": "code",
   "source": [
    "# for idx in range(len(boxes)):\n",
    "#     print(f\"boxes: {boxes[idx]}, txts: {txts[idx]}\")\n",
    "\n",
    "# 한글 또는 영어, 숫자 txt만 포함된 box로 재구성\n",
    "boxes = [boxes[idx] for idx in range(len(boxes)) if txts[idx].isalnum()]\n",
    "\n",
    "for idx in range(len(boxes)):\n",
    "    print(f\"boxes: {boxes[idx]}\")"
   ],
   "id": "a9dc41c91255c263",
   "outputs": [
    {
     "name": "stdout",
     "output_type": "stream",
     "text": [
      "boxes: [[84.0, 4.0], [152.0, 9.0], [150.0, 44.0], [82.0, 40.0]]\n",
      "boxes: [[159.0, 1.0], [216.0, 5.0], [213.0, 55.0], [156.0, 51.0]]\n",
      "boxes: [[230.0, 15.0], [357.0, 25.0], [354.0, 64.0], [227.0, 54.0]]\n",
      "boxes: [[373.0, 25.0], [471.0, 30.0], [469.0, 71.0], [371.0, 65.0]]\n",
      "boxes: [[89.0, 63.0], [181.0, 70.0], [177.0, 120.0], [86.0, 113.0]]\n",
      "boxes: [[201.0, 80.0], [261.0, 80.0], [261.0, 120.0], [201.0, 120.0]]\n",
      "boxes: [[282.0, 85.0], [385.0, 90.0], [383.0, 127.0], [281.0, 122.0]]\n",
      "boxes: [[74.0, 125.0], [171.0, 135.0], [167.0, 176.0], [69.0, 165.0]]\n",
      "boxes: [[201.0, 141.0], [304.0, 145.0], [303.0, 181.0], [199.0, 178.0]]\n",
      "boxes: [[324.0, 143.0], [411.0, 148.0], [409.0, 190.0], [321.0, 184.0]]\n",
      "boxes: [[74.0, 183.0], [134.0, 183.0], [134.0, 245.0], [74.0, 245.0]]\n",
      "boxes: [[142.0, 199.0], [205.0, 202.0], [204.0, 238.0], [140.0, 235.0]]\n",
      "boxes: [[217.0, 202.0], [392.0, 202.0], [392.0, 252.0], [217.0, 252.0]]\n",
      "boxes: [[405.0, 212.0], [488.0, 216.0], [485.0, 259.0], [403.0, 255.0]]\n",
      "boxes: [[74.0, 257.0], [190.0, 262.0], [188.0, 302.0], [72.0, 297.0]]\n",
      "boxes: [[213.0, 264.0], [355.0, 268.0], [354.0, 306.0], [212.0, 303.0]]\n",
      "boxes: [[370.0, 274.0], [432.0, 278.0], [429.0, 313.0], [368.0, 308.0]]\n",
      "boxes: [[446.0, 272.0], [540.0, 275.0], [539.0, 317.0], [445.0, 314.0]]\n",
      "boxes: [[69.0, 318.0], [142.0, 322.0], [140.0, 361.0], [67.0, 356.0]]\n",
      "boxes: [[59.0, 380.0], [119.0, 380.0], [119.0, 420.0], [59.0, 420.0]]\n",
      "boxes: [[132.0, 382.0], [283.0, 387.0], [281.0, 423.0], [131.0, 419.0]]\n"
     ]
    }
   ],
   "execution_count": 25
  },
  {
   "metadata": {
    "ExecuteTime": {
     "end_time": "2025-03-19T02:10:11.421080Z",
     "start_time": "2025-03-19T02:10:10.717010Z"
    }
   },
   "cell_type": "code",
   "source": "!pip install --upgrade pip",
   "id": "fe5536aefc7063b3",
   "outputs": [
    {
     "name": "stdout",
     "output_type": "stream",
     "text": [
      "/bin/bash: warning: setlocale: LC_ALL: cannot change locale (en_US.UTF-8)\r\n",
      "Requirement already satisfied: pip in ./.venv/lib/python3.12/site-packages (25.0.1)\r\n"
     ]
    }
   ],
   "execution_count": 14
  },
  {
   "metadata": {
    "ExecuteTime": {
     "end_time": "2025-03-19T02:10:12.040728Z",
     "start_time": "2025-03-19T02:10:11.428579Z"
    }
   },
   "cell_type": "code",
   "source": "!pip install opencv-python",
   "id": "898890cb01f45a4d",
   "outputs": [
    {
     "name": "stdout",
     "output_type": "stream",
     "text": [
      "/bin/bash: warning: setlocale: LC_ALL: cannot change locale (en_US.UTF-8)\r\n",
      "Requirement already satisfied: opencv-python in ./.venv/lib/python3.12/site-packages (4.11.0.86)\r\n",
      "Requirement already satisfied: numpy>=1.21.2 in ./.venv/lib/python3.12/site-packages (from opencv-python) (2.2.3)\r\n"
     ]
    }
   ],
   "execution_count": 15
  },
  {
   "metadata": {
    "ExecuteTime": {
     "end_time": "2025-03-19T02:12:54.434538Z",
     "start_time": "2025-03-19T02:12:54.430546Z"
    }
   },
   "cell_type": "code",
   "source": [
    "import cv2\n",
    "import numpy as np\n",
    "\n",
    "# 1. cv2 imread로 다시 그레이스케일 이미지 획득\n",
    "image = cv2.imread('22341.jpg', cv2.IMREAD_GRAYSCALE)\n",
    "\n",
    "# 2. 연산 효율성을 올리기 위해 boxes를 numpy array로 변환\n",
    "boxes_np_arr = np.array([])\n",
    "if boxes and len(boxes) > 0:\n",
    "    boxes_np_arr = np.array([np.array(box) for box in boxes])\n",
    "\n",
    "    for box in boxes:\n",
    "        print(box)\n",
    "else:\n",
    "    print(\"No boxes\")"
   ],
   "id": "121b44dda1bea524",
   "outputs": [
    {
     "name": "stdout",
     "output_type": "stream",
     "text": [
      "[[84.0, 4.0], [152.0, 9.0], [150.0, 44.0], [82.0, 40.0]]\n",
      "[[159.0, 1.0], [216.0, 5.0], [213.0, 55.0], [156.0, 51.0]]\n",
      "[[230.0, 15.0], [357.0, 25.0], [354.0, 64.0], [227.0, 54.0]]\n",
      "[[373.0, 25.0], [471.0, 30.0], [469.0, 71.0], [371.0, 65.0]]\n",
      "[[89.0, 63.0], [181.0, 70.0], [177.0, 120.0], [86.0, 113.0]]\n",
      "[[201.0, 80.0], [261.0, 80.0], [261.0, 120.0], [201.0, 120.0]]\n",
      "[[282.0, 85.0], [385.0, 90.0], [383.0, 127.0], [281.0, 122.0]]\n",
      "[[74.0, 125.0], [171.0, 135.0], [167.0, 176.0], [69.0, 165.0]]\n",
      "[[201.0, 141.0], [304.0, 145.0], [303.0, 181.0], [199.0, 178.0]]\n",
      "[[324.0, 143.0], [411.0, 148.0], [409.0, 190.0], [321.0, 184.0]]\n",
      "[[74.0, 183.0], [134.0, 183.0], [134.0, 245.0], [74.0, 245.0]]\n",
      "[[142.0, 199.0], [205.0, 202.0], [204.0, 238.0], [140.0, 235.0]]\n",
      "[[217.0, 202.0], [392.0, 202.0], [392.0, 252.0], [217.0, 252.0]]\n",
      "[[405.0, 212.0], [488.0, 216.0], [485.0, 259.0], [403.0, 255.0]]\n",
      "[[74.0, 257.0], [190.0, 262.0], [188.0, 302.0], [72.0, 297.0]]\n",
      "[[213.0, 264.0], [355.0, 268.0], [354.0, 306.0], [212.0, 303.0]]\n",
      "[[370.0, 274.0], [432.0, 278.0], [429.0, 313.0], [368.0, 308.0]]\n",
      "[[446.0, 272.0], [540.0, 275.0], [539.0, 317.0], [445.0, 314.0]]\n",
      "[[69.0, 318.0], [142.0, 322.0], [140.0, 361.0], [67.0, 356.0]]\n",
      "[[59.0, 380.0], [119.0, 380.0], [119.0, 420.0], [59.0, 420.0]]\n",
      "[[132.0, 382.0], [283.0, 387.0], [281.0, 423.0], [131.0, 419.0]]\n"
     ]
    }
   ],
   "execution_count": 26
  },
  {
   "metadata": {
    "ExecuteTime": {
     "end_time": "2025-03-19T02:14:03.152367Z",
     "start_time": "2025-03-19T02:14:02.964916Z"
    }
   },
   "cell_type": "code",
   "source": [
    "# 3. 각 box = bounding box\n",
    "# bounding box 영역 안에 있는 각 영역을 Crop해서 새로운 이미지로 추출한다\n",
    "croped_images = []\n",
    "for idx, box in enumerate(boxes_np_arr):\n",
    "    # box 점 정렬\n",
    "    rect = np.zeros((4, 2), dtype=\"float32\")\n",
    "    s = box.sum(axis=1) # 네 좌표의 합\n",
    "    diff = np.diff(box, axis=1) # 네 좌표의 차이\n",
    "    rect[0] = box[np.argmin(s)] # 좌상단 좌표\n",
    "    rect[2] = box[np.argmax(s)] # 우하단 좌표\n",
    "    rect[1] = box[np.argmin(diff)] # 우상단 좌표\n",
    "    rect[3] = box[np.argmax(diff)] # 좌하단 좌표\n",
    "\n",
    "    # rect = [ 좌상, 우상, 우하, 좌하 ]\n",
    "\n",
    "    # 네 꼭짓점 좌표를 numpy array로 변환\n",
    "    # 이때, 검출 영역이 너무 Fit하게 되어있어서 +10을 해준다\n",
    "    offset = 10\n",
    "    image_height, image_width = image.shape[:2]\n",
    "    image_height -= 1\n",
    "    image_width -= 1\n",
    "\n",
    "    # rect[0] = 좌상단\n",
    "    x1 = max(0, rect[0][0] - offset)\n",
    "    y1 = max(0, rect[0][1] - offset)\n",
    "    # rect[1] = 우상단\n",
    "    x2 = min(rect[1][0] + offset, image_width)\n",
    "    y2 = max(0, rect[1][1] - offset)\n",
    "    # rect[2] = 우하단\n",
    "    x3 = min(rect[2][0] + offset, image_width)\n",
    "    y3 = min(rect[2][1] + offset, image_height)\n",
    "    # rect[3] = 좌하단\n",
    "    x4 = max(0, rect[3][0] - offset)\n",
    "    y4 = min(rect[3][1] + offset, image_height)\n",
    "    pts = np.array(\n",
    "        [\n",
    "            [x1, y1],\n",
    "            [x2, y2],\n",
    "            [x3, y3],\n",
    "            [x4, y4]\n",
    "        ],\n",
    "        dtype=\"float32\"\n",
    "    )\n",
    "\n",
    "    # 네 좌표를 바탕으로 이미지의 너비 및 높이 계산\n",
    "    widthA = np.sqrt((pts[2][0] - pts[3][0])**2 + (pts[2][1] - pts[3][1])**2)\n",
    "    widthB = np.sqrt((pts[1][0] - pts[0][0])**2 + (pts[1][1] - pts[0][1])**2)\n",
    "    maxWidth = max(int(widthA), int(widthB))\n",
    "\n",
    "    heightA = np.sqrt((pts[1][0] - pts[2][0])**2 + (pts[1][1] - pts[2][1])**2)\n",
    "    heightB = np.sqrt((pts[0][0] - pts[3][0])**2 + (pts[0][1] - pts[3][1])**2)\n",
    "    maxHeight = max(int(heightA), int(heightB))\n",
    "\n",
    "    # print(maxWidth, maxHeight)\n",
    "\n",
    "    # 출력될 이미지 좌표 설정\n",
    "    dst = np.array(\n",
    "        [\n",
    "            [0, 0],\n",
    "            [maxWidth - 1, 0],\n",
    "            [maxWidth - 1, maxHeight - 1],\n",
    "            [0, maxHeight - 1]\n",
    "        ],\n",
    "        dtype=\"float32\"\n",
    "    )\n",
    "\n",
    "    # Perspective Transformation\n",
    "    M = cv2.getPerspectiveTransform(pts, dst)\n",
    "    warped = cv2.warpPerspective(image, M, (maxWidth, maxHeight))\n",
    "\n",
    "    # 음영 제거 -> 모폴로지 연산\n",
    "    kernel_size = 150\n",
    "    kernel = cv2.getStructuringElement(cv2.MORPH_ELLIPSE, (kernel_size, kernel_size))\n",
    "\n",
    "    background = cv2.morphologyEx(warped, cv2.MORPH_OPEN, kernel)\n",
    "    gray_minus_bg = cv2.subtract(warped, background)\n",
    "    normed = cv2.normalize(gray_minus_bg, None, 0, 255, cv2.NORM_MINMAX)\n",
    "\n",
    "    croped_images.append(normed)\n",
    "    cv2.imwrite(f\"./cropped/croped_{idx}.png\", normed)"
   ],
   "id": "9b67038a40177bf",
   "outputs": [],
   "execution_count": 28
  },
  {
   "metadata": {
    "ExecuteTime": {
     "end_time": "2025-03-19T02:14:06.406465Z",
     "start_time": "2025-03-19T02:14:06.404251Z"
    }
   },
   "cell_type": "code",
   "source": "print(len(croped_images))",
   "id": "1f8e54b4c25794be",
   "outputs": [
    {
     "name": "stdout",
     "output_type": "stream",
     "text": [
      "21\n"
     ]
    }
   ],
   "execution_count": 29
  },
  {
   "metadata": {
    "ExecuteTime": {
     "end_time": "2025-03-19T02:16:54.594279Z",
     "start_time": "2025-03-19T02:16:54.587580Z"
    }
   },
   "cell_type": "code",
   "source": [
    "# 각 이미지 적응형 이진화 수행\n",
    "# 근데 이미지에 들어있는 글자가 검정색일수도 있고 흰색일수도 있어서\n",
    "# Crop된 이미지의 평균 픽셀값을 계산해서 평균값이 128보다 작으면 cv2.THRESH_BINARY_INV로 수행\n",
    "\n",
    "for idx, croped_image in enumerate(croped_images):\n",
    "\n",
    "    # Median 블러링\n",
    "    blurred = cv2.medianBlur(croped_image, 3)\n",
    "\n",
    "    # 적응형 이진화\n",
    "    # binarization = cv2.adaptiveThreshold(\n",
    "    #     blurred,\n",
    "    #     maxValue=255,\n",
    "    #     adaptiveMethod=cv2.ADAPTIVE_THRESH_MEAN_C,\n",
    "    #     thresholdType=cv2.THRESH_BINARY,  # 또는 THRESH_BINARY_INV\n",
    "    #     blockSize=21,   # 주변 픽셀 블록 크기\n",
    "    #     C=13     # 결과에서 뺄 상수\n",
    "    # )\n",
    "    _, binarization = cv2.threshold(blurred, 127, 255, cv2.THRESH_BINARY + cv2.THRESH_OTSU)\n",
    "\n",
    "    # 만약 배경이 반전되어 있다면 invert\n",
    "    if np.mean(binarization) < 128:\n",
    "        binarization = cv2.bitwise_not(binarization)\n",
    "\n",
    "    # kernel = np.ones((5, 5), np.uint8)\n",
    "    # opened = cv2.morphologyEx(binarization, cv2.MORPH_CLOSE, kernel)\n",
    "\n",
    "    cv2.imwrite(f\"./character/character_{idx}.png\", binarization)\n"
   ],
   "id": "23d69b788df2a1bc",
   "outputs": [],
   "execution_count": 31
  },
  {
   "metadata": {
    "ExecuteTime": {
     "end_time": "2025-03-19T02:17:22.113984Z",
     "start_time": "2025-03-19T02:17:22.097026Z"
    }
   },
   "cell_type": "code",
   "source": [
    "import os\n",
    "\n",
    "# Load all images from the character directory\n",
    "binarizationed_images = []\n",
    "character_dir = \"./character/\"\n",
    "for filename in sorted(os.listdir(character_dir)):\n",
    "    if filename.endswith((\".png\", \".jpg\", \".jpeg\")):  # Correct way to check multiple extensions\n",
    "        img_path = os.path.join(character_dir, filename)\n",
    "        # Load as grayscale directly\n",
    "        img = cv2.imread(img_path, cv2.IMREAD_GRAYSCALE)\n",
    "        _, thresh = cv2.threshold(img, 0, 255, cv2.THRESH_BINARY + cv2.THRESH_OTSU)\n",
    "        thresh_inv = cv2.bitwise_not(thresh)\n",
    "\n",
    "        if thresh_inv is not None:\n",
    "            binarizationed_images.append(thresh_inv)\n",
    "\n",
    "print(f\"Loaded {len(binarizationed_images)} images\")\n",
    "\n",
    "for idx, image in enumerate(binarizationed_images):\n",
    "    contours, hierarchy = cv2.findContours(\n",
    "        image,\n",
    "        cv2.RETR_EXTERNAL,\n",
    "        cv2.CHAIN_APPROX_SIMPLE\n",
    "    )\n",
    "\n",
    "    # 외곽선 기반으로 각 글자 이미지 추출\n",
    "    for contour in contours:\n",
    "        x, y, w, h = cv2.boundingRect(contour)\n",
    "\n",
    "        print(f\"Contour: {x}, {y}, {w}, {h}\")\n",
    "\n",
    "        # 글자 이미지 추출 및 검정색으로 다시 변환\n",
    "        character = image[y:y+h, x:x+w]\n",
    "        character = cv2.bitwise_not(character)\n",
    "        cv2.imwrite(f\"./final/character_{idx}_{x}_{y}_{w}_{h}.png\", character)\n"
   ],
   "id": "373274964ece0a06",
   "outputs": [
    {
     "name": "stdout",
     "output_type": "stream",
     "text": [
      "Loaded 21 images\n",
      "Contour: 51, 30, 16, 5\n",
      "Contour: 69, 17, 6, 24\n",
      "Contour: 39, 13, 23, 24\n",
      "Contour: 14, 11, 21, 24\n",
      "Contour: 22, 35, 21, 15\n",
      "Contour: 49, 33, 14, 18\n",
      "Contour: 42, 26, 19, 6\n",
      "Contour: 41, 12, 16, 14\n",
      "Contour: 16, 9, 25, 26\n",
      "Contour: 22, 49, 18, 14\n",
      "Contour: 46, 45, 17, 19\n",
      "Contour: 18, 37, 41, 9\n",
      "Contour: 79, 34, 1, 2\n",
      "Contour: 18, 17, 37, 24\n",
      "Contour: 62, 18, 10, 24\n",
      "Contour: 13, 16, 21, 21\n",
      "Contour: 36, 14, 25, 26\n",
      "Contour: 164, 38, 11, 16\n",
      "Contour: 145, 38, 13, 14\n",
      "Contour: 163, 32, 14, 4\n",
      "Contour: 132, 31, 12, 14\n",
      "Contour: 130, 25, 13, 3\n",
      "Contour: 88, 24, 25, 22\n",
      "Contour: 47, 24, 16, 15\n",
      "Contour: 70, 23, 16, 19\n",
      "Contour: 65, 23, 7, 21\n",
      "Contour: 113, 22, 12, 24\n",
      "Contour: 152, 21, 9, 15\n",
      "Contour: 31, 21, 13, 26\n",
      "Contour: 15, 20, 21, 18\n",
      "Contour: 131, 18, 13, 3\n",
      "Contour: 165, 17, 13, 11\n",
      "Contour: 37, 27, 13, 14\n",
      "Contour: 74, 26, 10, 4\n",
      "Contour: 83, 21, 7, 20\n",
      "Contour: 52, 21, 23, 20\n",
      "Contour: 14, 14, 27, 35\n",
      "Contour: 118, 44, 1, 1\n",
      "Contour: 14, 36, 24, 13\n",
      "Contour: 38, 33, 17, 15\n",
      "Contour: 14, 28, 18, 14\n",
      "Contour: 59, 22, 18, 20\n",
      "Contour: 87, 21, 26, 20\n",
      "Contour: 81, 21, 5, 22\n",
      "Contour: 118, 19, 5, 24\n",
      "Contour: 35, 14, 18, 17\n",
      "Contour: 12, 12, 18, 13\n",
      "Contour: 133, 39, 14, 8\n",
      "Contour: 52, 33, 14, 15\n",
      "Contour: 67, 23, 17, 15\n",
      "Contour: 87, 22, 8, 20\n",
      "Contour: 12, 21, 21, 22\n",
      "Contour: 121, 20, 12, 16\n",
      "Contour: 94, 20, 28, 27\n",
      "Contour: 130, 18, 19, 21\n",
      "Contour: 40, 18, 26, 22\n",
      "Contour: 97, 11, 14, 9\n",
      "Contour: 49, 10, 12, 14\n",
      "Contour: 46, 28, 17, 6\n",
      "Contour: 62, 18, 6, 24\n",
      "Contour: 16, 17, 31, 22\n",
      "Contour: 46, 14, 13, 14\n",
      "Contour: 65, 24, 5, 21\n",
      "Contour: 93, 23, 8, 22\n",
      "Contour: 74, 23, 20, 17\n",
      "Contour: 14, 13, 48, 36\n",
      "Contour: 0, 47, 2, 2\n",
      "Contour: 86, 37, 4, 9\n",
      "Contour: 29, 34, 16, 10\n",
      "Contour: 59, 16, 16, 30\n",
      "Contour: 13, 16, 19, 20\n",
      "Contour: 60, 15, 10, 3\n",
      "Contour: 49, 13, 12, 19\n",
      "Contour: 38, 13, 9, 21\n",
      "Contour: 51, 32, 13, 14\n",
      "Contour: 16, 29, 21, 16\n",
      "Contour: 39, 23, 10, 22\n",
      "Contour: 16, 20, 18, 5\n",
      "Contour: 52, 18, 14, 17\n",
      "Contour: 19, 14, 12, 3\n",
      "Contour: 54, 34, 16, 13\n",
      "Contour: 112, 29, 22, 19\n",
      "Contour: 77, 24, 11, 12\n",
      "Contour: 14, 23, 18, 19\n",
      "Contour: 39, 19, 4, 23\n",
      "Contour: 73, 17, 14, 5\n",
      "Contour: 88, 15, 18, 32\n",
      "Contour: 115, 13, 14, 13\n",
      "Contour: 46, 13, 23, 19\n",
      "Contour: 75, 11, 12, 4\n",
      "Contour: 130, 22, 14, 15\n",
      "Contour: 119, 21, 7, 23\n",
      "Contour: 147, 20, 13, 24\n",
      "Contour: 37, 19, 16, 18\n",
      "Contour: 70, 15, 16, 5\n",
      "Contour: 11, 15, 25, 31\n",
      "Contour: 31, 14, 8, 22\n",
      "Contour: 58, 13, 57, 33\n",
      "Contour: 73, 9, 9, 4\n",
      "Contour: 45, 32, 14, 17\n",
      "Contour: 42, 25, 18, 5\n",
      "Contour: 88, 21, 17, 27\n",
      "Contour: 63, 20, 20, 20\n",
      "Contour: 14, 16, 15, 15\n",
      "Contour: 17, 15, 23, 30\n",
      "Contour: 42, 12, 15, 12\n",
      "Contour: 70, 32, 15, 14\n",
      "Contour: 91, 26, 5, 26\n",
      "Contour: 36, 18, 30, 35\n",
      "Contour: 14, 13, 22, 42\n",
      "Contour: 45, 29, 22, 17\n",
      "Contour: 16, 18, 18, 18\n",
      "Contour: 36, 17, 7, 29\n",
      "Contour: 48, 14, 13, 13\n",
      "Contour: 72, 20, 28, 15\n",
      "Contour: 107, 17, 4, 22\n",
      "Contour: 13, 16, 28, 19\n",
      "Contour: 43, 11, 30, 33\n",
      "Contour: 90, 34, 14, 14\n",
      "Contour: 84, 28, 18, 5\n",
      "Contour: 16, 25, 17, 20\n",
      "Contour: 76, 20, 5, 23\n",
      "Contour: 48, 20, 24, 21\n",
      "Contour: 85, 15, 14, 10\n",
      "Contour: 41, 15, 5, 29\n",
      "Contour: 43, 35, 16, 5\n",
      "Contour: 12, 19, 19, 16\n",
      "Contour: 79, 18, 10, 22\n",
      "Contour: 34, 16, 10, 24\n",
      "Contour: 60, 13, 18, 24\n",
      "Contour: 43, 13, 14, 17\n",
      "Contour: 94, 12, 18, 35\n",
      "Contour: 88, 11, 16, 15\n",
      "Contour: 42, 31, 14, 19\n",
      "Contour: 90, 24, 4, 21\n",
      "Contour: 63, 24, 24, 19\n",
      "Contour: 54, 14, 7, 15\n",
      "Contour: 37, 14, 16, 15\n",
      "Contour: 12, 11, 24, 36\n"
     ]
    }
   ],
   "execution_count": 32
  },
  {
   "metadata": {
    "ExecuteTime": {
     "end_time": "2025-03-19T02:10:12.578006Z",
     "start_time": "2025-03-19T02:10:12.576452Z"
    }
   },
   "cell_type": "code",
   "source": "",
   "id": "f583861e4b752d6e",
   "outputs": [],
   "execution_count": null
  }
 ],
 "metadata": {
  "kernelspec": {
   "display_name": "Python 3",
   "language": "python",
   "name": "python3"
  },
  "language_info": {
   "codemirror_mode": {
    "name": "ipython",
    "version": 2
   },
   "file_extension": ".py",
   "mimetype": "text/x-python",
   "name": "python",
   "nbconvert_exporter": "python",
   "pygments_lexer": "ipython2",
   "version": "2.7.6"
  }
 },
 "nbformat": 4,
 "nbformat_minor": 5
}
