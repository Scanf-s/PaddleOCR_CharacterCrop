{
 "cells": [
  {
   "cell_type": "markdown",
   "id": "69ddc8b47240588",
   "metadata": {},
   "source": [
    "# Paddle OCR을 실행해보자"
   ]
  },
  {
   "cell_type": "code",
   "execution_count": null,
   "id": "1f7ea4686c2182a",
   "metadata": {
    "ExecuteTime": {
     "end_time": "2025-03-19T15:06:24.952191Z",
     "start_time": "2025-03-19T15:06:24.330987Z"
    }
   },
   "outputs": [],
   "source": [
    "# CUDA-11.8이 설치되어 있는 GPU 사용 가능한 컴퓨터기 때문에 gpu 버전 다운로드\n",
    "# !pip install paddlepaddle-gpu\n",
    "# %pip install paddlepaddle-gpu"
   ]
  },
  {
   "cell_type": "code",
   "execution_count": null,
   "id": "86d0cc679a3a8b5f",
   "metadata": {
    "ExecuteTime": {
     "end_time": "2025-03-19T15:06:25.665774Z",
     "start_time": "2025-03-19T15:06:24.957041Z"
    }
   },
   "outputs": [],
   "source": [
    "# PaddleOCR whl package 설치\n",
    "# !pip install \"paddleocr>=2.0.1\"\n",
    "# %pip install paddleocr"
   ]
  },
  {
   "cell_type": "markdown",
   "id": "6f7a194dc358c8ea",
   "metadata": {},
   "source": [
    "# 한번 사용해보도록 하자\n",
    "\n",
    "실행하기 전, 컴퓨터에 cuDNN이 설치되어있는지 확인하자. 없다면 설치\n",
    "\n",
    "CUDA 11.8 사용 기준으로\n",
    "\n",
    "wget https://developer.download.nvidia.com/compute/cuda/repos/ubuntu2204/x86_64/cuda-keyring_1.1-1_all.deb\n",
    "sudo dpkg -i cuda-keyring_1.1-1_all.deb\n",
    "sudo apt-get update\n",
    "sudo apt-get -y install cudnn\n",
    "sudo apt-get -y install cudnn-cuda-11"
   ]
  },
  {
   "cell_type": "code",
   "execution_count": null,
   "id": "8680603255355a2e",
   "metadata": {
    "ExecuteTime": {
     "end_time": "2025-03-19T15:06:25.709911Z",
     "start_time": "2025-03-19T15:06:25.706577Z"
    }
   },
   "outputs": [],
   "source": [
    "import paddle\n",
    "print(f\"Is compiled with CUDA? {paddle.is_compiled_with_cuda()}\")\n",
    "print(f\"CUDA devices:, {paddle.device.cuda.device_count()}\")"
   ]
  },
  {
   "cell_type": "code",
   "execution_count": null,
   "id": "a41f03112068d97b",
   "metadata": {
    "ExecuteTime": {
     "end_time": "2025-03-19T15:06:25.752433Z",
     "start_time": "2025-03-19T15:06:25.749470Z"
    }
   },
   "outputs": [],
   "source": [
    "# 콘솔에 아래 명령 입력\n",
    "# paddleocr --image_dir .책표지_기타_000001.jpg --lang=korean"
   ]
  },
  {
   "cell_type": "code",
   "execution_count": null,
   "id": "2293139ffa7f2462",
   "metadata": {
    "ExecuteTime": {
     "end_time": "2025-03-19T15:06:28.733811Z",
     "start_time": "2025-03-19T15:06:25.795203Z"
    }
   },
   "outputs": [],
   "source": [
    "from paddleocr import PaddleOCR,draw_ocr\n",
    "\n",
    "ocr = PaddleOCR(lang=\"korean\")"
   ]
  },
  {
   "cell_type": "code",
   "execution_count": null,
   "id": "dee77a486932d110",
   "metadata": {
    "ExecuteTime": {
     "end_time": "2025-03-19T15:06:28.900051Z",
     "start_time": "2025-03-19T15:06:28.770592Z"
    }
   },
   "outputs": [],
   "source": [
    "# 코드로 실행하자면?\n",
    "\n",
    "image_path = 'inputs/case2.png'\n",
    "result = ocr.ocr(image_path, cls=True)\n",
    "\n",
    "\n",
    "# draw result\n",
    "from PIL import Image\n",
    "result = result[0]\n",
    "image = Image.open(image_path).convert('RGB')\n",
    "boxes = [line[0] for line in result]\n",
    "txts = [line[1][0] for line in result]\n",
    "scores = [line[1][1] for line in result]\n",
    "im_show = draw_ocr(image, boxes, txts, scores, font_path='MaruBuri-Regular.ttf')\n",
    "im_show = Image.fromarray(im_show)\n",
    "im_show.save('paddle_ocr_result.png')\n",
    "im_show.show()\n",
    "\n",
    "# 한글 또는 영어, 숫자 txt만 포함된 box로 재구성\n",
    "boxes = [boxes[idx] for idx in range(len(boxes)) if txts[idx]]\n",
    "\n",
    "for idx in range(len(boxes)):\n",
    "    print(f\"boxes: {boxes[idx]}\")"
   ]
  },
  {
   "cell_type": "code",
   "execution_count": null,
   "id": "fe5536aefc7063b3",
   "metadata": {
    "ExecuteTime": {
     "end_time": "2025-03-19T15:06:29.690703Z",
     "start_time": "2025-03-19T15:06:28.979622Z"
    }
   },
   "outputs": [],
   "source": [
    "# !pip install --upgrade pip\n",
    "# %pip install --upgrade pip"
   ]
  },
  {
   "cell_type": "code",
   "execution_count": null,
   "id": "898890cb01f45a4d",
   "metadata": {
    "ExecuteTime": {
     "end_time": "2025-03-19T15:06:30.350997Z",
     "start_time": "2025-03-19T15:06:29.728553Z"
    }
   },
   "outputs": [],
   "source": [
    "# !pip install opencv-python\n",
    "# %pip install opencv-python"
   ]
  },
  {
   "cell_type": "code",
   "execution_count": null,
   "id": "121b44dda1bea524",
   "metadata": {
    "ExecuteTime": {
     "end_time": "2025-03-19T15:06:30.390376Z",
     "start_time": "2025-03-19T15:06:30.385455Z"
    }
   },
   "outputs": [],
   "source": [
    "import cv2\n",
    "import numpy as np\n",
    "\n",
    "# 1. cv2 imread로 그레이스케일 이미지 획득\n",
    "image = cv2.imread(image_path, cv2.IMREAD_GRAYSCALE)\n",
    "\n",
    "# 2. 연산 효율성을 올리기 위해 boxes를 numpy array로 변환\n",
    "boxes_np_arr = np.array([])\n",
    "if boxes and len(boxes) > 0:\n",
    "    boxes_np_arr = np.array([np.array(box) for box in boxes])\n",
    "\n",
    "    for box in boxes:\n",
    "        print(box)\n",
    "else:\n",
    "    print(\"No boxes\")"
   ]
  },
  {
   "cell_type": "code",
   "execution_count": null,
   "id": "9b67038a40177bf",
   "metadata": {
    "ExecuteTime": {
     "end_time": "2025-03-19T15:06:30.462454Z",
     "start_time": "2025-03-19T15:06:30.427171Z"
    }
   },
   "outputs": [],
   "source": [
    "# 3. 각 box = bounding box\n",
    "# bounding box 영역 안에 있는 각 영역을 Crop해서 새로운 이미지로 추출한다\n",
    "import os\n",
    "import shutil\n",
    "\n",
    "current_path = os.getcwd()\n",
    "shutil.rmtree(current_path + \"/cropped\", ignore_errors=True)\n",
    "os.makedirs(current_path + \"/cropped\", exist_ok=True)\n",
    "croped_images = []\n",
    "\n",
    "for idx, box in enumerate(boxes_np_arr):\n",
    "    # box 점 정렬\n",
    "    rect = np.zeros((4, 2), dtype=\"float32\")\n",
    "    s = box.sum(axis=1) # 네 좌표의 합\n",
    "    diff = np.diff(box, axis=1) # 네 좌표의 차이\n",
    "    rect[0] = box[np.argmin(s)] # 좌상단 좌표\n",
    "    rect[2] = box[np.argmax(s)] # 우하단 좌표\n",
    "    rect[1] = box[np.argmin(diff)] # 우상단 좌표\n",
    "    rect[3] = box[np.argmax(diff)] # 좌하단 좌표\n",
    "\n",
    "    # rect = [ 좌상, 우상, 우하, 좌하 ]\n",
    "\n",
    "    # 네 꼭짓점 좌표를 numpy array로 변환\n",
    "    # 이때, 검출 영역이 너무 Fit하게 되어있어서 +5을 해준다\n",
    "    offset = 5\n",
    "    image_height, image_width = image.shape[:2]\n",
    "    image_height -= 1\n",
    "    image_width -= 1\n",
    "\n",
    "    # rect[0] = 좌상단\n",
    "    x1 = max(0, rect[0][0] - offset)\n",
    "    y1 = max(0, rect[0][1] - offset)\n",
    "    # rect[1] = 우상단\n",
    "    x2 = min(rect[1][0] + offset, image_width)\n",
    "    y2 = max(0, rect[1][1] - offset)\n",
    "    # rect[2] = 우하단\n",
    "    x3 = min(rect[2][0] + offset, image_width)\n",
    "    y3 = min(rect[2][1] + offset, image_height)\n",
    "    # rect[3] = 좌하단\n",
    "    x4 = max(0, rect[3][0] - offset)\n",
    "    y4 = min(rect[3][1] + offset, image_height)\n",
    "    pts = np.array(\n",
    "        [\n",
    "            [x1, y1],\n",
    "            [x2, y2],\n",
    "            [x3, y3],\n",
    "            [x4, y4]\n",
    "        ],\n",
    "        dtype=\"float32\"\n",
    "    )\n",
    "\n",
    "    # 네 좌표를 바탕으로 이미지의 너비 및 높이 계산\n",
    "    widthA = np.sqrt((pts[2][0] - pts[3][0])**2 + (pts[2][1] - pts[3][1])**2)\n",
    "    widthB = np.sqrt((pts[1][0] - pts[0][0])**2 + (pts[1][1] - pts[0][1])**2)\n",
    "    maxWidth = max(int(widthA), int(widthB))\n",
    "\n",
    "    heightA = np.sqrt((pts[1][0] - pts[2][0])**2 + (pts[1][1] - pts[2][1])**2)\n",
    "    heightB = np.sqrt((pts[0][0] - pts[3][0])**2 + (pts[0][1] - pts[3][1])**2)\n",
    "    maxHeight = max(int(heightA), int(heightB))\n",
    "\n",
    "    # 출력될 이미지 좌표 설정\n",
    "    dst = np.array(\n",
    "        [\n",
    "            [0, 0],\n",
    "            [maxWidth - 1, 0],\n",
    "            [maxWidth - 1, maxHeight - 1],\n",
    "            [0, maxHeight - 1]\n",
    "        ],\n",
    "        dtype=\"float32\"\n",
    "    )\n",
    "\n",
    "    # Perspective Transformation\n",
    "    M = cv2.getPerspectiveTransform(pts, dst)\n",
    "    warped = cv2.warpPerspective(image, M, (maxWidth, maxHeight))\n",
    "\n",
    "    # # 음영 제거 -> 모폴로지 연산\n",
    "    # kernel_size = 150\n",
    "    # kernel = cv2.getStructuringElement(cv2.MORPH_ELLIPSE, (kernel_size, kernel_size))\n",
    "\n",
    "    # background = cv2.morphologyEx(warped, cv2.MORPH_OPEN, kernel)\n",
    "    # gray_minus_bg = cv2.subtract(warped, background)\n",
    "    # normed = cv2.normalize(gray_minus_bg, None, 0, 255, cv2.NORM_MINMAX)\n",
    "\n",
    "    croped_images.append(warped)\n",
    "    cv2.imwrite(f\"./cropped/croped_{idx}.png\", warped)\n",
    "\n",
    "print(f\"# of Cropped Images: {len(croped_images)}\")"
   ]
  },
  {
   "cell_type": "code",
   "execution_count": null,
   "id": "3988b2aa",
   "metadata": {},
   "outputs": [],
   "source": [
    "\n",
    "shutil.rmtree(current_path + \"/projection\", ignore_errors=True)\n",
    "os.makedirs(current_path + \"/projection\", exist_ok=True)\n",
    "vertical_projected_images = []\n",
    "    \n",
    "for idx, image in sorted(enumerate(croped_images)):\n",
    "    print(\"#\" * 50)\n",
    "    bin_img = cv2.threshold(image, 128, 255, cv2.THRESH_BINARY_INV)[1] # 흰색 글자로 변환\n",
    "    \n",
    "    vertical_sum = np.sum(bin_img, axis=0)  # 각 열의 픽셀 합계\n",
    "    print(f\"vertical_sum: {vertical_sum}\")\n",
    "    \n",
    "    columns = bin_img.shape[1] # 열의 개수\n",
    "    threshold_value = 2500 # 임계값\n",
    "    \n",
    "    start_col = 0\n",
    "    for col in range(columns): # 각 열마다 임계값 비교\n",
    "        if vertical_sum[col] <= threshold_value:\n",
    "            # [start_col ~ col-1] 구간을 하나의 글자로 추정\n",
    "            if col - start_col > 5:  # 폭이 너무 좁지 않도록 필터링\n",
    "                char_img = bin_img[:, max(0, start_col - offset):min(col + offset, columns)]\n",
    "                vertical_projected_images.append(char_img)\n",
    "                cv2.imwrite(f\"./projection/projection_{idx}_{start_col}_{col}.png\", cv2.bitwise_not(char_img))\n",
    "            start_col = col + 1\n",
    "\n",
    "print(len(vertical_projected_images))\n"
   ]
  },
  {
   "cell_type": "code",
   "execution_count": null,
   "id": "84918cff",
   "metadata": {},
   "outputs": [],
   "source": [
    "# 수직 투영으로 추출한 글자 이미지 크기가 20px 이상인 이미지만 선택\n",
    "shutil.rmtree(current_path + \"/best_size\", ignore_errors=True)\n",
    "os.makedirs(current_path + \"/best_size\", exist_ok=True)\n",
    "best_size_images = []\n",
    "for idx, image in enumerate(vertical_projected_images):\n",
    "    height, width = image.shape[:2]\n",
    "\n",
    "    if height < 20 or width < 20:\n",
    "        continue\n",
    "    \n",
    "    # gaussian blur\n",
    "    image = cv2.GaussianBlur(image, (5, 5), 0)\n",
    "    \n",
    "    cv2.imwrite(f\"./best_size/character_{idx}.png\", cv2.bitwise_not(image))\n",
    "    best_size_images.append(cv2.bitwise_not(image))\n"
   ]
  },
  {
   "cell_type": "code",
   "execution_count": null,
   "id": "f583861e4b752d6e",
   "metadata": {
    "ExecuteTime": {
     "end_time": "2025-03-19T15:06:30.746511Z",
     "start_time": "2025-03-19T15:06:30.629140Z"
    }
   },
   "outputs": [],
   "source": [
    "import re\n",
    "\n",
    "shutil.rmtree(current_path + \"/final\", ignore_errors=True)\n",
    "os.makedirs(current_path + \"/final\", exist_ok=True)\n",
    "save_dir = current_path + \"/final/\"\n",
    "best_size_dir = current_path + \"/best_size/\"\n",
    "result_cnt = 0\n",
    "result_images = []\n",
    "for idx, filename in enumerate(sorted(os.listdir(best_size_dir))):\n",
    "    if filename.endswith((\".png\", \".jpg\", \".jpeg\")):\n",
    "        img = cv2.imread(f\"{best_size_dir}\" + filename, cv2.IMREAD_GRAYSCALE)\n",
    "        result = ocr.ocr(img, det=False, rec=True, cls=False)\n",
    "\n",
    "        if not result or not result[0] or not result[0][0]: # 인식 못하면 continue\n",
    "            continue\n",
    "\n",
    "        text = result[0][0][0]\n",
    "        confidence = result[0][0][1]\n",
    "\n",
    "        if re.search(r\"[^가-힣]\", text): # 한글이 아닌 문자가 있는 경우 continue\n",
    "            continue\n",
    "\n",
    "        if text and len(text) == 1 and confidence > 0.9:\n",
    "            result_cnt += 1\n",
    "            print(f\"#### {idx}th // Character: {text}, Confidence: {confidence}\")\n",
    "            result_images.append((img, text))\n",
    "\n",
    "\n",
    "for image, text in result_images:\n",
    "    cv2.imwrite(save_dir + f\"{text}.png\", image)\n"
   ]
  }
 ],
 "metadata": {
  "kernelspec": {
   "display_name": "paddlenet",
   "language": "python",
   "name": "python3"
  },
  "language_info": {
   "codemirror_mode": {
    "name": "ipython",
    "version": 3
   },
   "file_extension": ".py",
   "mimetype": "text/x-python",
   "name": "python",
   "nbconvert_exporter": "python",
   "pygments_lexer": "ipython3",
   "version": "3.12.9"
  }
 },
 "nbformat": 4,
 "nbformat_minor": 5
}
